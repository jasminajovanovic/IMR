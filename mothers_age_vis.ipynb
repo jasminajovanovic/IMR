{
 "cells": [
  {
   "cell_type": "code",
   "execution_count": null,
   "metadata": {},
   "outputs": [],
   "source": [
    "#\n",
    "# Logan Caldwell\n",
    "#\n",
    "\n",
    "%matplotlib notebook\n",
    "\n",
    "import matplotlib.pyplot as plt\n",
    "import pandas as pd\n",
    "import numpy as np\n",
    "import random\n",
    "\n",
    "mothers_age_state_csv = \"datafiles/mothers_age_state_grouped.csv\"\n",
    "\n",
    "df_mothers_age_state = pd.read_csv(mothers_age_state_csv)\n",
    "\n",
    "df_mothers_age_state.head(15)\n"
   ]
  },
  {
   "cell_type": "code",
   "execution_count": null,
   "metadata": {},
   "outputs": [],
   "source": [
    "df_mothers_age_state.describe()\n",
    "\n",
    "### Dropna working correctly here??\n",
    "df_mothers_age_state.dropna(axis=0, how=\"any\")\n",
    "df_mothers_age_state[\"Age of Mother\"].unique()"
   ]
  },
  {
   "cell_type": "code",
   "execution_count": null,
   "metadata": {},
   "outputs": [],
   "source": [
    "df_mothers_age_state.mean()"
   ]
  },
  {
   "cell_type": "code",
   "execution_count": null,
   "metadata": {},
   "outputs": [],
   "source": [
    "ages_15_19 = df_mothers_age_state[df_mothers_age_state[\"Age of Mother\"] == \"15-19 years\"]\n",
    "ages_20_24 = df_mothers_age_state[df_mothers_age_state[\"Age of Mother\"] == \"20-24 years\"]\n",
    "ages_25_29 = df_mothers_age_state[df_mothers_age_state[\"Age of Mother\"] == \"25-29 years\"]\n",
    "ages_30_34 = df_mothers_age_state[df_mothers_age_state[\"Age of Mother\"] == \"30-34 years\"]\n",
    "ages_35_39 = df_mothers_age_state[df_mothers_age_state[\"Age of Mother\"] == \"35-39 years\"]\n",
    "ages_40_44 = df_mothers_age_state[df_mothers_age_state[\"Age of Mother\"] == \"40-44 years\"]\n",
    "\n",
    "ages_15_19[\"Death Rate\"] = ages_15_19[\"Death Rate\"].str.replace(\"\\s*\\(Unreliable\\)\", \"\")\n",
    "ages_20_24[\"Death Rate\"] = ages_20_24[\"Death Rate\"].str.replace(\"\\s*\\(Unreliable\\)\", \"\")\n",
    "ages_25_29[\"Death Rate\"] = ages_25_29[\"Death Rate\"].str.replace(\"\\s*\\(Unreliable\\)\", \"\")\n",
    "ages_30_34[\"Death Rate\"] = ages_30_34[\"Death Rate\"].str.replace(\"\\s*\\(Unreliable\\)\", \"\")\n",
    "ages_35_39[\"Death Rate\"] = ages_35_39[\"Death Rate\"].str.replace(\"\\s*\\(Unreliable\\)\", \"\")\n",
    "ages_40_44[\"Death Rate\"] = ages_40_44[\"Death Rate\"].str.replace(\"\\s*\\(Unreliable\\)\", \"\")"
   ]
  },
  {
   "cell_type": "code",
   "execution_count": null,
   "metadata": {},
   "outputs": [],
   "source": [
    "ages_15_19[\"Death Rate\"] = ages_15_19[\"Death Rate\"].astype(float)\n",
    "ages_20_24[\"Death Rate\"] = ages_20_24[\"Death Rate\"].astype(float)\n",
    "ages_25_29[\"Death Rate\"] = ages_25_29[\"Death Rate\"].astype(float)\n",
    "ages_30_34[\"Death Rate\"] = ages_30_34[\"Death Rate\"].astype(float)\n",
    "ages_35_39[\"Death Rate\"] = ages_35_39[\"Death Rate\"].astype(float)\n",
    "ages_40_44[\"Death Rate\"] = ages_40_44[\"Death Rate\"].astype(float)\n",
    "\n",
    "ages_15_19_IMR_mean = (ages_15_19[\"Death Rate\"].mean())\n",
    "ages_20_24_IMR_mean = (ages_20_24[\"Death Rate\"].mean())\n",
    "ages_25_29_IMR_mean = (ages_25_29[\"Death Rate\"].mean())\n",
    "ages_30_34_IMR_mean = (ages_30_34[\"Death Rate\"].mean())\n",
    "ages_35_39_IMR_mean = (ages_35_39[\"Death Rate\"].mean())\n",
    "ages_40_44_IMR_mean = (ages_40_44[\"Death Rate\"].mean())\n",
    "\n",
    "IMR_rate_means_by_age_list = [ages_15_19_IMR_mean,ages_20_24_IMR_mean,ages_25_29_IMR_mean,ages_30_34_IMR_mean,ages_35_39_IMR_mean,ages_40_44_IMR_mean]\n",
    "IMR_rate_means_by_age_list"
   ]
  },
  {
   "cell_type": "code",
   "execution_count": null,
   "metadata": {},
   "outputs": [],
   "source": [
    "df_mothers_age_state_means = df_mothers_age_state.mean()\n",
    "df_mothers_age_state_means.head()"
   ]
  },
  {
   "cell_type": "code",
   "execution_count": null,
   "metadata": {},
   "outputs": [],
   "source": [
    "df_mothers_age_state.set_index(\"State\")\n",
    "df_mothers_age_state_grouped = df_mothers_age_state.groupby(by=\"State\", group_keys=True,)\n",
    "df_mothers_age_state.mean()"
   ]
  },
  {
   "cell_type": "code",
   "execution_count": null,
   "metadata": {},
   "outputs": [],
   "source": [
    "age_ticks = [0,1,2,3,4,5]\n",
    "age_ranges_list = [\"15-19\", \"20-24\", \"25-29\", \"30-34\", \"35-39\", \"40-44\"]\n",
    "\n",
    "x=[0,1,2,3,4,5]"
   ]
  },
  {
   "cell_type": "code",
   "execution_count": null,
   "metadata": {},
   "outputs": [],
   "source": [
    "m_age_IMR_plot = plt.scatter(age_ranges_list, IMR_rate_means_by_age_list, )"
   ]
  },
  {
   "cell_type": "code",
   "execution_count": null,
   "metadata": {},
   "outputs": [],
   "source": [
    "plt.title(\"Mother's Age and Infant Mortality Rate\")\n",
    "plt.xlabel(\"Age of Mother\")\n",
    "plt.ylabel(\"Infant Mortality Rate (%)\")\n",
    "plt.grid()\n",
    "# plt.legend(loc=\"best\", labels=age_ranges_list)\n",
    "plt.xlim(-1,6)\n",
    "plt.ylim(0, max(IMR_rate_means_by_age_list)+2)\n",
    "plt.tight_layout()"
   ]
  },
  {
   "cell_type": "code",
   "execution_count": null,
   "metadata": {},
   "outputs": [],
   "source": [
    "plt.show()"
   ]
  },
  {
   "cell_type": "code",
   "execution_count": null,
   "metadata": {},
   "outputs": [],
   "source": [
    "plt.savefig(\"IMR_and_age_of_mother_plot\")"
   ]
  },
  {
   "cell_type": "code",
   "execution_count": null,
   "metadata": {},
   "outputs": [],
   "source": []
  },
  {
   "cell_type": "code",
   "execution_count": null,
   "metadata": {},
   "outputs": [],
   "source": []
  },
  {
   "cell_type": "code",
   "execution_count": null,
   "metadata": {},
   "outputs": [],
   "source": []
  }
 ],
 "metadata": {
  "kernelspec": {
   "display_name": "Python [conda env:PythonData]",
   "language": "python",
   "name": "pythondata"
  },
  "language_info": {
   "codemirror_mode": {
    "name": "ipython",
    "version": 3
   },
   "file_extension": ".py",
   "mimetype": "text/x-python",
   "name": "python",
   "nbconvert_exporter": "python",
   "pygments_lexer": "ipython3",
   "version": "3.7.1"
  }
 },
 "nbformat": 4,
 "nbformat_minor": 2
}
