{
 "cells": [
  {
   "cell_type": "code",
   "execution_count": 2,
   "metadata": {},
   "outputs": [],
   "source": [
    "import csv \n",
    "import pandas as pd\n",
    "import matplotlib.pyplot as plt"
   ]
  },
  {
   "cell_type": "code",
   "execution_count": 3,
   "metadata": {},
   "outputs": [
    {
     "data": {
      "text/html": [
       "<div>\n",
       "<style scoped>\n",
       "    .dataframe tbody tr th:only-of-type {\n",
       "        vertical-align: middle;\n",
       "    }\n",
       "\n",
       "    .dataframe tbody tr th {\n",
       "        vertical-align: top;\n",
       "    }\n",
       "\n",
       "    .dataframe thead th {\n",
       "        text-align: right;\n",
       "    }\n",
       "</style>\n",
       "<table border=\"1\" class=\"dataframe\">\n",
       "  <thead>\n",
       "    <tr style=\"text-align: right;\">\n",
       "      <th></th>\n",
       "      <th>Birth Weight Code</th>\n",
       "      <th>code</th>\n",
       "      <th>Deaths</th>\n",
       "      <th>Births</th>\n",
       "      <th>Death Rate Per 1,000</th>\n",
       "    </tr>\n",
       "  </thead>\n",
       "  <tbody>\n",
       "    <tr>\n",
       "      <th>0</th>\n",
       "      <td>499 grams or less</td>\n",
       "      <td>1</td>\n",
       "      <td>5473</td>\n",
       "      <td>6434</td>\n",
       "      <td>850.64</td>\n",
       "    </tr>\n",
       "    <tr>\n",
       "      <th>1</th>\n",
       "      <td>500 - 999 grams</td>\n",
       "      <td>2</td>\n",
       "      <td>5025</td>\n",
       "      <td>20442</td>\n",
       "      <td>245.82</td>\n",
       "    </tr>\n",
       "    <tr>\n",
       "      <th>2</th>\n",
       "      <td>1000 - 1499 grams</td>\n",
       "      <td>3</td>\n",
       "      <td>1379</td>\n",
       "      <td>29087</td>\n",
       "      <td>47.41</td>\n",
       "    </tr>\n",
       "    <tr>\n",
       "      <th>3</th>\n",
       "      <td>1500 - 1999 grams</td>\n",
       "      <td>4</td>\n",
       "      <td>1614</td>\n",
       "      <td>62880</td>\n",
       "      <td>25.67</td>\n",
       "    </tr>\n",
       "    <tr>\n",
       "      <th>4</th>\n",
       "      <td>2000 - 2499 grams</td>\n",
       "      <td>5</td>\n",
       "      <td>1965</td>\n",
       "      <td>203883</td>\n",
       "      <td>9.64</td>\n",
       "    </tr>\n",
       "    <tr>\n",
       "      <th>5</th>\n",
       "      <td>2500 - 2999 grams</td>\n",
       "      <td>6</td>\n",
       "      <td>2720</td>\n",
       "      <td>730726</td>\n",
       "      <td>3.72</td>\n",
       "    </tr>\n",
       "    <tr>\n",
       "      <th>6</th>\n",
       "      <td>3000 - 3499 grams</td>\n",
       "      <td>7</td>\n",
       "      <td>2956</td>\n",
       "      <td>1527728</td>\n",
       "      <td>1.93</td>\n",
       "    </tr>\n",
       "    <tr>\n",
       "      <th>7</th>\n",
       "      <td>3500 - 3999 grams</td>\n",
       "      <td>8</td>\n",
       "      <td>1418</td>\n",
       "      <td>1048489</td>\n",
       "      <td>1.35</td>\n",
       "    </tr>\n",
       "    <tr>\n",
       "      <th>8</th>\n",
       "      <td>4000 - 4499 grams</td>\n",
       "      <td>9</td>\n",
       "      <td>379</td>\n",
       "      <td>269872</td>\n",
       "      <td>1.40</td>\n",
       "    </tr>\n",
       "    <tr>\n",
       "      <th>9</th>\n",
       "      <td>4500 - 4999 grams</td>\n",
       "      <td>10</td>\n",
       "      <td>58</td>\n",
       "      <td>38264</td>\n",
       "      <td>1.52</td>\n",
       "    </tr>\n",
       "    <tr>\n",
       "      <th>10</th>\n",
       "      <td>5000 - 8165 grams</td>\n",
       "      <td>11</td>\n",
       "      <td>18</td>\n",
       "      <td>4496</td>\n",
       "      <td>4.00</td>\n",
       "    </tr>\n",
       "    <tr>\n",
       "      <th>11</th>\n",
       "      <td>Not stated</td>\n",
       "      <td>12</td>\n",
       "      <td>152</td>\n",
       "      <td>3574</td>\n",
       "      <td>42.53</td>\n",
       "    </tr>\n",
       "  </tbody>\n",
       "</table>\n",
       "</div>"
      ],
      "text/plain": [
       "    Birth Weight Code  code  Deaths   Births  Death Rate Per 1,000\n",
       "0   499 grams or less     1    5473     6434                850.64\n",
       "1     500 - 999 grams     2    5025    20442                245.82\n",
       "2   1000 - 1499 grams     3    1379    29087                 47.41\n",
       "3   1500 - 1999 grams     4    1614    62880                 25.67\n",
       "4   2000 - 2499 grams     5    1965   203883                  9.64\n",
       "5   2500 - 2999 grams     6    2720   730726                  3.72\n",
       "6   3000 - 3499 grams     7    2956  1527728                  1.93\n",
       "7   3500 - 3999 grams     8    1418  1048489                  1.35\n",
       "8   4000 - 4499 grams     9     379   269872                  1.40\n",
       "9   4500 - 4999 grams    10      58    38264                  1.52\n",
       "10  5000 - 8165 grams    11      18     4496                  4.00\n",
       "11         Not stated    12     152     3574                 42.53"
      ]
     },
     "execution_count": 3,
     "metadata": {},
     "output_type": "execute_result"
    }
   ],
   "source": [
    "file= \"birth_weight.csv\"\n",
    "birthweight_df=pd.read_csv(file)\n",
    "birthweight_df"
   ]
  },
  {
   "cell_type": "code",
   "execution_count": 4,
   "metadata": {},
   "outputs": [],
   "source": [
    "total_rate = list(birthweight_df[\"Death Rate Per 1,000\"])"
   ]
  },
  {
   "cell_type": "code",
   "execution_count": 5,
   "metadata": {},
   "outputs": [
    {
     "data": {
      "text/html": [
       "<div>\n",
       "<style scoped>\n",
       "    .dataframe tbody tr th:only-of-type {\n",
       "        vertical-align: middle;\n",
       "    }\n",
       "\n",
       "    .dataframe tbody tr th {\n",
       "        vertical-align: top;\n",
       "    }\n",
       "\n",
       "    .dataframe thead th {\n",
       "        text-align: right;\n",
       "    }\n",
       "</style>\n",
       "<table border=\"1\" class=\"dataframe\">\n",
       "  <thead>\n",
       "    <tr style=\"text-align: right;\">\n",
       "      <th></th>\n",
       "      <th>Birth Weight Code</th>\n",
       "      <th>code</th>\n",
       "      <th>Deaths</th>\n",
       "      <th>Births</th>\n",
       "      <th>Death Rate Per 1,000</th>\n",
       "    </tr>\n",
       "  </thead>\n",
       "  <tbody>\n",
       "    <tr>\n",
       "      <th>0</th>\n",
       "      <td>499 grams or less</td>\n",
       "      <td>1</td>\n",
       "      <td>5473</td>\n",
       "      <td>6434</td>\n",
       "      <td>850.64</td>\n",
       "    </tr>\n",
       "    <tr>\n",
       "      <th>1</th>\n",
       "      <td>500 - 999 grams</td>\n",
       "      <td>2</td>\n",
       "      <td>5025</td>\n",
       "      <td>20442</td>\n",
       "      <td>245.82</td>\n",
       "    </tr>\n",
       "    <tr>\n",
       "      <th>2</th>\n",
       "      <td>1000 - 1499 grams</td>\n",
       "      <td>3</td>\n",
       "      <td>1379</td>\n",
       "      <td>29087</td>\n",
       "      <td>47.41</td>\n",
       "    </tr>\n",
       "    <tr>\n",
       "      <th>3</th>\n",
       "      <td>1500 - 1999 grams</td>\n",
       "      <td>4</td>\n",
       "      <td>1614</td>\n",
       "      <td>62880</td>\n",
       "      <td>25.67</td>\n",
       "    </tr>\n",
       "    <tr>\n",
       "      <th>4</th>\n",
       "      <td>2000 - 2499 grams</td>\n",
       "      <td>5</td>\n",
       "      <td>1965</td>\n",
       "      <td>203883</td>\n",
       "      <td>9.64</td>\n",
       "    </tr>\n",
       "    <tr>\n",
       "      <th>5</th>\n",
       "      <td>2500 - 2999 grams</td>\n",
       "      <td>6</td>\n",
       "      <td>2720</td>\n",
       "      <td>730726</td>\n",
       "      <td>3.72</td>\n",
       "    </tr>\n",
       "    <tr>\n",
       "      <th>6</th>\n",
       "      <td>3000 - 3499 grams</td>\n",
       "      <td>7</td>\n",
       "      <td>2956</td>\n",
       "      <td>1527728</td>\n",
       "      <td>1.93</td>\n",
       "    </tr>\n",
       "    <tr>\n",
       "      <th>7</th>\n",
       "      <td>3500 - 3999 grams</td>\n",
       "      <td>8</td>\n",
       "      <td>1418</td>\n",
       "      <td>1048489</td>\n",
       "      <td>1.35</td>\n",
       "    </tr>\n",
       "    <tr>\n",
       "      <th>8</th>\n",
       "      <td>4000 - 4499 grams</td>\n",
       "      <td>9</td>\n",
       "      <td>379</td>\n",
       "      <td>269872</td>\n",
       "      <td>1.40</td>\n",
       "    </tr>\n",
       "    <tr>\n",
       "      <th>9</th>\n",
       "      <td>4500 - 4999 grams</td>\n",
       "      <td>10</td>\n",
       "      <td>58</td>\n",
       "      <td>38264</td>\n",
       "      <td>1.52</td>\n",
       "    </tr>\n",
       "    <tr>\n",
       "      <th>10</th>\n",
       "      <td>5000 - 8165 grams</td>\n",
       "      <td>11</td>\n",
       "      <td>18</td>\n",
       "      <td>4496</td>\n",
       "      <td>4.00</td>\n",
       "    </tr>\n",
       "    <tr>\n",
       "      <th>11</th>\n",
       "      <td>Not stated</td>\n",
       "      <td>12</td>\n",
       "      <td>152</td>\n",
       "      <td>3574</td>\n",
       "      <td>42.53</td>\n",
       "    </tr>\n",
       "  </tbody>\n",
       "</table>\n",
       "</div>"
      ],
      "text/plain": [
       "    Birth Weight Code  code  Deaths   Births  Death Rate Per 1,000\n",
       "0   499 grams or less     1    5473     6434                850.64\n",
       "1     500 - 999 grams     2    5025    20442                245.82\n",
       "2   1000 - 1499 grams     3    1379    29087                 47.41\n",
       "3   1500 - 1999 grams     4    1614    62880                 25.67\n",
       "4   2000 - 2499 grams     5    1965   203883                  9.64\n",
       "5   2500 - 2999 grams     6    2720   730726                  3.72\n",
       "6   3000 - 3499 grams     7    2956  1527728                  1.93\n",
       "7   3500 - 3999 grams     8    1418  1048489                  1.35\n",
       "8   4000 - 4499 grams     9     379   269872                  1.40\n",
       "9   4500 - 4999 grams    10      58    38264                  1.52\n",
       "10  5000 - 8165 grams    11      18     4496                  4.00\n",
       "11         Not stated    12     152     3574                 42.53"
      ]
     },
     "execution_count": 5,
     "metadata": {},
     "output_type": "execute_result"
    }
   ],
   "source": [
    "birthweight_df"
   ]
  },
  {
   "cell_type": "code",
   "execution_count": 6,
   "metadata": {},
   "outputs": [],
   "source": [
    "list_rate = []\n",
    "sum_rate = birthweight_df[\"Death Rate Per 1,000\"].sum()\n",
    "for rate in total_rate:\n",
    "    rate_percent = (rate / sum_rate) * 100\n",
    "    list_rate.append(rate_percent)"
   ]
  },
  {
   "cell_type": "code",
   "execution_count": 7,
   "metadata": {},
   "outputs": [],
   "source": [
    "birthweight_df[\"Deaths Rate\"] =list_rate\n",
    "birthweight_df[\"Deaths Percent (%)\"] = birthweight_df[\"Deaths Rate\"].map(\"{0:.2f}%\".format)"
   ]
  },
  {
   "cell_type": "code",
   "execution_count": 8,
   "metadata": {
    "scrolled": true
   },
   "outputs": [
    {
     "data": {
      "text/html": [
       "<div>\n",
       "<style scoped>\n",
       "    .dataframe tbody tr th:only-of-type {\n",
       "        vertical-align: middle;\n",
       "    }\n",
       "\n",
       "    .dataframe tbody tr th {\n",
       "        vertical-align: top;\n",
       "    }\n",
       "\n",
       "    .dataframe thead th {\n",
       "        text-align: right;\n",
       "    }\n",
       "</style>\n",
       "<table border=\"1\" class=\"dataframe\">\n",
       "  <thead>\n",
       "    <tr style=\"text-align: right;\">\n",
       "      <th></th>\n",
       "      <th>Birth Weight Code</th>\n",
       "      <th>code</th>\n",
       "      <th>Deaths</th>\n",
       "      <th>Births</th>\n",
       "      <th>Death Rate Per 1,000</th>\n",
       "      <th>Deaths Rate</th>\n",
       "      <th>Deaths Percent (%)</th>\n",
       "    </tr>\n",
       "  </thead>\n",
       "  <tbody>\n",
       "    <tr>\n",
       "      <th>0</th>\n",
       "      <td>499 grams or less</td>\n",
       "      <td>1</td>\n",
       "      <td>5473</td>\n",
       "      <td>6434</td>\n",
       "      <td>850.64</td>\n",
       "      <td>68.842615</td>\n",
       "      <td>68.84%</td>\n",
       "    </tr>\n",
       "    <tr>\n",
       "      <th>1</th>\n",
       "      <td>500 - 999 grams</td>\n",
       "      <td>2</td>\n",
       "      <td>5025</td>\n",
       "      <td>20442</td>\n",
       "      <td>245.82</td>\n",
       "      <td>19.894305</td>\n",
       "      <td>19.89%</td>\n",
       "    </tr>\n",
       "    <tr>\n",
       "      <th>2</th>\n",
       "      <td>1000 - 1499 grams</td>\n",
       "      <td>3</td>\n",
       "      <td>1379</td>\n",
       "      <td>29087</td>\n",
       "      <td>47.41</td>\n",
       "      <td>3.836909</td>\n",
       "      <td>3.84%</td>\n",
       "    </tr>\n",
       "    <tr>\n",
       "      <th>3</th>\n",
       "      <td>1500 - 1999 grams</td>\n",
       "      <td>4</td>\n",
       "      <td>1614</td>\n",
       "      <td>62880</td>\n",
       "      <td>25.67</td>\n",
       "      <td>2.077483</td>\n",
       "      <td>2.08%</td>\n",
       "    </tr>\n",
       "    <tr>\n",
       "      <th>4</th>\n",
       "      <td>2000 - 2499 grams</td>\n",
       "      <td>5</td>\n",
       "      <td>1965</td>\n",
       "      <td>203883</td>\n",
       "      <td>9.64</td>\n",
       "      <td>0.780169</td>\n",
       "      <td>0.78%</td>\n",
       "    </tr>\n",
       "    <tr>\n",
       "      <th>5</th>\n",
       "      <td>2500 - 2999 grams</td>\n",
       "      <td>6</td>\n",
       "      <td>2720</td>\n",
       "      <td>730726</td>\n",
       "      <td>3.72</td>\n",
       "      <td>0.301061</td>\n",
       "      <td>0.30%</td>\n",
       "    </tr>\n",
       "    <tr>\n",
       "      <th>6</th>\n",
       "      <td>3000 - 3499 grams</td>\n",
       "      <td>7</td>\n",
       "      <td>2956</td>\n",
       "      <td>1527728</td>\n",
       "      <td>1.93</td>\n",
       "      <td>0.156196</td>\n",
       "      <td>0.16%</td>\n",
       "    </tr>\n",
       "    <tr>\n",
       "      <th>7</th>\n",
       "      <td>3500 - 3999 grams</td>\n",
       "      <td>8</td>\n",
       "      <td>1418</td>\n",
       "      <td>1048489</td>\n",
       "      <td>1.35</td>\n",
       "      <td>0.109256</td>\n",
       "      <td>0.11%</td>\n",
       "    </tr>\n",
       "    <tr>\n",
       "      <th>8</th>\n",
       "      <td>4000 - 4499 grams</td>\n",
       "      <td>9</td>\n",
       "      <td>379</td>\n",
       "      <td>269872</td>\n",
       "      <td>1.40</td>\n",
       "      <td>0.113303</td>\n",
       "      <td>0.11%</td>\n",
       "    </tr>\n",
       "    <tr>\n",
       "      <th>9</th>\n",
       "      <td>4500 - 4999 grams</td>\n",
       "      <td>10</td>\n",
       "      <td>58</td>\n",
       "      <td>38264</td>\n",
       "      <td>1.52</td>\n",
       "      <td>0.123014</td>\n",
       "      <td>0.12%</td>\n",
       "    </tr>\n",
       "    <tr>\n",
       "      <th>10</th>\n",
       "      <td>5000 - 8165 grams</td>\n",
       "      <td>11</td>\n",
       "      <td>18</td>\n",
       "      <td>4496</td>\n",
       "      <td>4.00</td>\n",
       "      <td>0.323722</td>\n",
       "      <td>0.32%</td>\n",
       "    </tr>\n",
       "    <tr>\n",
       "      <th>11</th>\n",
       "      <td>Not stated</td>\n",
       "      <td>12</td>\n",
       "      <td>152</td>\n",
       "      <td>3574</td>\n",
       "      <td>42.53</td>\n",
       "      <td>3.441969</td>\n",
       "      <td>3.44%</td>\n",
       "    </tr>\n",
       "  </tbody>\n",
       "</table>\n",
       "</div>"
      ],
      "text/plain": [
       "    Birth Weight Code  code  Deaths   Births  Death Rate Per 1,000  \\\n",
       "0   499 grams or less     1    5473     6434                850.64   \n",
       "1     500 - 999 grams     2    5025    20442                245.82   \n",
       "2   1000 - 1499 grams     3    1379    29087                 47.41   \n",
       "3   1500 - 1999 grams     4    1614    62880                 25.67   \n",
       "4   2000 - 2499 grams     5    1965   203883                  9.64   \n",
       "5   2500 - 2999 grams     6    2720   730726                  3.72   \n",
       "6   3000 - 3499 grams     7    2956  1527728                  1.93   \n",
       "7   3500 - 3999 grams     8    1418  1048489                  1.35   \n",
       "8   4000 - 4499 grams     9     379   269872                  1.40   \n",
       "9   4500 - 4999 grams    10      58    38264                  1.52   \n",
       "10  5000 - 8165 grams    11      18     4496                  4.00   \n",
       "11         Not stated    12     152     3574                 42.53   \n",
       "\n",
       "    Deaths Rate Deaths Percent (%)  \n",
       "0     68.842615             68.84%  \n",
       "1     19.894305             19.89%  \n",
       "2      3.836909              3.84%  \n",
       "3      2.077483              2.08%  \n",
       "4      0.780169              0.78%  \n",
       "5      0.301061              0.30%  \n",
       "6      0.156196              0.16%  \n",
       "7      0.109256              0.11%  \n",
       "8      0.113303              0.11%  \n",
       "9      0.123014              0.12%  \n",
       "10     0.323722              0.32%  \n",
       "11     3.441969              3.44%  "
      ]
     },
     "execution_count": 8,
     "metadata": {},
     "output_type": "execute_result"
    }
   ],
   "source": [
    "birthweight_df"
   ]
  },
  {
   "cell_type": "code",
   "execution_count": 9,
   "metadata": {},
   "outputs": [],
   "source": [
    "rate_percent = list(birthweight_df[\"Deaths Rate\"])\n",
    "birth_weight = list(birthweight_df[\"Birth Weight Code\"])"
   ]
  },
  {
   "cell_type": "code",
   "execution_count": 10,
   "metadata": {},
   "outputs": [],
   "source": [
    "x_axis = birth_weight\n",
    "y_axis = rate_percent"
   ]
  },
  {
   "cell_type": "code",
   "execution_count": 20,
   "metadata": {},
   "outputs": [
    {
     "data": {
      "text/plain": [
       "0     499 grams or less\n",
       "1       500 - 999 grams\n",
       "2     1000 - 1499 grams\n",
       "3     1500 - 1999 grams\n",
       "4     2000 - 2499 grams\n",
       "5     2500 - 2999 grams\n",
       "6     3000 - 3499 grams\n",
       "7     3500 - 3999 grams\n",
       "8     4000 - 4499 grams\n",
       "9     4500 - 4999 grams\n",
       "10    5000 - 8165 grams\n",
       "11           Not stated\n",
       "Name: Birth Weight Code, dtype: object"
      ]
     },
     "execution_count": 20,
     "metadata": {},
     "output_type": "execute_result"
    }
   ],
   "source": [
    "birthweight_df[\"Birth Weight Code\"]"
   ]
  },
  {
   "cell_type": "code",
   "execution_count": 27,
   "metadata": {},
   "outputs": [
    {
     "data": {
      "text/plain": [
       "0     68.842615\n",
       "1     19.894305\n",
       "2      3.836909\n",
       "3      2.077483\n",
       "4      0.780169\n",
       "5      0.301061\n",
       "6      0.156196\n",
       "7      0.109256\n",
       "8      0.113303\n",
       "9      0.123014\n",
       "10     0.323722\n",
       "11     3.441969\n",
       "Name: Deaths Rate, dtype: float64"
      ]
     },
     "execution_count": 27,
     "metadata": {},
     "output_type": "execute_result"
    }
   ],
   "source": [
    "birthweight_df[\"Deaths Rate\"]"
   ]
  },
  {
   "cell_type": "code",
   "execution_count": 74,
   "metadata": {},
   "outputs": [
    {
     "data": {
      "text/plain": [
       "([<matplotlib.axis.XTick at 0x12f4c5cc0>,\n",
       "  <matplotlib.axis.XTick at 0x12f4ce9e8>,\n",
       "  <matplotlib.axis.XTick at 0x12f4ce080>,\n",
       "  <matplotlib.axis.XTick at 0x12ec71dd8>,\n",
       "  <matplotlib.axis.XTick at 0x12ec762b0>,\n",
       "  <matplotlib.axis.XTick at 0x12ec76208>,\n",
       "  <matplotlib.axis.XTick at 0x12ec769b0>,\n",
       "  <matplotlib.axis.XTick at 0x12ec76e80>,\n",
       "  <matplotlib.axis.XTick at 0x12ec7c390>,\n",
       "  <matplotlib.axis.XTick at 0x12ec7c860>,\n",
       "  <matplotlib.axis.XTick at 0x12ec7cd30>,\n",
       "  <matplotlib.axis.XTick at 0x12ec81240>],\n",
       " <a list of 12 Text xticklabel objects>)"
      ]
     },
     "execution_count": 74,
     "metadata": {},
     "output_type": "execute_result"
    },
    {
     "data": {
      "image/png": "[encoded data removed]",
      "text/plain": [
       "<Figure size 432x288 with 1 Axes>"
      ]
     },
     "metadata": {
      "needs_background": "light"
     },
     "output_type": "display_data"
    }
   ],
   "source": [
    "label = [\" ~ 0.5kg\", \"~0.9kg\", \"~1.5kg\", \"~ 1.9kg\", \"~2.5kg\", \"~3.0kg\", \"~3.5kg\",\"~4.0kg\",\"~4.5kg\", \"~5.0kg\",\"5.0~8.1 kg\",\"Not Stated\"]\n",
    "plt.bar(x_axis, y_axis, color = \"r\", alpha = 0.5,align =\"center\")\n",
    "plt.xticks(x_axis, label, fontsize=10, rotation=30)"
   ]
  },
  {
   "cell_type": "code",
   "execution_count": 77,
   "metadata": {},
   "outputs": [
    {
     "data": {
      "text/plain": [
       "([<matplotlib.axis.YTick at 0x12dbdeb70>,\n",
       "  <matplotlib.axis.YTick at 0x12dbde4a8>,\n",
       "  <matplotlib.axis.YTick at 0x12ec99710>,\n",
       "  <matplotlib.axis.YTick at 0x12fcd3be0>,\n",
       "  <matplotlib.axis.YTick at 0x12fcda128>,\n",
       "  <matplotlib.axis.YTick at 0x12fcda160>,\n",
       "  <matplotlib.axis.YTick at 0x12fcda7b8>,\n",
       "  <matplotlib.axis.YTick at 0x12fcdac88>,\n",
       "  <matplotlib.axis.YTick at 0x12fcde198>,\n",
       "  <matplotlib.axis.YTick at 0x12fcde668>,\n",
       "  <matplotlib.axis.YTick at 0x12fcdeb38>,\n",
       "  <matplotlib.axis.YTick at 0x12fce30b8>],\n",
       " <a list of 12 Text yticklabel objects>)"
      ]
     },
     "execution_count": 77,
     "metadata": {},
     "output_type": "execute_result"
    },
    {
     "data": {
      "image/png": "[encoded data removed]",
      "text/plain": [
       "<Figure size 432x288 with 1 Axes>"
      ]
     },
     "metadata": {
      "needs_background": "light"
     },
     "output_type": "display_data"
    }
   ],
   "source": [
    "lable = [\" ~ 0.5kg\", \"~0.9kg\", \"~1.5kg\", \"~ 1.9kg\", \"~2.5kg\", \"~3.0kg\", \"~3.5kg\",\"~4.0kg\",\"~4.5kg\", \"~5.0kg\",\"5.0~8.1 kg\",\"Not Stated\"]\n",
    "plt.barh(lable,y_axis, align = 'center', alpha = 0.5, )\n",
    "plt.yticks(lable,lable)"
   ]
  },
  {
   "cell_type": "code",
   "execution_count": 81,
   "metadata": {},
   "outputs": [
    {
     "data": {
      "image/png": "[encoded data removed]",
      "text/plain": [
       "<Figure size 432x288 with 1 Axes>"
      ]
     },
     "metadata": {},
     "output_type": "display_data"
    },
    {
     "data": {
      "text/plain": [
       "<Figure size 2160x1080 with 0 Axes>"
      ]
     },
     "metadata": {},
     "output_type": "display_data"
    }
   ],
   "source": [
    "group_label = [\" ~ 0.5kg\", \"~0.9kg\", \"~1.5kg\", \"~ 1.9kg\", \"~2.5kg\", \"~3.0kg\", \"~3.5kg\",\"~4.0kg\",\"~4.5kg\", \"~5.0kg\",\"5.0~8.1 kg\",\"Not Stated\"]\n",
    "counts = pd.Series([68.842615,19.894305, 3.836909, 2.077483, 0.780169, 0.301061,0.156196, 0.109256, 0.113303, 0.123014, 0.323722, 3.441969],\n",
    "                  index = [\"~ 0.5kg\", \"~0.9kg\", \"~1.5kg\", \"~ 1.9kg\", \"~2.5kg\", \"~3.0kg\", \"~3.5kg\",\"~4.0kg\",\"~4.5kg\", \"~5.0kg\",\"5.0~8.1 kg\",\"Not Stated\"])\n",
    "\n",
    "explode = (0, 0.01, 0.03, 0.04, 0.05, 0.07, 0.08, 0.09, 0.1,0.11,0.12,0.12)\n",
    "colors = ['#191970', '#001CF0', '#0038E2', '#0055D4', '#0071C6', '#008DB8', '#00AAAA',\n",
    "          '#00C69C', '#00E28E', '#00FF80','#00ffe5','#00edff' ]\n",
    "counts.plot(kind='pie',  fontsize=2 ,colors=colors, explode=explode)\n",
    "plt.axis('equal')\n",
    "plt.ylabel('')\n",
    "#plt.legend(labels=counts.index, loc=\"right\")\n",
    "plt.legend(loc=10, bbox_to_anchor=(1.3, 0.5))\n",
    "plt.figure(figsize=(30,15))\n",
    "plt.show()"
   ]
  },
  {
   "cell_type": "code",
   "execution_count": null,
   "metadata": {},
   "outputs": [],
   "source": []
  }
 ],
 "metadata": {
  "kernelspec": {
   "display_name": "Python [conda env:PythonData]",
   "language": "python",
   "name": "pythondata"
  },
  "language_info": {
   "codemirror_mode": {
    "name": "ipython",
    "version": 3
   },
   "file_extension": ".py",
   "mimetype": "text/x-python",
   "name": "python",
   "nbconvert_exporter": "python",
   "pygments_lexer": "ipython3",
   "version": "3.7.1"
  }
 },
 "nbformat": 4,
 "nbformat_minor": 2
}
