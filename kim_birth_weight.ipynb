{
 "cells": [
  {
   "cell_type": "code",
   "execution_count": 1,
   "metadata": {},
   "outputs": [],
   "source": [
    "import csv \n",
    "import pandas as pd\n",
    "import matplotlib.pyplot as plt\n",
    "import numpy as np"
   ]
  },
  {
   "cell_type": "code",
   "execution_count": 2,
   "metadata": {},
   "outputs": [
    {
     "data": {
      "text/html": [
       "<div>\n",
       "<style scoped>\n",
       "    .dataframe tbody tr th:only-of-type {\n",
       "        vertical-align: middle;\n",
       "    }\n",
       "\n",
       "    .dataframe tbody tr th {\n",
       "        vertical-align: top;\n",
       "    }\n",
       "\n",
       "    .dataframe thead th {\n",
       "        text-align: right;\n",
       "    }\n",
       "</style>\n",
       "<table border=\"1\" class=\"dataframe\">\n",
       "  <thead>\n",
       "    <tr style=\"text-align: right;\">\n",
       "      <th></th>\n",
       "      <th>Birth Weight Code</th>\n",
       "      <th>code</th>\n",
       "      <th>Deaths</th>\n",
       "      <th>Births</th>\n",
       "      <th>Death Rate Per 1,000</th>\n",
       "    </tr>\n",
       "  </thead>\n",
       "  <tbody>\n",
       "    <tr>\n",
       "      <th>0</th>\n",
       "      <td>499 grams or less</td>\n",
       "      <td>1</td>\n",
       "      <td>5473</td>\n",
       "      <td>6434</td>\n",
       "      <td>850.64</td>\n",
       "    </tr>\n",
       "    <tr>\n",
       "      <th>1</th>\n",
       "      <td>500 - 999 grams</td>\n",
       "      <td>2</td>\n",
       "      <td>5025</td>\n",
       "      <td>20442</td>\n",
       "      <td>245.82</td>\n",
       "    </tr>\n",
       "    <tr>\n",
       "      <th>2</th>\n",
       "      <td>1000 - 1499 grams</td>\n",
       "      <td>3</td>\n",
       "      <td>1379</td>\n",
       "      <td>29087</td>\n",
       "      <td>47.41</td>\n",
       "    </tr>\n",
       "    <tr>\n",
       "      <th>3</th>\n",
       "      <td>1500 - 1999 grams</td>\n",
       "      <td>4</td>\n",
       "      <td>1614</td>\n",
       "      <td>62880</td>\n",
       "      <td>25.67</td>\n",
       "    </tr>\n",
       "    <tr>\n",
       "      <th>4</th>\n",
       "      <td>2000 - 2499 grams</td>\n",
       "      <td>5</td>\n",
       "      <td>1965</td>\n",
       "      <td>203883</td>\n",
       "      <td>9.64</td>\n",
       "    </tr>\n",
       "    <tr>\n",
       "      <th>5</th>\n",
       "      <td>2500 - 2999 grams</td>\n",
       "      <td>6</td>\n",
       "      <td>2720</td>\n",
       "      <td>730726</td>\n",
       "      <td>3.72</td>\n",
       "    </tr>\n",
       "    <tr>\n",
       "      <th>6</th>\n",
       "      <td>3000 - 3499 grams</td>\n",
       "      <td>7</td>\n",
       "      <td>2956</td>\n",
       "      <td>1527728</td>\n",
       "      <td>1.93</td>\n",
       "    </tr>\n",
       "    <tr>\n",
       "      <th>7</th>\n",
       "      <td>3500 - 3999 grams</td>\n",
       "      <td>8</td>\n",
       "      <td>1418</td>\n",
       "      <td>1048489</td>\n",
       "      <td>1.35</td>\n",
       "    </tr>\n",
       "    <tr>\n",
       "      <th>8</th>\n",
       "      <td>4000 - 4499 grams</td>\n",
       "      <td>9</td>\n",
       "      <td>379</td>\n",
       "      <td>269872</td>\n",
       "      <td>1.40</td>\n",
       "    </tr>\n",
       "    <tr>\n",
       "      <th>9</th>\n",
       "      <td>4500 - 4999 grams</td>\n",
       "      <td>10</td>\n",
       "      <td>58</td>\n",
       "      <td>38264</td>\n",
       "      <td>1.52</td>\n",
       "    </tr>\n",
       "    <tr>\n",
       "      <th>10</th>\n",
       "      <td>5000 - 8165 grams</td>\n",
       "      <td>11</td>\n",
       "      <td>18</td>\n",
       "      <td>4496</td>\n",
       "      <td>4.00</td>\n",
       "    </tr>\n",
       "    <tr>\n",
       "      <th>11</th>\n",
       "      <td>Not stated</td>\n",
       "      <td>12</td>\n",
       "      <td>152</td>\n",
       "      <td>3574</td>\n",
       "      <td>42.53</td>\n",
       "    </tr>\n",
       "  </tbody>\n",
       "</table>\n",
       "</div>"
      ],
      "text/plain": [
       "    Birth Weight Code  code  Deaths   Births  Death Rate Per 1,000\n",
       "0   499 grams or less     1    5473     6434                850.64\n",
       "1     500 - 999 grams     2    5025    20442                245.82\n",
       "2   1000 - 1499 grams     3    1379    29087                 47.41\n",
       "3   1500 - 1999 grams     4    1614    62880                 25.67\n",
       "4   2000 - 2499 grams     5    1965   203883                  9.64\n",
       "5   2500 - 2999 grams     6    2720   730726                  3.72\n",
       "6   3000 - 3499 grams     7    2956  1527728                  1.93\n",
       "7   3500 - 3999 grams     8    1418  1048489                  1.35\n",
       "8   4000 - 4499 grams     9     379   269872                  1.40\n",
       "9   4500 - 4999 grams    10      58    38264                  1.52\n",
       "10  5000 - 8165 grams    11      18     4496                  4.00\n",
       "11         Not stated    12     152     3574                 42.53"
      ]
     },
     "execution_count": 2,
     "metadata": {},
     "output_type": "execute_result"
    }
   ],
   "source": [
    "file= \"datafiles/birth_weight.csv\"\n",
    "birthweight_df=pd.read_csv(file)\n",
    "birthweight_df"
   ]
  },
  {
   "cell_type": "code",
   "execution_count": 3,
   "metadata": {},
   "outputs": [],
   "source": [
    "total_rate = list(birthweight_df[\"Death Rate Per 1,000\"])"
   ]
  },
  {
   "cell_type": "code",
   "execution_count": 4,
   "metadata": {},
   "outputs": [
    {
     "data": {
      "text/html": [
       "<div>\n",
       "<style scoped>\n",
       "    .dataframe tbody tr th:only-of-type {\n",
       "        vertical-align: middle;\n",
       "    }\n",
       "\n",
       "    .dataframe tbody tr th {\n",
       "        vertical-align: top;\n",
       "    }\n",
       "\n",
       "    .dataframe thead th {\n",
       "        text-align: right;\n",
       "    }\n",
       "</style>\n",
       "<table border=\"1\" class=\"dataframe\">\n",
       "  <thead>\n",
       "    <tr style=\"text-align: right;\">\n",
       "      <th></th>\n",
       "      <th>Birth Weight Code</th>\n",
       "      <th>code</th>\n",
       "      <th>Deaths</th>\n",
       "      <th>Births</th>\n",
       "      <th>Death Rate Per 1,000</th>\n",
       "    </tr>\n",
       "  </thead>\n",
       "  <tbody>\n",
       "    <tr>\n",
       "      <th>0</th>\n",
       "      <td>499 grams or less</td>\n",
       "      <td>1</td>\n",
       "      <td>5473</td>\n",
       "      <td>6434</td>\n",
       "      <td>850.64</td>\n",
       "    </tr>\n",
       "    <tr>\n",
       "      <th>1</th>\n",
       "      <td>500 - 999 grams</td>\n",
       "      <td>2</td>\n",
       "      <td>5025</td>\n",
       "      <td>20442</td>\n",
       "      <td>245.82</td>\n",
       "    </tr>\n",
       "    <tr>\n",
       "      <th>2</th>\n",
       "      <td>1000 - 1499 grams</td>\n",
       "      <td>3</td>\n",
       "      <td>1379</td>\n",
       "      <td>29087</td>\n",
       "      <td>47.41</td>\n",
       "    </tr>\n",
       "    <tr>\n",
       "      <th>3</th>\n",
       "      <td>1500 - 1999 grams</td>\n",
       "      <td>4</td>\n",
       "      <td>1614</td>\n",
       "      <td>62880</td>\n",
       "      <td>25.67</td>\n",
       "    </tr>\n",
       "    <tr>\n",
       "      <th>4</th>\n",
       "      <td>2000 - 2499 grams</td>\n",
       "      <td>5</td>\n",
       "      <td>1965</td>\n",
       "      <td>203883</td>\n",
       "      <td>9.64</td>\n",
       "    </tr>\n",
       "    <tr>\n",
       "      <th>5</th>\n",
       "      <td>2500 - 2999 grams</td>\n",
       "      <td>6</td>\n",
       "      <td>2720</td>\n",
       "      <td>730726</td>\n",
       "      <td>3.72</td>\n",
       "    </tr>\n",
       "    <tr>\n",
       "      <th>6</th>\n",
       "      <td>3000 - 3499 grams</td>\n",
       "      <td>7</td>\n",
       "      <td>2956</td>\n",
       "      <td>1527728</td>\n",
       "      <td>1.93</td>\n",
       "    </tr>\n",
       "    <tr>\n",
       "      <th>7</th>\n",
       "      <td>3500 - 3999 grams</td>\n",
       "      <td>8</td>\n",
       "      <td>1418</td>\n",
       "      <td>1048489</td>\n",
       "      <td>1.35</td>\n",
       "    </tr>\n",
       "    <tr>\n",
       "      <th>8</th>\n",
       "      <td>4000 - 4499 grams</td>\n",
       "      <td>9</td>\n",
       "      <td>379</td>\n",
       "      <td>269872</td>\n",
       "      <td>1.40</td>\n",
       "    </tr>\n",
       "    <tr>\n",
       "      <th>9</th>\n",
       "      <td>4500 - 4999 grams</td>\n",
       "      <td>10</td>\n",
       "      <td>58</td>\n",
       "      <td>38264</td>\n",
       "      <td>1.52</td>\n",
       "    </tr>\n",
       "    <tr>\n",
       "      <th>10</th>\n",
       "      <td>5000 - 8165 grams</td>\n",
       "      <td>11</td>\n",
       "      <td>18</td>\n",
       "      <td>4496</td>\n",
       "      <td>4.00</td>\n",
       "    </tr>\n",
       "    <tr>\n",
       "      <th>11</th>\n",
       "      <td>Not stated</td>\n",
       "      <td>12</td>\n",
       "      <td>152</td>\n",
       "      <td>3574</td>\n",
       "      <td>42.53</td>\n",
       "    </tr>\n",
       "  </tbody>\n",
       "</table>\n",
       "</div>"
      ],
      "text/plain": [
       "    Birth Weight Code  code  Deaths   Births  Death Rate Per 1,000\n",
       "0   499 grams or less     1    5473     6434                850.64\n",
       "1     500 - 999 grams     2    5025    20442                245.82\n",
       "2   1000 - 1499 grams     3    1379    29087                 47.41\n",
       "3   1500 - 1999 grams     4    1614    62880                 25.67\n",
       "4   2000 - 2499 grams     5    1965   203883                  9.64\n",
       "5   2500 - 2999 grams     6    2720   730726                  3.72\n",
       "6   3000 - 3499 grams     7    2956  1527728                  1.93\n",
       "7   3500 - 3999 grams     8    1418  1048489                  1.35\n",
       "8   4000 - 4499 grams     9     379   269872                  1.40\n",
       "9   4500 - 4999 grams    10      58    38264                  1.52\n",
       "10  5000 - 8165 grams    11      18     4496                  4.00\n",
       "11         Not stated    12     152     3574                 42.53"
      ]
     },
     "execution_count": 4,
     "metadata": {},
     "output_type": "execute_result"
    }
   ],
   "source": [
    "birthweight_df"
   ]
  },
  {
   "cell_type": "code",
   "execution_count": 5,
   "metadata": {},
   "outputs": [],
   "source": [
    "list_rate = []\n",
    "sum_rate = birthweight_df[\"Death Rate Per 1,000\"].sum()\n",
    "for rate in total_rate:\n",
    "    rate_percent = (rate / sum_rate) * 100\n",
    "    list_rate.append(rate_percent)"
   ]
  },
  {
   "cell_type": "code",
   "execution_count": 6,
   "metadata": {},
   "outputs": [],
   "source": [
    "birthweight_df[\"Deaths Rate\"] =list_rate\n",
    "birthweight_df[\"Deaths Percent (%)\"] = birthweight_df[\"Deaths Rate\"].map(\"{0:.2f}%\".format)"
   ]
  },
  {
   "cell_type": "code",
   "execution_count": 7,
   "metadata": {
    "scrolled": true
   },
   "outputs": [
    {
     "data": {
      "text/html": [
       "<div>\n",
       "<style scoped>\n",
       "    .dataframe tbody tr th:only-of-type {\n",
       "        vertical-align: middle;\n",
       "    }\n",
       "\n",
       "    .dataframe tbody tr th {\n",
       "        vertical-align: top;\n",
       "    }\n",
       "\n",
       "    .dataframe thead th {\n",
       "        text-align: right;\n",
       "    }\n",
       "</style>\n",
       "<table border=\"1\" class=\"dataframe\">\n",
       "  <thead>\n",
       "    <tr style=\"text-align: right;\">\n",
       "      <th></th>\n",
       "      <th>Birth Weight Code</th>\n",
       "      <th>code</th>\n",
       "      <th>Deaths</th>\n",
       "      <th>Births</th>\n",
       "      <th>Death Rate Per 1,000</th>\n",
       "      <th>Deaths Rate</th>\n",
       "      <th>Deaths Percent (%)</th>\n",
       "    </tr>\n",
       "  </thead>\n",
       "  <tbody>\n",
       "    <tr>\n",
       "      <th>0</th>\n",
       "      <td>499 grams or less</td>\n",
       "      <td>1</td>\n",
       "      <td>5473</td>\n",
       "      <td>6434</td>\n",
       "      <td>850.64</td>\n",
       "      <td>68.842615</td>\n",
       "      <td>68.84%</td>\n",
       "    </tr>\n",
       "    <tr>\n",
       "      <th>1</th>\n",
       "      <td>500 - 999 grams</td>\n",
       "      <td>2</td>\n",
       "      <td>5025</td>\n",
       "      <td>20442</td>\n",
       "      <td>245.82</td>\n",
       "      <td>19.894305</td>\n",
       "      <td>19.89%</td>\n",
       "    </tr>\n",
       "    <tr>\n",
       "      <th>2</th>\n",
       "      <td>1000 - 1499 grams</td>\n",
       "      <td>3</td>\n",
       "      <td>1379</td>\n",
       "      <td>29087</td>\n",
       "      <td>47.41</td>\n",
       "      <td>3.836909</td>\n",
       "      <td>3.84%</td>\n",
       "    </tr>\n",
       "    <tr>\n",
       "      <th>3</th>\n",
       "      <td>1500 - 1999 grams</td>\n",
       "      <td>4</td>\n",
       "      <td>1614</td>\n",
       "      <td>62880</td>\n",
       "      <td>25.67</td>\n",
       "      <td>2.077483</td>\n",
       "      <td>2.08%</td>\n",
       "    </tr>\n",
       "    <tr>\n",
       "      <th>4</th>\n",
       "      <td>2000 - 2499 grams</td>\n",
       "      <td>5</td>\n",
       "      <td>1965</td>\n",
       "      <td>203883</td>\n",
       "      <td>9.64</td>\n",
       "      <td>0.780169</td>\n",
       "      <td>0.78%</td>\n",
       "    </tr>\n",
       "    <tr>\n",
       "      <th>5</th>\n",
       "      <td>2500 - 2999 grams</td>\n",
       "      <td>6</td>\n",
       "      <td>2720</td>\n",
       "      <td>730726</td>\n",
       "      <td>3.72</td>\n",
       "      <td>0.301061</td>\n",
       "      <td>0.30%</td>\n",
       "    </tr>\n",
       "    <tr>\n",
       "      <th>6</th>\n",
       "      <td>3000 - 3499 grams</td>\n",
       "      <td>7</td>\n",
       "      <td>2956</td>\n",
       "      <td>1527728</td>\n",
       "      <td>1.93</td>\n",
       "      <td>0.156196</td>\n",
       "      <td>0.16%</td>\n",
       "    </tr>\n",
       "    <tr>\n",
       "      <th>7</th>\n",
       "      <td>3500 - 3999 grams</td>\n",
       "      <td>8</td>\n",
       "      <td>1418</td>\n",
       "      <td>1048489</td>\n",
       "      <td>1.35</td>\n",
       "      <td>0.109256</td>\n",
       "      <td>0.11%</td>\n",
       "    </tr>\n",
       "    <tr>\n",
       "      <th>8</th>\n",
       "      <td>4000 - 4499 grams</td>\n",
       "      <td>9</td>\n",
       "      <td>379</td>\n",
       "      <td>269872</td>\n",
       "      <td>1.40</td>\n",
       "      <td>0.113303</td>\n",
       "      <td>0.11%</td>\n",
       "    </tr>\n",
       "    <tr>\n",
       "      <th>9</th>\n",
       "      <td>4500 - 4999 grams</td>\n",
       "      <td>10</td>\n",
       "      <td>58</td>\n",
       "      <td>38264</td>\n",
       "      <td>1.52</td>\n",
       "      <td>0.123014</td>\n",
       "      <td>0.12%</td>\n",
       "    </tr>\n",
       "    <tr>\n",
       "      <th>10</th>\n",
       "      <td>5000 - 8165 grams</td>\n",
       "      <td>11</td>\n",
       "      <td>18</td>\n",
       "      <td>4496</td>\n",
       "      <td>4.00</td>\n",
       "      <td>0.323722</td>\n",
       "      <td>0.32%</td>\n",
       "    </tr>\n",
       "    <tr>\n",
       "      <th>11</th>\n",
       "      <td>Not stated</td>\n",
       "      <td>12</td>\n",
       "      <td>152</td>\n",
       "      <td>3574</td>\n",
       "      <td>42.53</td>\n",
       "      <td>3.441969</td>\n",
       "      <td>3.44%</td>\n",
       "    </tr>\n",
       "  </tbody>\n",
       "</table>\n",
       "</div>"
      ],
      "text/plain": [
       "    Birth Weight Code  code  Deaths   Births  Death Rate Per 1,000  \\\n",
       "0   499 grams or less     1    5473     6434                850.64   \n",
       "1     500 - 999 grams     2    5025    20442                245.82   \n",
       "2   1000 - 1499 grams     3    1379    29087                 47.41   \n",
       "3   1500 - 1999 grams     4    1614    62880                 25.67   \n",
       "4   2000 - 2499 grams     5    1965   203883                  9.64   \n",
       "5   2500 - 2999 grams     6    2720   730726                  3.72   \n",
       "6   3000 - 3499 grams     7    2956  1527728                  1.93   \n",
       "7   3500 - 3999 grams     8    1418  1048489                  1.35   \n",
       "8   4000 - 4499 grams     9     379   269872                  1.40   \n",
       "9   4500 - 4999 grams    10      58    38264                  1.52   \n",
       "10  5000 - 8165 grams    11      18     4496                  4.00   \n",
       "11         Not stated    12     152     3574                 42.53   \n",
       "\n",
       "    Deaths Rate Deaths Percent (%)  \n",
       "0     68.842615             68.84%  \n",
       "1     19.894305             19.89%  \n",
       "2      3.836909              3.84%  \n",
       "3      2.077483              2.08%  \n",
       "4      0.780169              0.78%  \n",
       "5      0.301061              0.30%  \n",
       "6      0.156196              0.16%  \n",
       "7      0.109256              0.11%  \n",
       "8      0.113303              0.11%  \n",
       "9      0.123014              0.12%  \n",
       "10     0.323722              0.32%  \n",
       "11     3.441969              3.44%  "
      ]
     },
     "execution_count": 7,
     "metadata": {},
     "output_type": "execute_result"
    }
   ],
   "source": [
    "birthweight_df"
   ]
  },
  {
   "cell_type": "code",
   "execution_count": 8,
   "metadata": {},
   "outputs": [],
   "source": [
    "rate_percent = list(birthweight_df[\"Deaths Rate\"])\n",
    "birth_weight = list(birthweight_df[\"Birth Weight Code\"])"
   ]
  },
  {
   "cell_type": "code",
   "execution_count": 9,
   "metadata": {},
   "outputs": [],
   "source": [
    "bw_x_axis = birth_weight\n",
    "bw_y_axis = rate_percent"
   ]
  },
  {
   "cell_type": "code",
   "execution_count": 10,
   "metadata": {},
   "outputs": [
    {
     "data": {
      "text/plain": [
       "0     499 grams or less\n",
       "1       500 - 999 grams\n",
       "2     1000 - 1499 grams\n",
       "3     1500 - 1999 grams\n",
       "4     2000 - 2499 grams\n",
       "5     2500 - 2999 grams\n",
       "6     3000 - 3499 grams\n",
       "7     3500 - 3999 grams\n",
       "8     4000 - 4499 grams\n",
       "9     4500 - 4999 grams\n",
       "10    5000 - 8165 grams\n",
       "11           Not stated\n",
       "Name: Birth Weight Code, dtype: object"
      ]
     },
     "execution_count": 10,
     "metadata": {},
     "output_type": "execute_result"
    }
   ],
   "source": [
    "birthweight_df[\"Birth Weight Code\"]"
   ]
  },
  {
   "cell_type": "code",
   "execution_count": 11,
   "metadata": {},
   "outputs": [
    {
     "data": {
      "text/plain": [
       "0     68.842615\n",
       "1     19.894305\n",
       "2      3.836909\n",
       "3      2.077483\n",
       "4      0.780169\n",
       "5      0.301061\n",
       "6      0.156196\n",
       "7      0.109256\n",
       "8      0.113303\n",
       "9      0.123014\n",
       "10     0.323722\n",
       "11     3.441969\n",
       "Name: Deaths Rate, dtype: float64"
      ]
     },
     "execution_count": 11,
     "metadata": {},
     "output_type": "execute_result"
    }
   ],
   "source": [
    "birthweight_df[\"Deaths Rate\"]"
   ]
  },
  {
   "cell_type": "code",
   "execution_count": 12,
   "metadata": {},
   "outputs": [
    {
     "data": {
      "image/png": "[encoded data removed]",
      "text/plain": [
       "<Figure size 720x576 with 1 Axes>"
      ]
     },
     "metadata": {
      "needs_background": "light"
     },
     "output_type": "display_data"
    }
   ],
   "source": [
    "label = [\" ~ 0.5kg\", \"~0.9kg\", \"~1.5kg\", \"~ 1.9kg\", \"~2.5kg\", \"~3.0kg\", \"~3.5kg\",\"~4.0kg\",\"~4.5kg\", \"~5.0kg\",\"5.0~8.1 kg\",\"Not Stated\"]\n",
    "plt.figure(figsize=(10,8))\n",
    "plt.bar(bw_x_axis, bw_y_axis, color = \"#D35400\", alpha = 0.5,align =\"center\")\n",
    "plt.title(f\"Birth Weights Infant Mortality Rate\",fontsize=15)\n",
    "plt.xlabel(\"Weights\", fontsize= 10)\n",
    "plt.ylabel(\"Infant Mortality Rate\",fontsize= 10)\n",
    "plt.xticks(bw_x_axis, label, fontsize=10, rotation=30)\n",
    "plt.savefig(\"Images/bw_Birth Weights Infant Mortality Rate.png\")\n",
    "plt.show()"
   ]
  },
  {
   "cell_type": "code",
   "execution_count": 13,
   "metadata": {},
   "outputs": [
    {
     "data": {
      "text/html": [
       "<div>\n",
       "<style scoped>\n",
       "    .dataframe tbody tr th:only-of-type {\n",
       "        vertical-align: middle;\n",
       "    }\n",
       "\n",
       "    .dataframe tbody tr th {\n",
       "        vertical-align: top;\n",
       "    }\n",
       "\n",
       "    .dataframe thead th {\n",
       "        text-align: right;\n",
       "    }\n",
       "</style>\n",
       "<table border=\"1\" class=\"dataframe\">\n",
       "  <thead>\n",
       "    <tr style=\"text-align: right;\">\n",
       "      <th></th>\n",
       "      <th>Race</th>\n",
       "      <th>Data Type</th>\n",
       "      <th>2006</th>\n",
       "      <th>2007</th>\n",
       "      <th>2008</th>\n",
       "      <th>2009</th>\n",
       "      <th>2010</th>\n",
       "      <th>2011</th>\n",
       "      <th>2012</th>\n",
       "      <th>2013</th>\n",
       "      <th>2014</th>\n",
       "      <th>2015</th>\n",
       "    </tr>\n",
       "  </thead>\n",
       "  <tbody>\n",
       "    <tr>\n",
       "      <th>0</th>\n",
       "      <td>American Indian</td>\n",
       "      <td>Number</td>\n",
       "      <td>3,586</td>\n",
       "      <td>3,686</td>\n",
       "      <td>3,663</td>\n",
       "      <td>3,538</td>\n",
       "      <td>3,557</td>\n",
       "      <td>3,501</td>\n",
       "      <td>3,504</td>\n",
       "      <td>3,435</td>\n",
       "      <td>3,434</td>\n",
       "      <td>3,332</td>\n",
       "    </tr>\n",
       "    <tr>\n",
       "      <th>1</th>\n",
       "      <td>NaN</td>\n",
       "      <td>Percent</td>\n",
       "      <td>7.50%</td>\n",
       "      <td>7.50%</td>\n",
       "      <td>7.40%</td>\n",
       "      <td>7.30%</td>\n",
       "      <td>7.60%</td>\n",
       "      <td>7.50%</td>\n",
       "      <td>7.60%</td>\n",
       "      <td>7.50%</td>\n",
       "      <td>7.60%</td>\n",
       "      <td>7.50%</td>\n",
       "    </tr>\n",
       "    <tr>\n",
       "      <th>2</th>\n",
       "      <td>Asian and Pacific Islander</td>\n",
       "      <td>Number</td>\n",
       "      <td>19,539</td>\n",
       "      <td>20,601</td>\n",
       "      <td>20,685</td>\n",
       "      <td>20,741</td>\n",
       "      <td>20,938</td>\n",
       "      <td>21,200</td>\n",
       "      <td>22,388</td>\n",
       "      <td>22,148</td>\n",
       "      <td>22,755</td>\n",
       "      <td>23,617</td>\n",
       "    </tr>\n",
       "    <tr>\n",
       "      <th>3</th>\n",
       "      <td>NaN</td>\n",
       "      <td>Percent</td>\n",
       "      <td>8.10%</td>\n",
       "      <td>8.10%</td>\n",
       "      <td>8.20%</td>\n",
       "      <td>8.30%</td>\n",
       "      <td>8.50%</td>\n",
       "      <td>8.40%</td>\n",
       "      <td>8.20%</td>\n",
       "      <td>8.30%</td>\n",
       "      <td>8.10%</td>\n",
       "      <td>8.40%</td>\n",
       "    </tr>\n",
       "    <tr>\n",
       "      <th>4</th>\n",
       "      <td>Black or African American</td>\n",
       "      <td>Number</td>\n",
       "      <td>90,445</td>\n",
       "      <td>91,422</td>\n",
       "      <td>89,659</td>\n",
       "      <td>87,360</td>\n",
       "      <td>83,881</td>\n",
       "      <td>82,018</td>\n",
       "      <td>81,244</td>\n",
       "      <td>80,814</td>\n",
       "      <td>82,108</td>\n",
       "      <td>83,316</td>\n",
       "    </tr>\n",
       "    <tr>\n",
       "      <th>5</th>\n",
       "      <td>NaN</td>\n",
       "      <td>Percent</td>\n",
       "      <td>13.60%</td>\n",
       "      <td>13.60%</td>\n",
       "      <td>13.40%</td>\n",
       "      <td>13.30%</td>\n",
       "      <td>13.20%</td>\n",
       "      <td>13.00%</td>\n",
       "      <td>12.80%</td>\n",
       "      <td>12.80%</td>\n",
       "      <td>12.80%</td>\n",
       "      <td>13.00%</td>\n",
       "    </tr>\n",
       "    <tr>\n",
       "      <th>6</th>\n",
       "      <td>Hispanic or Latino</td>\n",
       "      <td>Number</td>\n",
       "      <td>72,538</td>\n",
       "      <td>73,661</td>\n",
       "      <td>72,398</td>\n",
       "      <td>69,356</td>\n",
       "      <td>65,868</td>\n",
       "      <td>64,449</td>\n",
       "      <td>63,190</td>\n",
       "      <td>63,832</td>\n",
       "      <td>64,424</td>\n",
       "      <td>66,623</td>\n",
       "    </tr>\n",
       "    <tr>\n",
       "      <th>7</th>\n",
       "      <td>NaN</td>\n",
       "      <td>Percent</td>\n",
       "      <td>7.00%</td>\n",
       "      <td>6.90%</td>\n",
       "      <td>7.00%</td>\n",
       "      <td>6.90%</td>\n",
       "      <td>7.00%</td>\n",
       "      <td>7.00%</td>\n",
       "      <td>7.00%</td>\n",
       "      <td>7.10%</td>\n",
       "      <td>7.10%</td>\n",
       "      <td>7.20%</td>\n",
       "    </tr>\n",
       "    <tr>\n",
       "      <th>8</th>\n",
       "      <td>Non-Hispanic White</td>\n",
       "      <td>Number</td>\n",
       "      <td>168,871</td>\n",
       "      <td>167,986</td>\n",
       "      <td>163,561</td>\n",
       "      <td>158,954</td>\n",
       "      <td>154,325</td>\n",
       "      <td>152,047</td>\n",
       "      <td>148,636</td>\n",
       "      <td>148,390</td>\n",
       "      <td>149,574</td>\n",
       "      <td>147,479</td>\n",
       "    </tr>\n",
       "    <tr>\n",
       "      <th>9</th>\n",
       "      <td>NaN</td>\n",
       "      <td>Percent</td>\n",
       "      <td>7.30%</td>\n",
       "      <td>7.30%</td>\n",
       "      <td>7.20%</td>\n",
       "      <td>7.20%</td>\n",
       "      <td>7.10%</td>\n",
       "      <td>7.10%</td>\n",
       "      <td>7.00%</td>\n",
       "      <td>7.00%</td>\n",
       "      <td>7.00%</td>\n",
       "      <td>6.90%</td>\n",
       "    </tr>\n",
       "    <tr>\n",
       "      <th>10</th>\n",
       "      <td>Total</td>\n",
       "      <td>Number</td>\n",
       "      <td>351,974</td>\n",
       "      <td>354,333</td>\n",
       "      <td>347,209</td>\n",
       "      <td>336,747</td>\n",
       "      <td>325,563</td>\n",
       "      <td>319,711</td>\n",
       "      <td>315,709</td>\n",
       "      <td>315,099</td>\n",
       "      <td>318,847</td>\n",
       "      <td>320,869</td>\n",
       "    </tr>\n",
       "    <tr>\n",
       "      <th>11</th>\n",
       "      <td>NaN</td>\n",
       "      <td>Percent</td>\n",
       "      <td>8.30%</td>\n",
       "      <td>8.20%</td>\n",
       "      <td>8.20%</td>\n",
       "      <td>8.20%</td>\n",
       "      <td>8.10%</td>\n",
       "      <td>8.10%</td>\n",
       "      <td>8.00%</td>\n",
       "      <td>8.00%</td>\n",
       "      <td>8.00%</td>\n",
       "      <td>8.10%</td>\n",
       "    </tr>\n",
       "  </tbody>\n",
       "</table>\n",
       "</div>"
      ],
      "text/plain": [
       "                          Race Data Type     2006     2007     2008     2009  \\\n",
       "0              American Indian    Number    3,586    3,686    3,663    3,538   \n",
       "1                          NaN   Percent    7.50%    7.50%    7.40%    7.30%   \n",
       "2   Asian and Pacific Islander    Number   19,539   20,601   20,685   20,741   \n",
       "3                          NaN   Percent    8.10%    8.10%    8.20%    8.30%   \n",
       "4    Black or African American    Number   90,445   91,422   89,659   87,360   \n",
       "5                          NaN   Percent   13.60%   13.60%   13.40%   13.30%   \n",
       "6           Hispanic or Latino    Number   72,538   73,661   72,398   69,356   \n",
       "7                          NaN   Percent    7.00%    6.90%    7.00%    6.90%   \n",
       "8           Non-Hispanic White    Number  168,871  167,986  163,561  158,954   \n",
       "9                          NaN   Percent    7.30%    7.30%    7.20%    7.20%   \n",
       "10                       Total    Number  351,974  354,333  347,209  336,747   \n",
       "11                         NaN   Percent    8.30%    8.20%    8.20%    8.20%   \n",
       "\n",
       "       2010     2011     2012     2013     2014     2015  \n",
       "0     3,557    3,501    3,504    3,435    3,434    3,332  \n",
       "1     7.60%    7.50%    7.60%    7.50%    7.60%    7.50%  \n",
       "2    20,938   21,200   22,388   22,148   22,755   23,617  \n",
       "3     8.50%    8.40%    8.20%    8.30%    8.10%    8.40%  \n",
       "4    83,881   82,018   81,244   80,814   82,108   83,316  \n",
       "5    13.20%   13.00%   12.80%   12.80%   12.80%   13.00%  \n",
       "6    65,868   64,449   63,190   63,832   64,424   66,623  \n",
       "7     7.00%    7.00%    7.00%    7.10%    7.10%    7.20%  \n",
       "8   154,325  152,047  148,636  148,390  149,574  147,479  \n",
       "9     7.10%    7.10%    7.00%    7.00%    7.00%    6.90%  \n",
       "10  325,563  319,711  315,709  315,099  318,847  320,869  \n",
       "11    8.10%    8.10%    8.00%    8.00%    8.00%    8.10%  "
      ]
     },
     "execution_count": 13,
     "metadata": {},
     "output_type": "execute_result"
    }
   ],
   "source": [
    "file= \"datafiles/total_low_brith_weight_by_race.csv\"\n",
    "total_birthweight_df=pd.read_csv(file)\n",
    "total_birthweight_df"
   ]
  },
  {
   "cell_type": "code",
   "execution_count": 14,
   "metadata": {},
   "outputs": [],
   "source": [
    "for i in range(6,10):\n",
    "    total_birthweight_df[f\"200{i}\"]=total_birthweight_df[f\"200{i}\"].str.replace(\"%\", \"\")"
   ]
  },
  {
   "cell_type": "code",
   "execution_count": 15,
   "metadata": {},
   "outputs": [],
   "source": [
    "for i in range(10,16):\n",
    "    total_birthweight_df[f\"20{i}\"]=total_birthweight_df[f\"20{i}\"].str.replace(\"%\", \"\")"
   ]
  },
  {
   "cell_type": "code",
   "execution_count": 16,
   "metadata": {},
   "outputs": [
    {
     "data": {
      "text/html": [
       "<div>\n",
       "<style scoped>\n",
       "    .dataframe tbody tr th:only-of-type {\n",
       "        vertical-align: middle;\n",
       "    }\n",
       "\n",
       "    .dataframe tbody tr th {\n",
       "        vertical-align: top;\n",
       "    }\n",
       "\n",
       "    .dataframe thead th {\n",
       "        text-align: right;\n",
       "    }\n",
       "</style>\n",
       "<table border=\"1\" class=\"dataframe\">\n",
       "  <thead>\n",
       "    <tr style=\"text-align: right;\">\n",
       "      <th></th>\n",
       "      <th>Race</th>\n",
       "      <th>Data Type</th>\n",
       "      <th>2006</th>\n",
       "      <th>2007</th>\n",
       "      <th>2008</th>\n",
       "      <th>2009</th>\n",
       "      <th>2010</th>\n",
       "      <th>2011</th>\n",
       "      <th>2012</th>\n",
       "      <th>2013</th>\n",
       "      <th>2014</th>\n",
       "      <th>2015</th>\n",
       "    </tr>\n",
       "  </thead>\n",
       "  <tbody>\n",
       "    <tr>\n",
       "      <th>0</th>\n",
       "      <td>American Indian</td>\n",
       "      <td>Number</td>\n",
       "      <td>3,586</td>\n",
       "      <td>3,686</td>\n",
       "      <td>3,663</td>\n",
       "      <td>3,538</td>\n",
       "      <td>3,557</td>\n",
       "      <td>3,501</td>\n",
       "      <td>3,504</td>\n",
       "      <td>3,435</td>\n",
       "      <td>3,434</td>\n",
       "      <td>3,332</td>\n",
       "    </tr>\n",
       "    <tr>\n",
       "      <th>1</th>\n",
       "      <td>NaN</td>\n",
       "      <td>Percent</td>\n",
       "      <td>7.50</td>\n",
       "      <td>7.50</td>\n",
       "      <td>7.40</td>\n",
       "      <td>7.30</td>\n",
       "      <td>7.60</td>\n",
       "      <td>7.50</td>\n",
       "      <td>7.60</td>\n",
       "      <td>7.50</td>\n",
       "      <td>7.60</td>\n",
       "      <td>7.50</td>\n",
       "    </tr>\n",
       "    <tr>\n",
       "      <th>2</th>\n",
       "      <td>Asian and Pacific Islander</td>\n",
       "      <td>Number</td>\n",
       "      <td>19,539</td>\n",
       "      <td>20,601</td>\n",
       "      <td>20,685</td>\n",
       "      <td>20,741</td>\n",
       "      <td>20,938</td>\n",
       "      <td>21,200</td>\n",
       "      <td>22,388</td>\n",
       "      <td>22,148</td>\n",
       "      <td>22,755</td>\n",
       "      <td>23,617</td>\n",
       "    </tr>\n",
       "    <tr>\n",
       "      <th>3</th>\n",
       "      <td>NaN</td>\n",
       "      <td>Percent</td>\n",
       "      <td>8.10</td>\n",
       "      <td>8.10</td>\n",
       "      <td>8.20</td>\n",
       "      <td>8.30</td>\n",
       "      <td>8.50</td>\n",
       "      <td>8.40</td>\n",
       "      <td>8.20</td>\n",
       "      <td>8.30</td>\n",
       "      <td>8.10</td>\n",
       "      <td>8.40</td>\n",
       "    </tr>\n",
       "    <tr>\n",
       "      <th>4</th>\n",
       "      <td>Black or African American</td>\n",
       "      <td>Number</td>\n",
       "      <td>90,445</td>\n",
       "      <td>91,422</td>\n",
       "      <td>89,659</td>\n",
       "      <td>87,360</td>\n",
       "      <td>83,881</td>\n",
       "      <td>82,018</td>\n",
       "      <td>81,244</td>\n",
       "      <td>80,814</td>\n",
       "      <td>82,108</td>\n",
       "      <td>83,316</td>\n",
       "    </tr>\n",
       "    <tr>\n",
       "      <th>5</th>\n",
       "      <td>NaN</td>\n",
       "      <td>Percent</td>\n",
       "      <td>13.60</td>\n",
       "      <td>13.60</td>\n",
       "      <td>13.40</td>\n",
       "      <td>13.30</td>\n",
       "      <td>13.20</td>\n",
       "      <td>13.00</td>\n",
       "      <td>12.80</td>\n",
       "      <td>12.80</td>\n",
       "      <td>12.80</td>\n",
       "      <td>13.00</td>\n",
       "    </tr>\n",
       "    <tr>\n",
       "      <th>6</th>\n",
       "      <td>Hispanic or Latino</td>\n",
       "      <td>Number</td>\n",
       "      <td>72,538</td>\n",
       "      <td>73,661</td>\n",
       "      <td>72,398</td>\n",
       "      <td>69,356</td>\n",
       "      <td>65,868</td>\n",
       "      <td>64,449</td>\n",
       "      <td>63,190</td>\n",
       "      <td>63,832</td>\n",
       "      <td>64,424</td>\n",
       "      <td>66,623</td>\n",
       "    </tr>\n",
       "    <tr>\n",
       "      <th>7</th>\n",
       "      <td>NaN</td>\n",
       "      <td>Percent</td>\n",
       "      <td>7.00</td>\n",
       "      <td>6.90</td>\n",
       "      <td>7.00</td>\n",
       "      <td>6.90</td>\n",
       "      <td>7.00</td>\n",
       "      <td>7.00</td>\n",
       "      <td>7.00</td>\n",
       "      <td>7.10</td>\n",
       "      <td>7.10</td>\n",
       "      <td>7.20</td>\n",
       "    </tr>\n",
       "    <tr>\n",
       "      <th>8</th>\n",
       "      <td>Non-Hispanic White</td>\n",
       "      <td>Number</td>\n",
       "      <td>168,871</td>\n",
       "      <td>167,986</td>\n",
       "      <td>163,561</td>\n",
       "      <td>158,954</td>\n",
       "      <td>154,325</td>\n",
       "      <td>152,047</td>\n",
       "      <td>148,636</td>\n",
       "      <td>148,390</td>\n",
       "      <td>149,574</td>\n",
       "      <td>147,479</td>\n",
       "    </tr>\n",
       "    <tr>\n",
       "      <th>9</th>\n",
       "      <td>NaN</td>\n",
       "      <td>Percent</td>\n",
       "      <td>7.30</td>\n",
       "      <td>7.30</td>\n",
       "      <td>7.20</td>\n",
       "      <td>7.20</td>\n",
       "      <td>7.10</td>\n",
       "      <td>7.10</td>\n",
       "      <td>7.00</td>\n",
       "      <td>7.00</td>\n",
       "      <td>7.00</td>\n",
       "      <td>6.90</td>\n",
       "    </tr>\n",
       "    <tr>\n",
       "      <th>10</th>\n",
       "      <td>Total</td>\n",
       "      <td>Number</td>\n",
       "      <td>351,974</td>\n",
       "      <td>354,333</td>\n",
       "      <td>347,209</td>\n",
       "      <td>336,747</td>\n",
       "      <td>325,563</td>\n",
       "      <td>319,711</td>\n",
       "      <td>315,709</td>\n",
       "      <td>315,099</td>\n",
       "      <td>318,847</td>\n",
       "      <td>320,869</td>\n",
       "    </tr>\n",
       "    <tr>\n",
       "      <th>11</th>\n",
       "      <td>NaN</td>\n",
       "      <td>Percent</td>\n",
       "      <td>8.30</td>\n",
       "      <td>8.20</td>\n",
       "      <td>8.20</td>\n",
       "      <td>8.20</td>\n",
       "      <td>8.10</td>\n",
       "      <td>8.10</td>\n",
       "      <td>8.00</td>\n",
       "      <td>8.00</td>\n",
       "      <td>8.00</td>\n",
       "      <td>8.10</td>\n",
       "    </tr>\n",
       "  </tbody>\n",
       "</table>\n",
       "</div>"
      ],
      "text/plain": [
       "                          Race Data Type     2006     2007     2008     2009  \\\n",
       "0              American Indian    Number    3,586    3,686    3,663    3,538   \n",
       "1                          NaN   Percent     7.50     7.50     7.40     7.30   \n",
       "2   Asian and Pacific Islander    Number   19,539   20,601   20,685   20,741   \n",
       "3                          NaN   Percent     8.10     8.10     8.20     8.30   \n",
       "4    Black or African American    Number   90,445   91,422   89,659   87,360   \n",
       "5                          NaN   Percent    13.60    13.60    13.40    13.30   \n",
       "6           Hispanic or Latino    Number   72,538   73,661   72,398   69,356   \n",
       "7                          NaN   Percent     7.00     6.90     7.00     6.90   \n",
       "8           Non-Hispanic White    Number  168,871  167,986  163,561  158,954   \n",
       "9                          NaN   Percent     7.30     7.30     7.20     7.20   \n",
       "10                       Total    Number  351,974  354,333  347,209  336,747   \n",
       "11                         NaN   Percent     8.30     8.20     8.20     8.20   \n",
       "\n",
       "       2010     2011     2012     2013     2014     2015  \n",
       "0     3,557    3,501    3,504    3,435    3,434    3,332  \n",
       "1      7.60     7.50     7.60     7.50     7.60     7.50  \n",
       "2    20,938   21,200   22,388   22,148   22,755   23,617  \n",
       "3      8.50     8.40     8.20     8.30     8.10     8.40  \n",
       "4    83,881   82,018   81,244   80,814   82,108   83,316  \n",
       "5     13.20    13.00    12.80    12.80    12.80    13.00  \n",
       "6    65,868   64,449   63,190   63,832   64,424   66,623  \n",
       "7      7.00     7.00     7.00     7.10     7.10     7.20  \n",
       "8   154,325  152,047  148,636  148,390  149,574  147,479  \n",
       "9      7.10     7.10     7.00     7.00     7.00     6.90  \n",
       "10  325,563  319,711  315,709  315,099  318,847  320,869  \n",
       "11     8.10     8.10     8.00     8.00     8.00     8.10  "
      ]
     },
     "execution_count": 16,
     "metadata": {},
     "output_type": "execute_result"
    }
   ],
   "source": [
    "total_birthweight_df"
   ]
  },
  {
   "cell_type": "code",
   "execution_count": 17,
   "metadata": {},
   "outputs": [],
   "source": [
    "for i in range(6,10):\n",
    "    total_birthweight_df[f\"200{i}\"]=total_birthweight_df[f\"200{i}\"].str.replace(\",\", \"\")\n",
    "    total_birthweight_df[f\"200{i}\"]=total_birthweight_df[f\"200{i}\"].astype(float)"
   ]
  },
  {
   "cell_type": "code",
   "execution_count": 18,
   "metadata": {},
   "outputs": [],
   "source": [
    "for i in range(10,16):\n",
    "    total_birthweight_df[f\"20{i}\"]=total_birthweight_df[f\"20{i}\"].str.replace(\",\", \"\")\n",
    "    total_birthweight_df[f\"20{i}\"]=total_birthweight_df[f\"20{i}\"].astype(float)"
   ]
  },
  {
   "cell_type": "code",
   "execution_count": 19,
   "metadata": {},
   "outputs": [
    {
     "data": {
      "text/plain": [
       "Race          object\n",
       "Data Type     object\n",
       "2006         float64\n",
       "2007         float64\n",
       "2008         float64\n",
       "2009         float64\n",
       "2010         float64\n",
       "2011         float64\n",
       "2012         float64\n",
       "2013         float64\n",
       "2014         float64\n",
       "2015         float64\n",
       "dtype: object"
      ]
     },
     "execution_count": 19,
     "metadata": {},
     "output_type": "execute_result"
    }
   ],
   "source": [
    "total_birthweight_df['2006'].astype(float)\n",
    "total_birthweight_df.dtypes"
   ]
  },
  {
   "cell_type": "code",
   "execution_count": 20,
   "metadata": {},
   "outputs": [],
   "source": [
    "percent_race_df = pd.DataFrame(total_birthweight_df[total_birthweight_df[\"Data Type\"].isin([\"Percent\"])])\n",
    "total_race_df =pd.DataFrame(total_birthweight_df[total_birthweight_df[\"Data Type\"].isin([\"Number\"])])"
   ]
  },
  {
   "cell_type": "code",
   "execution_count": 21,
   "metadata": {},
   "outputs": [],
   "source": [
    "race_list = list(total_race_df[\"Race\"])"
   ]
  },
  {
   "cell_type": "code",
   "execution_count": 22,
   "metadata": {},
   "outputs": [],
   "source": [
    "race_list = race_list[0:5]"
   ]
  },
  {
   "cell_type": "code",
   "execution_count": 23,
   "metadata": {},
   "outputs": [],
   "source": [
    "percent_race_df=percent_race_df.iloc[0:5]"
   ]
  },
  {
   "cell_type": "code",
   "execution_count": 24,
   "metadata": {},
   "outputs": [],
   "source": [
    "percent_race_df[\"Race\"] = race_list"
   ]
  },
  {
   "cell_type": "code",
   "execution_count": 25,
   "metadata": {},
   "outputs": [],
   "source": [
    "percent_race_df=percent_race_df.set_index(\"Race\")\n",
    "total_race_df=total_race_df.set_index(\"Race\")"
   ]
  },
  {
   "cell_type": "code",
   "execution_count": 26,
   "metadata": {},
   "outputs": [],
   "source": [
    "percent_race_df = percent_race_df.drop(\"Data Type\",axis=1)"
   ]
  },
  {
   "cell_type": "code",
   "execution_count": 27,
   "metadata": {},
   "outputs": [],
   "source": [
    "total_race_df=total_race_df.drop(\"Data Type\",axis=1)"
   ]
  },
  {
   "cell_type": "code",
   "execution_count": 28,
   "metadata": {},
   "outputs": [],
   "source": [
    "average_percent_race_list = []\n",
    "for race in race_list :\n",
    "    average_percent_race_list.append(percent_race_df.loc[f\"{race}\"].mean())"
   ]
  },
  {
   "cell_type": "code",
   "execution_count": 29,
   "metadata": {},
   "outputs": [],
   "source": [
    "percent_race_df[\"Average %\"] = average_percent_race_list"
   ]
  },
  {
   "cell_type": "code",
   "execution_count": 30,
   "metadata": {},
   "outputs": [
    {
     "data": {
      "text/plain": [
       "2006         float64\n",
       "2007         float64\n",
       "2008         float64\n",
       "2009         float64\n",
       "2010         float64\n",
       "2011         float64\n",
       "2012         float64\n",
       "2013         float64\n",
       "2014         float64\n",
       "2015         float64\n",
       "Average %    float64\n",
       "dtype: object"
      ]
     },
     "execution_count": 30,
     "metadata": {},
     "output_type": "execute_result"
    }
   ],
   "source": [
    "percent_race_df.dtypes"
   ]
  },
  {
   "cell_type": "code",
   "execution_count": 31,
   "metadata": {},
   "outputs": [
    {
     "data": {
      "text/html": [
       "<div>\n",
       "<style scoped>\n",
       "    .dataframe tbody tr th:only-of-type {\n",
       "        vertical-align: middle;\n",
       "    }\n",
       "\n",
       "    .dataframe tbody tr th {\n",
       "        vertical-align: top;\n",
       "    }\n",
       "\n",
       "    .dataframe thead th {\n",
       "        text-align: right;\n",
       "    }\n",
       "</style>\n",
       "<table border=\"1\" class=\"dataframe\">\n",
       "  <thead>\n",
       "    <tr style=\"text-align: right;\">\n",
       "      <th></th>\n",
       "      <th>2006</th>\n",
       "      <th>2007</th>\n",
       "      <th>2008</th>\n",
       "      <th>2009</th>\n",
       "      <th>2010</th>\n",
       "      <th>2011</th>\n",
       "      <th>2012</th>\n",
       "      <th>2013</th>\n",
       "      <th>2014</th>\n",
       "      <th>2015</th>\n",
       "      <th>Average %</th>\n",
       "    </tr>\n",
       "    <tr>\n",
       "      <th>Race</th>\n",
       "      <th></th>\n",
       "      <th></th>\n",
       "      <th></th>\n",
       "      <th></th>\n",
       "      <th></th>\n",
       "      <th></th>\n",
       "      <th></th>\n",
       "      <th></th>\n",
       "      <th></th>\n",
       "      <th></th>\n",
       "      <th></th>\n",
       "    </tr>\n",
       "  </thead>\n",
       "  <tbody>\n",
       "    <tr>\n",
       "      <th>American Indian</th>\n",
       "      <td>7.5</td>\n",
       "      <td>7.5</td>\n",
       "      <td>7.4</td>\n",
       "      <td>7.3</td>\n",
       "      <td>7.6</td>\n",
       "      <td>7.5</td>\n",
       "      <td>7.6</td>\n",
       "      <td>7.5</td>\n",
       "      <td>7.6</td>\n",
       "      <td>7.5</td>\n",
       "      <td>7.50</td>\n",
       "    </tr>\n",
       "    <tr>\n",
       "      <th>Asian and Pacific Islander</th>\n",
       "      <td>8.1</td>\n",
       "      <td>8.1</td>\n",
       "      <td>8.2</td>\n",
       "      <td>8.3</td>\n",
       "      <td>8.5</td>\n",
       "      <td>8.4</td>\n",
       "      <td>8.2</td>\n",
       "      <td>8.3</td>\n",
       "      <td>8.1</td>\n",
       "      <td>8.4</td>\n",
       "      <td>8.26</td>\n",
       "    </tr>\n",
       "    <tr>\n",
       "      <th>Black or African American</th>\n",
       "      <td>13.6</td>\n",
       "      <td>13.6</td>\n",
       "      <td>13.4</td>\n",
       "      <td>13.3</td>\n",
       "      <td>13.2</td>\n",
       "      <td>13.0</td>\n",
       "      <td>12.8</td>\n",
       "      <td>12.8</td>\n",
       "      <td>12.8</td>\n",
       "      <td>13.0</td>\n",
       "      <td>13.15</td>\n",
       "    </tr>\n",
       "    <tr>\n",
       "      <th>Hispanic or Latino</th>\n",
       "      <td>7.0</td>\n",
       "      <td>6.9</td>\n",
       "      <td>7.0</td>\n",
       "      <td>6.9</td>\n",
       "      <td>7.0</td>\n",
       "      <td>7.0</td>\n",
       "      <td>7.0</td>\n",
       "      <td>7.1</td>\n",
       "      <td>7.1</td>\n",
       "      <td>7.2</td>\n",
       "      <td>7.02</td>\n",
       "    </tr>\n",
       "    <tr>\n",
       "      <th>Non-Hispanic White</th>\n",
       "      <td>7.3</td>\n",
       "      <td>7.3</td>\n",
       "      <td>7.2</td>\n",
       "      <td>7.2</td>\n",
       "      <td>7.1</td>\n",
       "      <td>7.1</td>\n",
       "      <td>7.0</td>\n",
       "      <td>7.0</td>\n",
       "      <td>7.0</td>\n",
       "      <td>6.9</td>\n",
       "      <td>7.11</td>\n",
       "    </tr>\n",
       "  </tbody>\n",
       "</table>\n",
       "</div>"
      ],
      "text/plain": [
       "                            2006  2007  2008  2009  2010  2011  2012  2013  \\\n",
       "Race                                                                         \n",
       "American Indian              7.5   7.5   7.4   7.3   7.6   7.5   7.6   7.5   \n",
       "Asian and Pacific Islander   8.1   8.1   8.2   8.3   8.5   8.4   8.2   8.3   \n",
       "Black or African American   13.6  13.6  13.4  13.3  13.2  13.0  12.8  12.8   \n",
       "Hispanic or Latino           7.0   6.9   7.0   6.9   7.0   7.0   7.0   7.1   \n",
       "Non-Hispanic White           7.3   7.3   7.2   7.2   7.1   7.1   7.0   7.0   \n",
       "\n",
       "                            2014  2015  Average %  \n",
       "Race                                               \n",
       "American Indian              7.6   7.5       7.50  \n",
       "Asian and Pacific Islander   8.1   8.4       8.26  \n",
       "Black or African American   12.8  13.0      13.15  \n",
       "Hispanic or Latino           7.1   7.2       7.02  \n",
       "Non-Hispanic White           7.0   6.9       7.11  "
      ]
     },
     "execution_count": 31,
     "metadata": {},
     "output_type": "execute_result"
    }
   ],
   "source": [
    "percent_race_df"
   ]
  },
  {
   "cell_type": "code",
   "execution_count": 32,
   "metadata": {},
   "outputs": [],
   "source": [
    "bw_race_x_axis = race_list \n",
    "bw_race_y_axis = list(percent_race_df[\"Average %\"])"
   ]
  },
  {
   "cell_type": "code",
   "execution_count": 33,
   "metadata": {},
   "outputs": [
    {
     "data": {
      "text/plain": [
       "[7.5, 8.26, 13.15, 7.0200000000000005, 7.110000000000001]"
      ]
     },
     "execution_count": 33,
     "metadata": {},
     "output_type": "execute_result"
    }
   ],
   "source": [
    "bw_race_y_axis"
   ]
  },
  {
   "cell_type": "code",
   "execution_count": 34,
   "metadata": {},
   "outputs": [
    {
     "data": {
      "image/png": "[encoded data removed]",
      "text/plain": [
       "<Figure size 504x360 with 1 Axes>"
      ]
     },
     "metadata": {
      "needs_background": "light"
     },
     "output_type": "display_data"
    }
   ],
   "source": [
    "label = ['American Indian', 'Asian and Pacific Islander', 'African American', 'Hispanic or Latino', 'Non-Hispanic White']\n",
    "plt.figure(figsize=(7,5))\n",
    "plt.bar(bw_race_x_axis, bw_race_y_axis, color = \"#7FB3D5\", alpha = 0.5,align =\"center\")\n",
    "plt.title(f\"Birth Weights Infant Mortality Rate by Race\",fontsize=15)\n",
    "plt.xlabel(\"Race\", fontsize= 10)\n",
    "plt.ylabel(\"Infant Mortality Rate (Average %)\",fontsize= 10)\n",
    "plt.xticks(bw_race_x_axis, label, fontsize=10, rotation=90)\n",
    "plt.savefig(\"Images/bw_Birth Weights Infant Mortality Rate by Race.png\")\n",
    "plt.show()"
   ]
  },
  {
   "cell_type": "code",
   "execution_count": 35,
   "metadata": {},
   "outputs": [
    {
     "data": {
      "text/html": [
       "<div>\n",
       "<style scoped>\n",
       "    .dataframe tbody tr th:only-of-type {\n",
       "        vertical-align: middle;\n",
       "    }\n",
       "\n",
       "    .dataframe tbody tr th {\n",
       "        vertical-align: top;\n",
       "    }\n",
       "\n",
       "    .dataframe thead th {\n",
       "        text-align: right;\n",
       "    }\n",
       "</style>\n",
       "<table border=\"1\" class=\"dataframe\">\n",
       "  <thead>\n",
       "    <tr style=\"text-align: right;\">\n",
       "      <th></th>\n",
       "      <th>Location</th>\n",
       "      <th>American Indian</th>\n",
       "      <th>Asian and Pacific Islander</th>\n",
       "      <th>African American</th>\n",
       "      <th>Hispanic or Latino</th>\n",
       "      <th>Non-Hispanic White</th>\n",
       "    </tr>\n",
       "  </thead>\n",
       "  <tbody>\n",
       "    <tr>\n",
       "      <th>0</th>\n",
       "      <td>United States</td>\n",
       "      <td>71.8</td>\n",
       "      <td>41.9</td>\n",
       "      <td>72.4</td>\n",
       "      <td>71.0</td>\n",
       "      <td>64.7</td>\n",
       "    </tr>\n",
       "  </tbody>\n",
       "</table>\n",
       "</div>"
      ],
      "text/plain": [
       "        Location  American Indian  Asian and Pacific Islander  \\\n",
       "0  United States             71.8                        41.9   \n",
       "\n",
       "   African American  Hispanic or Latino  Non-Hispanic White  \n",
       "0              72.4                71.0                64.7  "
      ]
     },
     "execution_count": 35,
     "metadata": {},
     "output_type": "execute_result"
    }
   ],
   "source": [
    "file= \"datafiles/overweight_rates.csv\"\n",
    "overweight_df=pd.read_csv(file)\n",
    "overweight_df"
   ]
  },
  {
   "cell_type": "code",
   "execution_count": 36,
   "metadata": {},
   "outputs": [],
   "source": [
    "overweight_df = overweight_df.set_index(\"Location\")"
   ]
  },
  {
   "cell_type": "code",
   "execution_count": 37,
   "metadata": {},
   "outputs": [],
   "source": [
    "list_overweight = list(overweight_df.loc['United States'])"
   ]
  },
  {
   "cell_type": "code",
   "execution_count": 38,
   "metadata": {},
   "outputs": [
    {
     "data": {
      "text/plain": [
       "[71.8, 41.9, 72.4, 71.0, 64.7]"
      ]
     },
     "execution_count": 38,
     "metadata": {},
     "output_type": "execute_result"
    }
   ],
   "source": [
    "list_overweight"
   ]
  },
  {
   "cell_type": "code",
   "execution_count": 39,
   "metadata": {},
   "outputs": [
    {
     "data": {
      "text/plain": [
       "American Indian               float64\n",
       "Asian and Pacific Islander    float64\n",
       "African American              float64\n",
       "Hispanic or Latino            float64\n",
       "Non-Hispanic White            float64\n",
       "dtype: object"
      ]
     },
     "execution_count": 39,
     "metadata": {},
     "output_type": "execute_result"
    }
   ],
   "source": [
    "overweight_df.dtypes"
   ]
  },
  {
   "cell_type": "code",
   "execution_count": 40,
   "metadata": {},
   "outputs": [
    {
     "data": {
      "image/png": "[encoded data removed]",
      "text/plain": [
       "<Figure size 720x576 with 1 Axes>"
      ]
     },
     "metadata": {
      "needs_background": "light"
     },
     "output_type": "display_data"
    }
   ],
   "source": [
    "label = ['American Indian', 'Asian and Pacific Islander', 'African American', 'Hispanic or Latino', 'Non-Hispanic White']\n",
    "plt.figure(figsize=(10,8))\n",
    "plt.bar(label,list_overweight, color = \"#8E44AD\", alpha = 0.5,align =\"center\")\n",
    "plt.title(f\"Overweight and Obesity Rates for Adults by Race/Ethnicity\",fontsize=15)\n",
    "plt.xlabel(\"Race\", fontsize= 10)\n",
    "plt.ylabel(\"Average %\",fontsize= 10)\n",
    "plt.xticks(fontsize=10, rotation=90)\n",
    "plt.ylim(0,100)\n",
    "plt.savefig(\"Images/bw_Overweight and Obesity Rates for Adults by Race.png\")\n",
    "plt.show()\n",
    "#plt.xticks(x_axis, label, fontsize=10, rotation=90)"
   ]
  },
  {
   "cell_type": "code",
   "execution_count": 41,
   "metadata": {},
   "outputs": [
    {
     "data": {
      "text/html": [
       "<div>\n",
       "<style scoped>\n",
       "    .dataframe tbody tr th:only-of-type {\n",
       "        vertical-align: middle;\n",
       "    }\n",
       "\n",
       "    .dataframe tbody tr th {\n",
       "        vertical-align: top;\n",
       "    }\n",
       "\n",
       "    .dataframe thead th {\n",
       "        text-align: right;\n",
       "    }\n",
       "</style>\n",
       "<table border=\"1\" class=\"dataframe\">\n",
       "  <thead>\n",
       "    <tr style=\"text-align: right;\">\n",
       "      <th></th>\n",
       "      <th>Location</th>\n",
       "      <th>American Indian</th>\n",
       "      <th>Asian and Pacific Islander</th>\n",
       "      <th>African American</th>\n",
       "      <th>Hispanic or Latino</th>\n",
       "      <th>Non-Hispanic White</th>\n",
       "    </tr>\n",
       "  </thead>\n",
       "  <tbody>\n",
       "    <tr>\n",
       "      <th>0</th>\n",
       "      <td>United States</td>\n",
       "      <td>31.9</td>\n",
       "      <td>15.2</td>\n",
       "      <td>39.0</td>\n",
       "      <td>20.6</td>\n",
       "      <td>32.4</td>\n",
       "    </tr>\n",
       "  </tbody>\n",
       "</table>\n",
       "</div>"
      ],
      "text/plain": [
       "        Location  American Indian  Asian and Pacific Islander  \\\n",
       "0  United States             31.9                        15.2   \n",
       "\n",
       "   African American  Hispanic or Latino  Non-Hispanic White  \n",
       "0              39.0                20.6                32.4  "
      ]
     },
     "execution_count": 41,
     "metadata": {},
     "output_type": "execute_result"
    }
   ],
   "source": [
    "file= \"datafiles/total_rate_hypertension_race.csv\"\n",
    "hypertension_df=pd.read_csv(file)\n",
    "hypertension_df"
   ]
  },
  {
   "cell_type": "code",
   "execution_count": 42,
   "metadata": {},
   "outputs": [
    {
     "data": {
      "text/plain": [
       "Location                       object\n",
       "American Indian               float64\n",
       "Asian and Pacific Islander    float64\n",
       "African American              float64\n",
       "Hispanic or Latino            float64\n",
       "Non-Hispanic White            float64\n",
       "dtype: object"
      ]
     },
     "execution_count": 42,
     "metadata": {},
     "output_type": "execute_result"
    }
   ],
   "source": [
    "hypertension_df.dtypes"
   ]
  },
  {
   "cell_type": "code",
   "execution_count": 43,
   "metadata": {},
   "outputs": [],
   "source": [
    "hypertension_df =hypertension_df.set_index(\"Location\")"
   ]
  },
  {
   "cell_type": "code",
   "execution_count": 44,
   "metadata": {},
   "outputs": [],
   "source": [
    "list_hypertension=list(hypertension_df.loc[\"United States\"])"
   ]
  },
  {
   "cell_type": "code",
   "execution_count": 45,
   "metadata": {},
   "outputs": [
    {
     "data": {
      "text/plain": [
       "[31.9, 15.2, 39.0, 20.6, 32.4]"
      ]
     },
     "execution_count": 45,
     "metadata": {},
     "output_type": "execute_result"
    }
   ],
   "source": [
    "list_hypertension"
   ]
  },
  {
   "cell_type": "code",
   "execution_count": 46,
   "metadata": {},
   "outputs": [
    {
     "data": {
      "image/png": "[encoded data removed]",
      "text/plain": [
       "<Figure size 720x576 with 1 Axes>"
      ]
     },
     "metadata": {
      "needs_background": "light"
     },
     "output_type": "display_data"
    }
   ],
   "source": [
    "label = ['American Indian', 'Asian and Pacific Islander', 'African American', 'Hispanic or Latino', 'Non-Hispanic White']\n",
    "plt.figure(figsize=(10,8))\n",
    "plt.bar(label,list_hypertension, color = \"#EC7063\", alpha = 0.5,align =\"center\")\n",
    "plt.title(f\"Prevalence of hypertension among US adults (18+)\",fontsize=15)\n",
    "plt.xlabel(\"Race\", fontsize= 10)\n",
    "plt.ylabel(\"Average %\",fontsize= 10)\n",
    "plt.xticks(fontsize=10, rotation=90)\n",
    "plt.ylim(0,100)\n",
    "plt.savefig(\"Images/bw_Prevalence of hypertension among US adults.png\")\n",
    "plt.show()"
   ]
  },
  {
   "cell_type": "code",
   "execution_count": 47,
   "metadata": {},
   "outputs": [
    {
     "data": {
      "text/html": [
       "<div>\n",
       "<style scoped>\n",
       "    .dataframe tbody tr th:only-of-type {\n",
       "        vertical-align: middle;\n",
       "    }\n",
       "\n",
       "    .dataframe tbody tr th {\n",
       "        vertical-align: top;\n",
       "    }\n",
       "\n",
       "    .dataframe thead th {\n",
       "        text-align: right;\n",
       "    }\n",
       "</style>\n",
       "<table border=\"1\" class=\"dataframe\">\n",
       "  <thead>\n",
       "    <tr style=\"text-align: right;\">\n",
       "      <th></th>\n",
       "      <th>Location</th>\n",
       "      <th>American Indian</th>\n",
       "      <th>Asian and Pacific Islander</th>\n",
       "      <th>African American</th>\n",
       "      <th>Hispanic or Latino</th>\n",
       "      <th>Non-Hispanic White</th>\n",
       "    </tr>\n",
       "  </thead>\n",
       "  <tbody>\n",
       "    <tr>\n",
       "      <th>0</th>\n",
       "      <td>United States</td>\n",
       "      <td>7.61</td>\n",
       "      <td>4.075</td>\n",
       "      <td>11.11</td>\n",
       "      <td>5.0</td>\n",
       "      <td>5.06</td>\n",
       "    </tr>\n",
       "  </tbody>\n",
       "</table>\n",
       "</div>"
      ],
      "text/plain": [
       "        Location  American Indian  Asian and Pacific Islander  \\\n",
       "0  United States             7.61                       4.075   \n",
       "\n",
       "   African American  Hispanic or Latino  Non-Hispanic White  \n",
       "0             11.11                 5.0                5.06  "
      ]
     },
     "execution_count": 47,
     "metadata": {},
     "output_type": "execute_result"
    }
   ],
   "source": [
    "file= \"datafiles/IMR_by_race.csv\"\n",
    "IMR_df=pd.read_csv(file)\n",
    "IMR_df"
   ]
  },
  {
   "cell_type": "code",
   "execution_count": 48,
   "metadata": {},
   "outputs": [],
   "source": [
    "IMR_df=IMR_df.set_index(\"Location\")"
   ]
  },
  {
   "cell_type": "code",
   "execution_count": 49,
   "metadata": {},
   "outputs": [],
   "source": [
    "list_IMR_rate=list(IMR_df.loc[\"United States\"])"
   ]
  },
  {
   "cell_type": "code",
   "execution_count": 50,
   "metadata": {},
   "outputs": [
    {
     "ename": "NameError",
     "evalue": "name 'bb' is not defined",
     "output_type": "error",
     "traceback": [
      "\u001b[1;31m---------------------------------------------------------------------------\u001b[0m",
      "\u001b[1;31mNameError\u001b[0m                                 Traceback (most recent call last)",
      "\u001b[1;32m<ipython-input-50-6127ef909de3>\u001b[0m in \u001b[0;36m<module>\u001b[1;34m\u001b[0m\n\u001b[0;32m     15\u001b[0m \u001b[0mplt\u001b[0m\u001b[1;33m.\u001b[0m\u001b[0mylim\u001b[0m\u001b[1;33m(\u001b[0m\u001b[1;36m0\u001b[0m\u001b[1;33m,\u001b[0m\u001b[1;36m100\u001b[0m\u001b[1;33m)\u001b[0m\u001b[1;33m\u001b[0m\u001b[1;33m\u001b[0m\u001b[0m\n\u001b[0;32m     16\u001b[0m \u001b[0mplt\u001b[0m\u001b[1;33m.\u001b[0m\u001b[0mlegend\u001b[0m\u001b[1;33m(\u001b[0m\u001b[1;33m)\u001b[0m\u001b[1;33m\u001b[0m\u001b[1;33m\u001b[0m\u001b[0m\n\u001b[1;32m---> 17\u001b[1;33m \u001b[0mplt\u001b[0m\u001b[1;33m.\u001b[0m\u001b[0msavefig\u001b[0m\u001b[1;33m(\u001b[0m\u001b[1;34m\"Images/bw_IMR Factors by Race.png\"\u001b[0m\u001b[1;33m,\u001b[0m \u001b[0mbb\u001b[0m\u001b[1;33m)\u001b[0m\u001b[1;33m\u001b[0m\u001b[1;33m\u001b[0m\u001b[0m\n\u001b[0m\u001b[0;32m     18\u001b[0m \u001b[0mplt\u001b[0m\u001b[1;33m.\u001b[0m\u001b[0mshow\u001b[0m\u001b[1;33m(\u001b[0m\u001b[1;33m)\u001b[0m\u001b[1;33m\u001b[0m\u001b[1;33m\u001b[0m\u001b[0m\n",
      "\u001b[1;31mNameError\u001b[0m: name 'bb' is not defined"
     ]
    },
    {
     "data": {
      "image/png": "[encoded data removed]",
      "text/plain": [
       "<Figure size 720x576 with 1 Axes>"
      ]
     },
     "metadata": {
      "needs_background": "light"
     },
     "output_type": "display_data"
    }
   ],
   "source": [
    "label = ['American Indian', 'Asian and Pacific Islander', 'African American', 'Hispanic or Latino', 'Non-Hispanic White']\n",
    "bar_width=0.3\n",
    "plt.figure(figsize=(10,8))\n",
    "r1=np.arange(len(label))\n",
    "r2=[x + bar_width for x in r1]\n",
    "r3=[x + bar_width for x in r2]\n",
    "plt.bar(r1, bw_race_y_axis,color = \"#7fe5b9\",width=bar_width,edgecolor='white', label='Preterm Baby')\n",
    "plt.bar(r2,list_hypertension, color = \"#bde592\",width=bar_width,edgecolor='white', label='Hypertension')\n",
    "plt.bar(r3,list_overweight, color = \"#ffba50\", width=bar_width,edgecolor='white', label='Overweight')\n",
    "plt.plot(label, list_IMR_rate,label = \"IMR Rate\",color = \"#fc6060\", marker='o', linestyle='dashed',linewidth=2, markersize=12)\n",
    "plt.title(f\"Infant Mortality Rate Factors by Race\",fontsize=15)\n",
    "plt.xlabel(\"Race\", fontsize= 10)\n",
    "plt.ylabel(\"Rate (Average %)\",fontsize= 10)\n",
    "plt.xticks([r+bar_width for r in range(len(label))],['American Indian', 'Asian and Pacific Islander', 'African American', 'Hispanic or Latino', 'Non-Hispanic White'], fontsize=10, rotation=90)\n",
    "plt.ylim(0,100)\n",
    "plt.legend()\n",
    "plt.savefig(\"Images/bw_IMR Factors by Race.png\", bb)\n",
    "plt.show()"
   ]
  },
  {
   "cell_type": "code",
   "execution_count": null,
   "metadata": {},
   "outputs": [],
   "source": []
  },
  {
   "cell_type": "code",
   "execution_count": null,
   "metadata": {},
   "outputs": [],
   "source": []
  }
 ],
 "metadata": {
  "kernelspec": {
   "display_name": "Python [conda env:PythonData]",
   "language": "python",
   "name": "pythondata"
  },
  "language_info": {
   "codemirror_mode": {
    "name": "ipython",
    "version": 3
   },
   "file_extension": ".py",
   "mimetype": "text/x-python",
   "name": "python",
   "nbconvert_exporter": "python",
   "pygments_lexer": "ipython3",
   "version": "3.7.1"
  }
 },
 "nbformat": 4,
 "nbformat_minor": 2
}
