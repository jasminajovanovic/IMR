{
 "cells": [
  {
   "cell_type": "code",
   "execution_count": 1,
   "metadata": {},
   "outputs": [],
   "source": [
    "import pandas as pd\n",
    "from scipy import stats\n",
    "from matplotlib import pyplot as plt\n",
    "import numpy as np\n",
    "from statsmodels.stats import multicomp"
   ]
  },
  {
   "cell_type": "markdown",
   "metadata": {},
   "source": [
    "## Infant Mortaility by Race"
   ]
  },
  {
   "cell_type": "code",
   "execution_count": 2,
   "metadata": {},
   "outputs": [],
   "source": [
    "dfImrByCountyByRace = pd.read_csv(\"datafiles/IMR by county by race, 2007-2016.txt\", sep='\\t')\n",
    "# dfImrByCountyByRace['Race'] = [\"Unknown\" if race is np.nan else race for race in dfImrByCountyByRace['Race']]\n",
    "\n",
    "dfImrByCountyByRace.dropna(subset=['Death Rate'], inplace=True)\n"
   ]
  },
  {
   "cell_type": "code",
   "execution_count": 3,
   "metadata": {},
   "outputs": [],
   "source": [
    "# remove rows with unreliable death rate data (fewer than 20 deaths)\n",
    "dfImrByCountyByRace = dfImrByCountyByRace.loc[dfImrByCountyByRace['Death Rate'].map(lambda x: 'Unreliable' not in str(x))]\n",
    "# dfImrByCountyByRace.loc[dfImrByCountyByRace['Race'] is np.nan]\n",
    "\n",
    "# convert death rate to float\n",
    "dfImrByCountyByRace['Death Rate'] = dfImrByCountyByRace['Death Rate'].map(lambda x: float(x))\n"
   ]
  },
  {
   "cell_type": "code",
   "execution_count": 4,
   "metadata": {},
   "outputs": [],
   "source": [
    "blacks = dfImrByCountyByRace.loc[dfImrByCountyByRace['Race Code'] == '2054-5']['Death Rate']\n",
    "natives = dfImrByCountyByRace.loc[dfImrByCountyByRace['Race Code'] == '1002-5']['Death Rate']\n",
    "whites = dfImrByCountyByRace.loc[dfImrByCountyByRace['Race Code'] == '2106-3']['Death Rate']\n",
    "asians = dfImrByCountyByRace.loc[dfImrByCountyByRace['Race Code'] == 'A-PI']['Death Rate']\n",
    "unknown = dfImrByCountyByRace.loc[dfImrByCountyByRace['Race'] == 'Unknown']['Death Rate']\n"
   ]
  },
  {
   "cell_type": "code",
   "execution_count": 5,
   "metadata": {},
   "outputs": [
    {
     "data": {
      "image/png": "[encoded data removed]",
      "text/plain": [
       "<Figure size 720x432 with 1 Axes>"
      ]
     },
     "metadata": {
      "needs_background": "light"
     },
     "output_type": "display_data"
    }
   ],
   "source": [
    "ax = dfImrByCountyByRace.boxplot('Death Rate', by=\"Race\", figsize=(10, 6))\n",
    "fig = ax.get_figure()\n",
    "ax.set_xticklabels (['American Indian/\\nAlaska native', 'Asian/\\nPacific Islander', 'Black/\\nAfrican American', 'White'])\n",
    "fig.savefig('Images/Death Rate by Race.png')"
   ]
  },
  {
   "cell_type": "markdown",
   "metadata": {},
   "source": [
    "### ANOVA shows that one (or more) race(s) is significantly different than the rest"
   ]
  },
  {
   "cell_type": "code",
   "execution_count": 6,
   "metadata": {},
   "outputs": [
    {
     "data": {
      "text/plain": [
       "F_onewayResult(statistic=750.6014547203422, pvalue=4.2275575569554066e-222)"
      ]
     },
     "execution_count": 6,
     "metadata": {},
     "output_type": "execute_result"
    }
   ],
   "source": [
    "stats.f_oneway(blacks, natives, whites, asians)"
   ]
  },
  {
   "cell_type": "code",
   "execution_count": 7,
   "metadata": {},
   "outputs": [],
   "source": [
    "blacksByCounty = dfImrByCountyByRace.set_index(['Race', 'County']).sort_values(['Race', 'Death Rate'], ascending=False).loc['Black or African American']\n",
    "blacksByCounty = blacksByCounty.loc[blacksByCounty['Death Rate'].notnull()]"
   ]
  },
  {
   "cell_type": "code",
   "execution_count": 8,
   "metadata": {},
   "outputs": [],
   "source": [
    "blacksHighestImrCounties = blacksByCounty.head(10)\n",
    "blacksHighestImrCounties.to_csv(\"datafiles/AfricanAmericanHighestImrCounties.csv\")"
   ]
  },
  {
   "cell_type": "code",
   "execution_count": 9,
   "metadata": {},
   "outputs": [],
   "source": [
    "blacksLowestImrCounties = blacksByCounty.tail(10)\n",
    "blacksLowestImrCounties.to_csv(\"datafiles/AfricanAmericanLowestImrCounties.csv\")"
   ]
  },
  {
   "cell_type": "code",
   "execution_count": 10,
   "metadata": {},
   "outputs": [],
   "source": [
    "# use pairwise tukeyhsd to find out which race is significnalty different than the rest  \n",
    "answer = multicomp.pairwise_tukeyhsd(dfImrByCountyByRace['Death Rate'], dfImrByCountyByRace['Race'], alpha=0.05)"
   ]
  },
  {
   "cell_type": "code",
   "execution_count": 11,
   "metadata": {},
   "outputs": [
    {
     "name": "stdout",
     "output_type": "stream",
     "text": [
      "                    Multiple Comparison of Means - Tukey HSD,FWER=0.05                    \n",
      "==========================================================================================\n",
      "             group1                        group2          meandiff  lower   upper  reject\n",
      "------------------------------------------------------------------------------------------\n",
      "American Indian or Alaska Native Asian or Pacific Islander -4.0327  -4.8902 -3.1751  True \n",
      "American Indian or Alaska Native Black or African American  2.3376   1.5157  3.1595  True \n",
      "American Indian or Alaska Native           White           -3.8264  -4.6396 -3.0131  True \n",
      "   Asian or Pacific Islander     Black or African American  6.3702   5.9138  6.8267  True \n",
      "   Asian or Pacific Islander               White            0.2063  -0.2344  0.647  False \n",
      "   Black or African American               White           -6.1639  -6.5305 -5.7973  True \n",
      "------------------------------------------------------------------------------------------\n"
     ]
    }
   ],
   "source": [
    "# reject True proves the hypothesis - that there is significant difference between two means\n",
    "print(answer)"
   ]
  },
  {
   "cell_type": "markdown",
   "metadata": {},
   "source": [
    "## Infant Mortality by Race, 2007-2016"
   ]
  },
  {
   "cell_type": "code",
   "execution_count": 12,
   "metadata": {},
   "outputs": [],
   "source": [
    "dfImrByYearByRace = pd.read_csv(\"datafiles/imr by year by race, 2007-2016.txt\", sep='\\t')"
   ]
  },
  {
   "cell_type": "code",
   "execution_count": 13,
   "metadata": {},
   "outputs": [],
   "source": [
    "dfImrByYearByRace.dropna(subset=['Year of Death'], inplace=True)\n",
    "dfImrByYearByRace['Race'] = ['Unknown' if myrace is np.nan else myrace for myrace in dfImrByYearByRace['Race']]"
   ]
  },
  {
   "cell_type": "code",
   "execution_count": 14,
   "metadata": {},
   "outputs": [
    {
     "data": {
      "text/html": [
       "<div>\n",
       "<style scoped>\n",
       "    .dataframe tbody tr th:only-of-type {\n",
       "        vertical-align: middle;\n",
       "    }\n",
       "\n",
       "    .dataframe tbody tr th {\n",
       "        vertical-align: top;\n",
       "    }\n",
       "\n",
       "    .dataframe thead th {\n",
       "        text-align: right;\n",
       "    }\n",
       "</style>\n",
       "<table border=\"1\" class=\"dataframe\">\n",
       "  <thead>\n",
       "    <tr style=\"text-align: right;\">\n",
       "      <th></th>\n",
       "      <th>Notes</th>\n",
       "      <th>Year of Death</th>\n",
       "      <th>Year of Death Code</th>\n",
       "      <th>Race</th>\n",
       "      <th>Race Code</th>\n",
       "      <th>Deaths</th>\n",
       "      <th>Births</th>\n",
       "      <th>Death Rate</th>\n",
       "    </tr>\n",
       "  </thead>\n",
       "  <tbody>\n",
       "    <tr>\n",
       "      <th>0</th>\n",
       "      <td>NaN</td>\n",
       "      <td>2007.0</td>\n",
       "      <td>2007.0</td>\n",
       "      <td>American Indian or Alaska Native</td>\n",
       "      <td>1002-5</td>\n",
       "      <td>456.0</td>\n",
       "      <td>49443.0</td>\n",
       "      <td>9.22</td>\n",
       "    </tr>\n",
       "    <tr>\n",
       "      <th>1</th>\n",
       "      <td>NaN</td>\n",
       "      <td>2007.0</td>\n",
       "      <td>2007.0</td>\n",
       "      <td>Asian or Pacific Islander</td>\n",
       "      <td>A-PI</td>\n",
       "      <td>1216.0</td>\n",
       "      <td>254488.0</td>\n",
       "      <td>4.78</td>\n",
       "    </tr>\n",
       "    <tr>\n",
       "      <th>2</th>\n",
       "      <td>NaN</td>\n",
       "      <td>2007.0</td>\n",
       "      <td>2007.0</td>\n",
       "      <td>Black or African American</td>\n",
       "      <td>2054-5</td>\n",
       "      <td>8732.0</td>\n",
       "      <td>675676.0</td>\n",
       "      <td>12.92</td>\n",
       "    </tr>\n",
       "    <tr>\n",
       "      <th>3</th>\n",
       "      <td>NaN</td>\n",
       "      <td>2007.0</td>\n",
       "      <td>2007.0</td>\n",
       "      <td>White</td>\n",
       "      <td>2106-3</td>\n",
       "      <td>18749.0</td>\n",
       "      <td>3336626.0</td>\n",
       "      <td>5.62</td>\n",
       "    </tr>\n",
       "    <tr>\n",
       "      <th>4</th>\n",
       "      <td>Total</td>\n",
       "      <td>2007.0</td>\n",
       "      <td>2007.0</td>\n",
       "      <td>Unknown</td>\n",
       "      <td>NaN</td>\n",
       "      <td>29153.0</td>\n",
       "      <td>4316233.0</td>\n",
       "      <td>6.75</td>\n",
       "    </tr>\n",
       "  </tbody>\n",
       "</table>\n",
       "</div>"
      ],
      "text/plain": [
       "   Notes  Year of Death  Year of Death Code                              Race  \\\n",
       "0    NaN         2007.0              2007.0  American Indian or Alaska Native   \n",
       "1    NaN         2007.0              2007.0         Asian or Pacific Islander   \n",
       "2    NaN         2007.0              2007.0         Black or African American   \n",
       "3    NaN         2007.0              2007.0                             White   \n",
       "4  Total         2007.0              2007.0                           Unknown   \n",
       "\n",
       "  Race Code   Deaths     Births  Death Rate  \n",
       "0    1002-5    456.0    49443.0        9.22  \n",
       "1      A-PI   1216.0   254488.0        4.78  \n",
       "2    2054-5   8732.0   675676.0       12.92  \n",
       "3    2106-3  18749.0  3336626.0        5.62  \n",
       "4       NaN  29153.0  4316233.0        6.75  "
      ]
     },
     "execution_count": 14,
     "metadata": {},
     "output_type": "execute_result"
    }
   ],
   "source": [
    "dfImrByYearByRace.head()"
   ]
  },
  {
   "cell_type": "code",
   "execution_count": 15,
   "metadata": {},
   "outputs": [],
   "source": [
    "dfPlot = dfImrByYearByRace.pivot('Year of Death', 'Race', 'Death Rate')\n",
    "dfPlot.reset_index(inplace=True)\n"
   ]
  },
  {
   "cell_type": "code",
   "execution_count": 16,
   "metadata": {},
   "outputs": [
    {
     "data": {
      "text/html": [
       "<div>\n",
       "<style scoped>\n",
       "    .dataframe tbody tr th:only-of-type {\n",
       "        vertical-align: middle;\n",
       "    }\n",
       "\n",
       "    .dataframe tbody tr th {\n",
       "        vertical-align: top;\n",
       "    }\n",
       "\n",
       "    .dataframe thead th {\n",
       "        text-align: right;\n",
       "    }\n",
       "</style>\n",
       "<table border=\"1\" class=\"dataframe\">\n",
       "  <thead>\n",
       "    <tr style=\"text-align: right;\">\n",
       "      <th>Race</th>\n",
       "      <th>Year of Death</th>\n",
       "      <th>American Indian or Alaska Native</th>\n",
       "      <th>Asian or Pacific Islander</th>\n",
       "      <th>Black or African American</th>\n",
       "      <th>Unknown</th>\n",
       "      <th>White</th>\n",
       "    </tr>\n",
       "  </thead>\n",
       "  <tbody>\n",
       "    <tr>\n",
       "      <th>0</th>\n",
       "      <td>2007.0</td>\n",
       "      <td>9.22</td>\n",
       "      <td>4.78</td>\n",
       "      <td>12.92</td>\n",
       "      <td>6.75</td>\n",
       "      <td>5.62</td>\n",
       "    </tr>\n",
       "    <tr>\n",
       "      <th>1</th>\n",
       "      <td>2008.0</td>\n",
       "      <td>8.42</td>\n",
       "      <td>4.51</td>\n",
       "      <td>12.37</td>\n",
       "      <td>6.61</td>\n",
       "      <td>5.56</td>\n",
       "    </tr>\n",
       "    <tr>\n",
       "      <th>2</th>\n",
       "      <td>2009.0</td>\n",
       "      <td>8.47</td>\n",
       "      <td>4.40</td>\n",
       "      <td>12.12</td>\n",
       "      <td>6.39</td>\n",
       "      <td>5.33</td>\n",
       "    </tr>\n",
       "    <tr>\n",
       "      <th>3</th>\n",
       "      <td>2010.0</td>\n",
       "      <td>8.28</td>\n",
       "      <td>4.27</td>\n",
       "      <td>11.21</td>\n",
       "      <td>6.14</td>\n",
       "      <td>5.21</td>\n",
       "    </tr>\n",
       "    <tr>\n",
       "      <th>4</th>\n",
       "      <td>2011.0</td>\n",
       "      <td>8.21</td>\n",
       "      <td>4.36</td>\n",
       "      <td>11.15</td>\n",
       "      <td>6.07</td>\n",
       "      <td>5.12</td>\n",
       "    </tr>\n",
       "  </tbody>\n",
       "</table>\n",
       "</div>"
      ],
      "text/plain": [
       "Race  Year of Death  American Indian or Alaska Native  \\\n",
       "0            2007.0                              9.22   \n",
       "1            2008.0                              8.42   \n",
       "2            2009.0                              8.47   \n",
       "3            2010.0                              8.28   \n",
       "4            2011.0                              8.21   \n",
       "\n",
       "Race  Asian or Pacific Islander  Black or African American  Unknown  White  \n",
       "0                          4.78                      12.92     6.75   5.62  \n",
       "1                          4.51                      12.37     6.61   5.56  \n",
       "2                          4.40                      12.12     6.39   5.33  \n",
       "3                          4.27                      11.21     6.14   5.21  \n",
       "4                          4.36                      11.15     6.07   5.12  "
      ]
     },
     "execution_count": 16,
     "metadata": {},
     "output_type": "execute_result"
    }
   ],
   "source": [
    "dfPlot.head()"
   ]
  },
  {
   "cell_type": "code",
   "execution_count": 17,
   "metadata": {},
   "outputs": [
    {
     "data": {
      "image/png": "[encoded data removed]",
      "text/plain": [
       "<Figure size 432x288 with 1 Axes>"
      ]
     },
     "metadata": {
      "needs_background": "light"
     },
     "output_type": "display_data"
    }
   ],
   "source": [
    "plt.plot(dfPlot['Year of Death'], dfPlot['Unknown'], label='Unknown')\n",
    "plt.plot(dfPlot['Year of Death'], dfPlot['American Indian or Alaska Native'], label='American Indian or Alaska Native')\n",
    "plt.plot(dfPlot['Year of Death'], dfPlot['Asian or Pacific Islander'], label='Asian or Pacific Islander')\n",
    "plt.plot(dfPlot['Year of Death'], dfPlot['Black or African American'], label='Black or African American')\n",
    "plt.plot(dfPlot['Year of Death'], dfPlot['White'], label='White')\n",
    "plt.ylim(0, 20)\n",
    "plt.legend()\n",
    "plt.xlabel(\"Year\")\n",
    "plt.ylabel(\"Death Rate (per 1000)\")\n",
    "plt.title (\"IMR by Race, 2007-2016\")\n",
    "plt.rcParams[\"figure.figsize\"] = [8, 6]\n",
    "plt.savefig(\"Images/IMR by Race, 2007-2016.png\")\n",
    "plt.show()"
   ]
  },
  {
   "cell_type": "markdown",
   "metadata": {},
   "source": [
    "## Leading cause of infant mortality by age\n"
   ]
  },
  {
   "cell_type": "code",
   "execution_count": 18,
   "metadata": {},
   "outputs": [
    {
     "data": {
      "text/html": [
       "<div>\n",
       "<style scoped>\n",
       "    .dataframe tbody tr th:only-of-type {\n",
       "        vertical-align: middle;\n",
       "    }\n",
       "\n",
       "    .dataframe tbody tr th {\n",
       "        vertical-align: top;\n",
       "    }\n",
       "\n",
       "    .dataframe thead th {\n",
       "        text-align: right;\n",
       "    }\n",
       "</style>\n",
       "<table border=\"1\" class=\"dataframe\">\n",
       "  <thead>\n",
       "    <tr style=\"text-align: right;\">\n",
       "      <th></th>\n",
       "      <th>Notes</th>\n",
       "      <th>Age of Infant at Death</th>\n",
       "      <th>Age of Infant at Death Code</th>\n",
       "      <th>Cause of death</th>\n",
       "      <th>Cause of death Code</th>\n",
       "      <th>Deaths</th>\n",
       "      <th>Births</th>\n",
       "      <th>Death Rate</th>\n",
       "    </tr>\n",
       "  </thead>\n",
       "  <tbody>\n",
       "    <tr>\n",
       "      <th>701</th>\n",
       "      <td>NaN</td>\n",
       "      <td>1 - 23 hours</td>\n",
       "      <td>2.0</td>\n",
       "      <td>Extreme immaturity</td>\n",
       "      <td>P07.2</td>\n",
       "      <td>18147.0</td>\n",
       "      <td>40445070.0</td>\n",
       "      <td>0.45</td>\n",
       "    </tr>\n",
       "    <tr>\n",
       "      <th>3988</th>\n",
       "      <td>NaN</td>\n",
       "      <td>28 - 364 days</td>\n",
       "      <td>5.0</td>\n",
       "      <td>Sudden infant death syndrome - SIDS</td>\n",
       "      <td>R95</td>\n",
       "      <td>17167.0</td>\n",
       "      <td>40445070.0</td>\n",
       "      <td>0.42</td>\n",
       "    </tr>\n",
       "    <tr>\n",
       "      <th>163</th>\n",
       "      <td>NaN</td>\n",
       "      <td>Under 1 hour</td>\n",
       "      <td>1.0</td>\n",
       "      <td>Extreme immaturity</td>\n",
       "      <td>P07.2</td>\n",
       "      <td>10528.0</td>\n",
       "      <td>40445070.0</td>\n",
       "      <td>0.26</td>\n",
       "    </tr>\n",
       "    <tr>\n",
       "      <th>3990</th>\n",
       "      <td>NaN</td>\n",
       "      <td>28 - 364 days</td>\n",
       "      <td>5.0</td>\n",
       "      <td>Other ill-defined and unspecified causes of mo...</td>\n",
       "      <td>R99</td>\n",
       "      <td>8889.0</td>\n",
       "      <td>40445070.0</td>\n",
       "      <td>0.22</td>\n",
       "    </tr>\n",
       "    <tr>\n",
       "      <th>4071</th>\n",
       "      <td>NaN</td>\n",
       "      <td>28 - 364 days</td>\n",
       "      <td>5.0</td>\n",
       "      <td>Accidental suffocation and strangulation in bed</td>\n",
       "      <td>W75</td>\n",
       "      <td>6632.0</td>\n",
       "      <td>40445070.0</td>\n",
       "      <td>0.16</td>\n",
       "    </tr>\n",
       "  </tbody>\n",
       "</table>\n",
       "</div>"
      ],
      "text/plain": [
       "     Notes Age of Infant at Death  Age of Infant at Death Code  \\\n",
       "701    NaN           1 - 23 hours                          2.0   \n",
       "3988   NaN          28 - 364 days                          5.0   \n",
       "163    NaN           Under 1 hour                          1.0   \n",
       "3990   NaN          28 - 364 days                          5.0   \n",
       "4071   NaN          28 - 364 days                          5.0   \n",
       "\n",
       "                                         Cause of death Cause of death Code  \\\n",
       "701                                  Extreme immaturity               P07.2   \n",
       "3988                Sudden infant death syndrome - SIDS                 R95   \n",
       "163                                  Extreme immaturity               P07.2   \n",
       "3990  Other ill-defined and unspecified causes of mo...                 R99   \n",
       "4071    Accidental suffocation and strangulation in bed                 W75   \n",
       "\n",
       "       Deaths      Births  Death Rate  \n",
       "701   18147.0  40445070.0        0.45  \n",
       "3988  17167.0  40445070.0        0.42  \n",
       "163   10528.0  40445070.0        0.26  \n",
       "3990   8889.0  40445070.0        0.22  \n",
       "4071   6632.0  40445070.0        0.16  "
      ]
     },
     "execution_count": 18,
     "metadata": {},
     "output_type": "execute_result"
    }
   ],
   "source": [
    "# Death Rate by age\n",
    "dfImrByAgeByCause = pd.read_csv(\"datafiles/IMR by age by cause, 2007-2016.txt\", sep='\\t')\n",
    "\n",
    "# Convert NaN to Unknown for the age of infant\n",
    "dfImrByAgeByCause['Age of Infant at Death'] = [\"Unknown\" if age is np.nan else age for age in dfImrByAgeByCause['Age of Infant at Death']]\n",
    "\n",
    "# Remove rows with Unreliable in Death Rate column (fewer than 20 reported cases)\n",
    "dfImrByAgeByCause = dfImrByAgeByCause.loc[dfImrByAgeByCause['Death Rate'].map(lambda x: 'Unreliable' not in str(x))]\n",
    "\n",
    "# Convert Death Rate to float\n",
    "dfImrByAgeByCause['Death Rate'] = dfImrByAgeByCause['Death Rate'].map(lambda x: float(x))\n",
    "\n",
    "# Save totals in new df\n",
    "dfTotalsbyAgebyCause = dfImrByAgeByCause.loc[(dfImrByAgeByCause['Notes']=='Total') & (dfImrByAgeByCause['Age of Infant at Death']!= 'Unknown')]\n",
    "\n",
    "# Remove Totals and summary rows\n",
    "dfImrByAgeByCause = dfImrByAgeByCause[(dfImrByAgeByCause['Notes']!=\"Total\")& (dfImrByAgeByCause[\"Death Rate\"].notnull())]\n",
    "\n",
    "# Sort descending by Death Rate\n",
    "dfImrByAgeByCause.sort_values(by='Death Rate', ascending=False, inplace=True)\n",
    "\n",
    "dfImrByAgeByCause.head()\n"
   ]
  },
  {
   "cell_type": "code",
   "execution_count": 61,
   "metadata": {},
   "outputs": [
    {
     "data": {
      "image/png": "[encoded data removed]",
      "text/plain": [
       "<Figure size 720x432 with 1 Axes>"
      ]
     },
     "metadata": {
      "needs_background": "light"
     },
     "output_type": "display_data"
    }
   ],
   "source": [
    "rects = plt.barh(dfTotalsbyAgebyCause['Age of Infant at Death'], width=dfTotalsbyAgebyCause['Death Rate'], color='blue', alpha=.5, edgecolor='black')\n",
    "plt.title(\"IMR vs Age\")\n",
    "plt.ylabel(\"Age of Infant at Death\")\n",
    "plt.xlabel(\"Death Rate\")\n",
    "plt.xlim(0, 2.5)\n",
    "plt.rcParams[\"figure.figsize\"] = [10, 6]\n",
    "plt.tight_layout()\n",
    "plt.savefig(\"Images/IMR vs age.png\")\n",
    "plt.show()"
   ]
  },
  {
   "cell_type": "code",
   "execution_count": 20,
   "metadata": {},
   "outputs": [],
   "source": [
    "# removes rows that show total\n",
    "dfImrByAgeByCause = dfImrByAgeByCause.loc[(dfImrByAgeByCause['Notes'] != 'Total')].sort_values(by=['Death Rate'], ascending=False).head(20)"
   ]
  },
  {
   "cell_type": "code",
   "execution_count": 21,
   "metadata": {},
   "outputs": [
    {
     "data": {
      "text/html": [
       "<div>\n",
       "<style scoped>\n",
       "    .dataframe tbody tr th:only-of-type {\n",
       "        vertical-align: middle;\n",
       "    }\n",
       "\n",
       "    .dataframe tbody tr th {\n",
       "        vertical-align: top;\n",
       "    }\n",
       "\n",
       "    .dataframe thead th {\n",
       "        text-align: right;\n",
       "    }\n",
       "</style>\n",
       "<table border=\"1\" class=\"dataframe\">\n",
       "  <thead>\n",
       "    <tr style=\"text-align: right;\">\n",
       "      <th></th>\n",
       "      <th></th>\n",
       "      <th>Notes</th>\n",
       "      <th>Age of Infant at Death Code</th>\n",
       "      <th>Cause of death Code</th>\n",
       "      <th>Deaths</th>\n",
       "      <th>Births</th>\n",
       "      <th>Death Rate</th>\n",
       "    </tr>\n",
       "    <tr>\n",
       "      <th>Age of Infant at Death</th>\n",
       "      <th>Cause of death</th>\n",
       "      <th></th>\n",
       "      <th></th>\n",
       "      <th></th>\n",
       "      <th></th>\n",
       "      <th></th>\n",
       "      <th></th>\n",
       "    </tr>\n",
       "  </thead>\n",
       "  <tbody>\n",
       "    <tr>\n",
       "      <th rowspan=\"4\" valign=\"top\">Under 1 hour</th>\n",
       "      <th>Extreme immaturity</th>\n",
       "      <td>NaN</td>\n",
       "      <td>1.0</td>\n",
       "      <td>P07.2</td>\n",
       "      <td>10528.0</td>\n",
       "      <td>40445070.0</td>\n",
       "      <td>0.26</td>\n",
       "    </tr>\n",
       "    <tr>\n",
       "      <th>Other preterm infants</th>\n",
       "      <td>NaN</td>\n",
       "      <td>1.0</td>\n",
       "      <td>P07.3</td>\n",
       "      <td>3615.0</td>\n",
       "      <td>40445070.0</td>\n",
       "      <td>0.09</td>\n",
       "    </tr>\n",
       "    <tr>\n",
       "      <th>Newborn affected by premature rupture of membranes</th>\n",
       "      <td>NaN</td>\n",
       "      <td>1.0</td>\n",
       "      <td>P01.1</td>\n",
       "      <td>3061.0</td>\n",
       "      <td>40445070.0</td>\n",
       "      <td>0.08</td>\n",
       "    </tr>\n",
       "    <tr>\n",
       "      <th>Newborn affected by incompetent cervix</th>\n",
       "      <td>NaN</td>\n",
       "      <td>1.0</td>\n",
       "      <td>P01.0</td>\n",
       "      <td>1834.0</td>\n",
       "      <td>40445070.0</td>\n",
       "      <td>0.05</td>\n",
       "    </tr>\n",
       "    <tr>\n",
       "      <th>1 - 23 hours</th>\n",
       "      <th>Extreme immaturity</th>\n",
       "      <td>NaN</td>\n",
       "      <td>2.0</td>\n",
       "      <td>P07.2</td>\n",
       "      <td>18147.0</td>\n",
       "      <td>40445070.0</td>\n",
       "      <td>0.45</td>\n",
       "    </tr>\n",
       "  </tbody>\n",
       "</table>\n",
       "</div>"
      ],
      "text/plain": [
       "                                                                          Notes  \\\n",
       "Age of Infant at Death Cause of death                                             \n",
       "Under 1 hour           Extreme immaturity                                   NaN   \n",
       "                       Other preterm infants                                NaN   \n",
       "                       Newborn affected by premature rupture of membranes   NaN   \n",
       "                       Newborn affected by incompetent cervix               NaN   \n",
       "1 - 23 hours           Extreme immaturity                                   NaN   \n",
       "\n",
       "                                                                           Age of Infant at Death Code  \\\n",
       "Age of Infant at Death Cause of death                                                                    \n",
       "Under 1 hour           Extreme immaturity                                                          1.0   \n",
       "                       Other preterm infants                                                       1.0   \n",
       "                       Newborn affected by premature rupture of membranes                          1.0   \n",
       "                       Newborn affected by incompetent cervix                                      1.0   \n",
       "1 - 23 hours           Extreme immaturity                                                          2.0   \n",
       "\n",
       "                                                                          Cause of death Code  \\\n",
       "Age of Infant at Death Cause of death                                                           \n",
       "Under 1 hour           Extreme immaturity                                               P07.2   \n",
       "                       Other preterm infants                                            P07.3   \n",
       "                       Newborn affected by premature rupture of membranes               P01.1   \n",
       "                       Newborn affected by incompetent cervix                           P01.0   \n",
       "1 - 23 hours           Extreme immaturity                                               P07.2   \n",
       "\n",
       "                                                                            Deaths  \\\n",
       "Age of Infant at Death Cause of death                                                \n",
       "Under 1 hour           Extreme immaturity                                  10528.0   \n",
       "                       Other preterm infants                                3615.0   \n",
       "                       Newborn affected by premature rupture of membranes   3061.0   \n",
       "                       Newborn affected by incompetent cervix               1834.0   \n",
       "1 - 23 hours           Extreme immaturity                                  18147.0   \n",
       "\n",
       "                                                                               Births  \\\n",
       "Age of Infant at Death Cause of death                                                   \n",
       "Under 1 hour           Extreme immaturity                                  40445070.0   \n",
       "                       Other preterm infants                               40445070.0   \n",
       "                       Newborn affected by premature rupture of membranes  40445070.0   \n",
       "                       Newborn affected by incompetent cervix              40445070.0   \n",
       "1 - 23 hours           Extreme immaturity                                  40445070.0   \n",
       "\n",
       "                                                                           Death Rate  \n",
       "Age of Infant at Death Cause of death                                                  \n",
       "Under 1 hour           Extreme immaturity                                        0.26  \n",
       "                       Other preterm infants                                     0.09  \n",
       "                       Newborn affected by premature rupture of membranes        0.08  \n",
       "                       Newborn affected by incompetent cervix                    0.05  \n",
       "1 - 23 hours           Extreme immaturity                                        0.45  "
      ]
     },
     "execution_count": 21,
     "metadata": {},
     "output_type": "execute_result"
    }
   ],
   "source": [
    "indexedImrByAgeByCause = dfImrByAgeByCause.set_index([\"Age of Infant at Death\", \"Cause of death\"])\n",
    "indexedImrByAgeByCause.sort_values([\"Age of Infant at Death Code\", \"Death Rate\"], ascending=[True, False], inplace=True)\n",
    "indexedImrByAgeByCause.head()"
   ]
  },
  {
   "cell_type": "code",
   "execution_count": 65,
   "metadata": {},
   "outputs": [
    {
     "data": {
      "image/png": "[encoded data removed]",
      "text/plain": [
       "<Figure size 864x576 with 1 Axes>"
      ]
     },
     "metadata": {
      "needs_background": "light"
     },
     "output_type": "display_data"
    }
   ],
   "source": [
    "x_axis = dfImrByAgeByCause['Cause of death'].head(6)\n",
    "\n",
    "y_axis = dfImrByAgeByCause['Death Rate'].head(6)\n",
    "rects = plt.bar(range(len(x_axis)),y_axis, color='teal', alpha=0.5, edgecolor='black' )\n",
    "\n",
    "plt.xticks(range(len(x_axis)), ['Extreme\\nImmaturity', 'Sudden\\nInfant Death\\nSyndrom\\nSIDS', 'Extreme\\nImmaturity', 'Other\\nIll-defined/\\nUnspecificed\\nCauses', 'Accidental\\nSuffocation\\nStrangulation\\nin bed', 'Other\\nPreterm\\nInfants'], rotation='horizontal')\n",
    "plt.xlim(-1,6)\n",
    "plt.ylim(0, 0.65)\n",
    "for rect in rects:\n",
    "    indx = rects.index(rect)\n",
    "    height = rect.get_height()\n",
    "    plt.text(rect.get_x() + rect.get_width()/1.1, height + 0.02,\n",
    "             dfImrByAgeByCause['Age of Infant at Death'].iloc[indx],\n",
    "             ha='center', va='bottom', color='blue', rotation = 45)\n",
    "plt.text(4,0.6, \"Infant's Age at Death\", color=\"blue\")\n",
    "   \n",
    "plt.xlabel(\"Cause of Death\")\n",
    "plt.ylabel(\"Mortality Rate (per 1000)\")\n",
    "plt.title(\"Leading Causes of Infant Mortality\")\n",
    "plt.rcParams[\"figure.figsize\"] = [12, 8]\n",
    "# plt.tight_layout()\n",
    "plt.savefig(\"Images/Leading Causes of Infant Mortality.png\")\n",
    "plt.show()"
   ]
  },
  {
   "cell_type": "code",
   "execution_count": 23,
   "metadata": {},
   "outputs": [],
   "source": [
    "# dfImrByAgeByCause.plot('Cause of death', \"Death Rate\", kind='bar')"
   ]
  },
  {
   "cell_type": "markdown",
   "metadata": {},
   "source": [
    "## Leading cause of infant mortality by race\n"
   ]
  },
  {
   "cell_type": "code",
   "execution_count": 24,
   "metadata": {},
   "outputs": [
    {
     "data": {
      "text/html": [
       "<div>\n",
       "<style scoped>\n",
       "    .dataframe tbody tr th:only-of-type {\n",
       "        vertical-align: middle;\n",
       "    }\n",
       "\n",
       "    .dataframe tbody tr th {\n",
       "        vertical-align: top;\n",
       "    }\n",
       "\n",
       "    .dataframe thead th {\n",
       "        text-align: right;\n",
       "    }\n",
       "</style>\n",
       "<table border=\"1\" class=\"dataframe\">\n",
       "  <thead>\n",
       "    <tr style=\"text-align: right;\">\n",
       "      <th></th>\n",
       "      <th>Notes</th>\n",
       "      <th>Race</th>\n",
       "      <th>Race Code</th>\n",
       "      <th>Cause of death</th>\n",
       "      <th>Cause of death Code</th>\n",
       "      <th>Deaths</th>\n",
       "      <th>Births</th>\n",
       "      <th>Death Rate</th>\n",
       "    </tr>\n",
       "  </thead>\n",
       "  <tbody>\n",
       "    <tr>\n",
       "      <th>117</th>\n",
       "      <td>NaN</td>\n",
       "      <td>American Indian or Alaska Native</td>\n",
       "      <td>1002-5</td>\n",
       "      <td>Sudden infant death syndrome - SIDS</td>\n",
       "      <td>R95</td>\n",
       "      <td>48.0</td>\n",
       "      <td>43555.0</td>\n",
       "      <td>1.10</td>\n",
       "    </tr>\n",
       "    <tr>\n",
       "      <th>118</th>\n",
       "      <td>NaN</td>\n",
       "      <td>American Indian or Alaska Native</td>\n",
       "      <td>1002-5</td>\n",
       "      <td>Other ill-defined and unspecified causes of mo...</td>\n",
       "      <td>R99</td>\n",
       "      <td>39.0</td>\n",
       "      <td>43555.0</td>\n",
       "      <td>0.90</td>\n",
       "    </tr>\n",
       "    <tr>\n",
       "      <th>43</th>\n",
       "      <td>NaN</td>\n",
       "      <td>American Indian or Alaska Native</td>\n",
       "      <td>1002-5</td>\n",
       "      <td>Extreme immaturity</td>\n",
       "      <td>P07.2</td>\n",
       "      <td>31.0</td>\n",
       "      <td>43555.0</td>\n",
       "      <td>0.71</td>\n",
       "    </tr>\n",
       "    <tr>\n",
       "      <th>248</th>\n",
       "      <td>NaN</td>\n",
       "      <td>Asian or Pacific Islander</td>\n",
       "      <td>A-PI</td>\n",
       "      <td>Extreme immaturity</td>\n",
       "      <td>P07.2</td>\n",
       "      <td>171.0</td>\n",
       "      <td>302283.0</td>\n",
       "      <td>0.57</td>\n",
       "    </tr>\n",
       "    <tr>\n",
       "      <th>369</th>\n",
       "      <td>NaN</td>\n",
       "      <td>Asian or Pacific Islander</td>\n",
       "      <td>A-PI</td>\n",
       "      <td>Other ill-defined and unspecified causes of mo...</td>\n",
       "      <td>R99</td>\n",
       "      <td>50.0</td>\n",
       "      <td>302283.0</td>\n",
       "      <td>0.17</td>\n",
       "    </tr>\n",
       "  </tbody>\n",
       "</table>\n",
       "</div>"
      ],
      "text/plain": [
       "    Notes                              Race Race Code  \\\n",
       "117   NaN  American Indian or Alaska Native    1002-5   \n",
       "118   NaN  American Indian or Alaska Native    1002-5   \n",
       "43    NaN  American Indian or Alaska Native    1002-5   \n",
       "248   NaN         Asian or Pacific Islander      A-PI   \n",
       "369   NaN         Asian or Pacific Islander      A-PI   \n",
       "\n",
       "                                        Cause of death Cause of death Code  \\\n",
       "117                Sudden infant death syndrome - SIDS                 R95   \n",
       "118  Other ill-defined and unspecified causes of mo...                 R99   \n",
       "43                                  Extreme immaturity               P07.2   \n",
       "248                                 Extreme immaturity               P07.2   \n",
       "369  Other ill-defined and unspecified causes of mo...                 R99   \n",
       "\n",
       "     Deaths    Births  Death Rate  \n",
       "117    48.0   43555.0        1.10  \n",
       "118    39.0   43555.0        0.90  \n",
       "43     31.0   43555.0        0.71  \n",
       "248   171.0  302283.0        0.57  \n",
       "369    50.0  302283.0        0.17  "
      ]
     },
     "execution_count": 24,
     "metadata": {},
     "output_type": "execute_result"
    }
   ],
   "source": [
    "dfImrByRaceByCause = pd.read_csv(\"datafiles/imr by race by cause, 2007-2016.txt\", sep='\\t')\n",
    "\n",
    "# remove Unreliable from Death Rate colum (fewer than 20 reported cases)\n",
    "dfImrByRaceByCause = dfImrByRaceByCause.loc[dfImrByRaceByCause['Death Rate'].map(lambda x: 'Unreliable' not in str(x))]\n",
    "\n",
    "# remove totals\n",
    "dfImrByRaceByCause = dfImrByRaceByCause[(dfImrByRaceByCause['Notes']!='Total') & dfImrByRaceByCause['Death Rate'].notnull()]\n",
    "\n",
    "# convert death rate to float\n",
    "dfImrByRaceByCause['Death Rate'] = dfImrByRaceByCause['Death Rate'].map(lambda x: float(x))\n",
    "\n",
    "# sort by race ascending, death rate descending\n",
    "dfImrByRaceByCause = dfImrByRaceByCause.sort_values(['Race', 'Death Rate'], ascending=[True, False])\n",
    "\n",
    "dfImrByRaceByCause.head()\n"
   ]
  },
  {
   "cell_type": "code",
   "execution_count": 25,
   "metadata": {},
   "outputs": [],
   "source": [
    "causes = x_axis.unique()\n",
    "races = dfImrByRaceByCause['Race'].unique()"
   ]
  },
  {
   "cell_type": "code",
   "execution_count": 26,
   "metadata": {},
   "outputs": [],
   "source": [
    "mylist = []\n",
    "for cause in causes:\n",
    "    for thisrace in races:\n",
    "        if ((dfImrByRaceByCause['Cause of death'] == cause) & (dfImrByRaceByCause['Race'] == thisrace)).any():\n",
    "            myrow = dfImrByRaceByCause.loc[(dfImrByRaceByCause['Cause of death'] == cause) & (dfImrByRaceByCause['Race'] == thisrace)]\n",
    "            mylist.append({\n",
    "                'Race': thisrace,\n",
    "                'Cause of death': cause,\n",
    "                'Death Rate' : myrow.iloc[0]['Death Rate']})\n",
    "        else:\n",
    "            mylist.append({\n",
    "                'Race': thisrace,\n",
    "                'Cause of death': cause,\n",
    "                'Death Rate' : 0})\n",
    "\n",
    "dfImrByRaceByCausePlotting = pd.DataFrame(mylist)\n",
    "\n",
    "dfImrByRaceByCausePlotting = dfImrByRaceByCausePlotting.pivot(index='Race', columns='Cause of death', values='Death Rate')\n",
    "\n",
    "dfImrByRaceByCausePlotting = dfImrByRaceByCausePlotting[[\n",
    " 'Extreme immaturity',\n",
    " 'Sudden infant death syndrome - SIDS',\n",
    " 'Other ill-defined and unspecified causes of mortality',\n",
    " 'Accidental suffocation and strangulation in bed',\n",
    " 'Other preterm infants']]\n"
   ]
  },
  {
   "cell_type": "code",
   "execution_count": 27,
   "metadata": {},
   "outputs": [
    {
     "data": {
      "image/png": "[encoded data removed]",
      "text/plain": [
       "<Figure size 792x648 with 1 Axes>"
      ]
     },
     "metadata": {
      "needs_background": "light"
     },
     "output_type": "display_data"
    }
   ],
   "source": [
    "ax = dfImrByRaceByCausePlotting.plot.bar(stacked=True, ylim=(0,7), figsize=(11, 9),  width=0.75, title=\"Leading Causes of IMR by Race\", rot=0)\n",
    "ax.set_ylabel(\"Death Rate (per 1000)\")\n",
    "ax.set_xticklabels (['American Indian/\\nAlaska native', 'Asian/\\nPacific Islander', 'Black/\\nAfrican American', 'White'])\n",
    "fig = ax.get_figure()\n",
    "fig.savefig('Images/Leading Causes of IMR by Race.png')"
   ]
  },
  {
   "cell_type": "markdown",
   "metadata": {},
   "source": [
    "## IMR by Month Prenatal Care Began\n"
   ]
  },
  {
   "cell_type": "code",
   "execution_count": 28,
   "metadata": {},
   "outputs": [],
   "source": [
    "dfImrByPrenatalCareStart = pd.read_csv(\"./datafiles/imr by prenatal care start, 2007-2016.txt\", sep='\\t')"
   ]
  },
  {
   "cell_type": "code",
   "execution_count": 29,
   "metadata": {},
   "outputs": [],
   "source": [
    "dfImrByPrenatalCareStart = dfImrByPrenatalCareStart[['Month Prenatal Care Began', 'Death Rate']].dropna(subset=[\"Month Prenatal Care Began\", \"Death Rate\"])"
   ]
  },
  {
   "cell_type": "code",
   "execution_count": 30,
   "metadata": {},
   "outputs": [
    {
     "data": {
      "text/html": [
       "<div>\n",
       "<style scoped>\n",
       "    .dataframe tbody tr th:only-of-type {\n",
       "        vertical-align: middle;\n",
       "    }\n",
       "\n",
       "    .dataframe tbody tr th {\n",
       "        vertical-align: top;\n",
       "    }\n",
       "\n",
       "    .dataframe thead th {\n",
       "        text-align: right;\n",
       "    }\n",
       "</style>\n",
       "<table border=\"1\" class=\"dataframe\">\n",
       "  <thead>\n",
       "    <tr style=\"text-align: right;\">\n",
       "      <th></th>\n",
       "      <th>Month Prenatal Care Began</th>\n",
       "      <th>Death Rate</th>\n",
       "    </tr>\n",
       "  </thead>\n",
       "  <tbody>\n",
       "    <tr>\n",
       "      <th>0</th>\n",
       "      <td>No prenatal care</td>\n",
       "      <td>26.89</td>\n",
       "    </tr>\n",
       "    <tr>\n",
       "      <th>1</th>\n",
       "      <td>1st month</td>\n",
       "      <td>7.42</td>\n",
       "    </tr>\n",
       "    <tr>\n",
       "      <th>2</th>\n",
       "      <td>2nd month</td>\n",
       "      <td>4.69</td>\n",
       "    </tr>\n",
       "    <tr>\n",
       "      <th>3</th>\n",
       "      <td>3rd month</td>\n",
       "      <td>4.82</td>\n",
       "    </tr>\n",
       "    <tr>\n",
       "      <th>4</th>\n",
       "      <td>4th month</td>\n",
       "      <td>5.87</td>\n",
       "    </tr>\n",
       "    <tr>\n",
       "      <th>5</th>\n",
       "      <td>5th month</td>\n",
       "      <td>7.06</td>\n",
       "    </tr>\n",
       "    <tr>\n",
       "      <th>6</th>\n",
       "      <td>6th month</td>\n",
       "      <td>6.58</td>\n",
       "    </tr>\n",
       "    <tr>\n",
       "      <th>7</th>\n",
       "      <td>7th month</td>\n",
       "      <td>5.43</td>\n",
       "    </tr>\n",
       "    <tr>\n",
       "      <th>8</th>\n",
       "      <td>8th month</td>\n",
       "      <td>5.07</td>\n",
       "    </tr>\n",
       "    <tr>\n",
       "      <th>9</th>\n",
       "      <td>9th month</td>\n",
       "      <td>4.11</td>\n",
       "    </tr>\n",
       "    <tr>\n",
       "      <th>10</th>\n",
       "      <td>Not stated/Not on certificate</td>\n",
       "      <td>18.31</td>\n",
       "    </tr>\n",
       "    <tr>\n",
       "      <th>11</th>\n",
       "      <td>Excluded</td>\n",
       "      <td>4.23</td>\n",
       "    </tr>\n",
       "  </tbody>\n",
       "</table>\n",
       "</div>"
      ],
      "text/plain": [
       "        Month Prenatal Care Began  Death Rate\n",
       "0                No prenatal care       26.89\n",
       "1                       1st month        7.42\n",
       "2                       2nd month        4.69\n",
       "3                       3rd month        4.82\n",
       "4                       4th month        5.87\n",
       "5                       5th month        7.06\n",
       "6                       6th month        6.58\n",
       "7                       7th month        5.43\n",
       "8                       8th month        5.07\n",
       "9                       9th month        4.11\n",
       "10  Not stated/Not on certificate       18.31\n",
       "11                       Excluded        4.23"
      ]
     },
     "execution_count": 30,
     "metadata": {},
     "output_type": "execute_result"
    }
   ],
   "source": [
    "dfImrByPrenatalCareStart\n"
   ]
  },
  {
   "cell_type": "code",
   "execution_count": 31,
   "metadata": {},
   "outputs": [
    {
     "data": {
      "text/plain": [
       "<matplotlib.axes._subplots.AxesSubplot at 0x22b7a5d4f60>"
      ]
     },
     "execution_count": 31,
     "metadata": {},
     "output_type": "execute_result"
    },
    {
     "data": {
      "image/png": "[encoded data removed]",
      "text/plain": [
       "<Figure size 864x576 with 1 Axes>"
      ]
     },
     "metadata": {
      "needs_background": "light"
     },
     "output_type": "display_data"
    }
   ],
   "source": [
    "dfImrByPrenatalCareStart.plot(\"Month Prenatal Care Began\", \"Death Rate\", kind='bar')"
   ]
  },
  {
   "cell_type": "code",
   "execution_count": 32,
   "metadata": {},
   "outputs": [],
   "source": [
    "dfImrByPrenatalByRace = pd.read_csv(\"datafiles/IMR By prenatal care by race, 2007-2016.txt\", sep='\\t')"
   ]
  },
  {
   "cell_type": "code",
   "execution_count": 33,
   "metadata": {},
   "outputs": [
    {
     "name": "stderr",
     "output_type": "stream",
     "text": [
      "C:\\Users\\jasmi\\Anaconda3\\lib\\site-packages\\ipykernel_launcher.py:2: SettingWithCopyWarning: \n",
      "A value is trying to be set on a copy of a slice from a DataFrame.\n",
      "Try using .loc[row_indexer,col_indexer] = value instead\n",
      "\n",
      "See the caveats in the documentation: http://pandas.pydata.org/pandas-docs/stable/indexing.html#indexing-view-versus-copy\n",
      "  \n"
     ]
    }
   ],
   "source": [
    "dfNoPrenatalcareByRace = dfImrByPrenatalByRace.loc[(dfImrByPrenatalByRace['Month Prenatal Care Began'] == 'No prenatal care') & (dfImrByPrenatalByRace['Notes']!='Total')]\n",
    "dfNoPrenatalcareByRace['Death Rate'] = [float(x) for x in dfNoPrenatalcareByRace['Death Rate']]\n",
    "\n"
   ]
  },
  {
   "cell_type": "code",
   "execution_count": 34,
   "metadata": {},
   "outputs": [
    {
     "name": "stderr",
     "output_type": "stream",
     "text": [
      "C:\\Users\\jasmi\\Anaconda3\\lib\\site-packages\\ipykernel_launcher.py:2: SettingWithCopyWarning: \n",
      "A value is trying to be set on a copy of a slice from a DataFrame.\n",
      "Try using .loc[row_indexer,col_indexer] = value instead\n",
      "\n",
      "See the caveats in the documentation: http://pandas.pydata.org/pandas-docs/stable/indexing.html#indexing-view-versus-copy\n",
      "  \n",
      "C:\\Users\\jasmi\\Anaconda3\\lib\\site-packages\\ipykernel_launcher.py:3: SettingWithCopyWarning: \n",
      "A value is trying to be set on a copy of a slice from a DataFrame.\n",
      "Try using .loc[row_indexer,col_indexer] = value instead\n",
      "\n",
      "See the caveats in the documentation: http://pandas.pydata.org/pandas-docs/stable/indexing.html#indexing-view-versus-copy\n",
      "  This is separate from the ipykernel package so we can avoid doing imports until\n"
     ]
    }
   ],
   "source": [
    "df1stMonthPrenatalcareByRace = dfImrByPrenatalByRace.loc[(dfImrByPrenatalByRace['Month Prenatal Care Began'] == '1st month') & (dfImrByPrenatalByRace['Notes']!='Total')]\n",
    "df1stMonthPrenatalcareByRace['Death Rate'] = [0 if 'Unreliable' in str(x) else x for x in df1stMonthPrenatalcareByRace['Death Rate']]\n",
    "df1stMonthPrenatalcareByRace['Death Rate'] = [float(x) for x in df1stMonthPrenatalcareByRace['Death Rate']]\n"
   ]
  },
  {
   "cell_type": "code",
   "execution_count": 35,
   "metadata": {},
   "outputs": [],
   "source": [
    "# df1stMonthPrenatalcareByRace"
   ]
  },
  {
   "cell_type": "code",
   "execution_count": 36,
   "metadata": {},
   "outputs": [
    {
     "data": {
      "text/plain": [
       "<matplotlib.legend.Legend at 0x22b7a40abe0>"
      ]
     },
     "execution_count": 36,
     "metadata": {},
     "output_type": "execute_result"
    },
    {
     "data": {
      "image/png": "[encoded data removed]",
      "text/plain": [
       "<Figure size 864x576 with 1 Axes>"
      ]
     },
     "metadata": {
      "needs_background": "light"
     },
     "output_type": "display_data"
    }
   ],
   "source": [
    "plt.bar(np.arange(len(dfNoPrenatalcareByRace['Race'])), dfNoPrenatalcareByRace['Death Rate'], label='No Prenatal Care', width=0.25)\n",
    "plt.bar(np.arange(len(df1stMonthPrenatalcareByRace['Race'])) + 0.25, df1stMonthPrenatalcareByRace['Death Rate'], label='1st Month Prenatal Care', width=0.25)\n",
    "plt.xticks(np.arange(len(dfNoPrenatalcareByRace['Race'])), dfNoPrenatalcareByRace['Race'])\n",
    "plt.legend()"
   ]
  },
  {
   "cell_type": "markdown",
   "metadata": {},
   "source": [
    "## Percent of Premature Births by Race"
   ]
  },
  {
   "cell_type": "code",
   "execution_count": 37,
   "metadata": {},
   "outputs": [],
   "source": [
    "dfExtremePrematurityByRace = pd.read_csv(\"datafiles/extreme prematurity by race, 2007-2017.txt\", sep='\\t')"
   ]
  },
  {
   "cell_type": "code",
   "execution_count": 38,
   "metadata": {},
   "outputs": [],
   "source": [
    "# dfExtremePrematurityByRace.dropna(subset=['Births'])"
   ]
  },
  {
   "cell_type": "code",
   "execution_count": 39,
   "metadata": {},
   "outputs": [],
   "source": [
    "def totalForRace(df, race):\n",
    "    total = df.loc[df['Bridged Race'] == race]['Births'].mean()\n",
    "    return total\n",
    "    "
   ]
  },
  {
   "cell_type": "code",
   "execution_count": 40,
   "metadata": {},
   "outputs": [],
   "source": [
    "dfExtremePrematurityByRace.dropna(subset=['Births'], inplace=True)"
   ]
  },
  {
   "cell_type": "code",
   "execution_count": 41,
   "metadata": {},
   "outputs": [
    {
     "data": {
      "text/plain": [
       "285784.5"
      ]
     },
     "execution_count": 41,
     "metadata": {},
     "output_type": "execute_result"
    }
   ],
   "source": [
    "totalForRace(dfExtremePrematurityByRace, \"White\")"
   ]
  },
  {
   "cell_type": "code",
   "execution_count": 42,
   "metadata": {},
   "outputs": [
    {
     "data": {
      "text/plain": [
       "65811.5"
      ]
     },
     "execution_count": 42,
     "metadata": {},
     "output_type": "execute_result"
    }
   ],
   "source": [
    "totalForRace(dfExtremePrematurityByRace, \"Black or African American\")"
   ]
  },
  {
   "cell_type": "code",
   "execution_count": 43,
   "metadata": {},
   "outputs": [],
   "source": [
    "dfExtremePrematurityByRace['Total for Race'] = dfExtremePrematurityByRace.apply((lambda x: totalForRace(dfExtremePrematurityByRace, x['Bridged Race'])), axis=1) "
   ]
  },
  {
   "cell_type": "code",
   "execution_count": 44,
   "metadata": {},
   "outputs": [],
   "source": [
    "# dfExtremePrematurityByRace"
   ]
  },
  {
   "cell_type": "code",
   "execution_count": 45,
   "metadata": {},
   "outputs": [],
   "source": [
    "dfExtremePrematurityAfricanAmerican = dfExtremePrematurityByRace.loc[dfExtremePrematurityByRace['Bridged Race'] == 'Black or African American']"
   ]
  },
  {
   "cell_type": "code",
   "execution_count": 46,
   "metadata": {},
   "outputs": [],
   "source": [
    "# dfExtremePrematurityAfricanAmerican\n"
   ]
  },
  {
   "cell_type": "code",
   "execution_count": 47,
   "metadata": {},
   "outputs": [],
   "source": [
    "dfExtremePrematurity20to27 = dfExtremePrematurityByRace.loc[dfExtremePrematurityByRace['OE Gestational Age 10'] == '20 - 27 weeks']"
   ]
  },
  {
   "cell_type": "code",
   "execution_count": 48,
   "metadata": {},
   "outputs": [
    {
     "name": "stderr",
     "output_type": "stream",
     "text": [
      "C:\\Users\\jasmi\\Anaconda3\\lib\\site-packages\\ipykernel_launcher.py:1: SettingWithCopyWarning: \n",
      "A value is trying to be set on a copy of a slice from a DataFrame.\n",
      "Try using .loc[row_indexer,col_indexer] = value instead\n",
      "\n",
      "See the caveats in the documentation: http://pandas.pydata.org/pandas-docs/stable/indexing.html#indexing-view-versus-copy\n",
      "  \"\"\"Entry point for launching an IPython kernel.\n"
     ]
    }
   ],
   "source": [
    "dfExtremePrematurity20to27['Percent of Total Births'] = dfExtremePrematurity20to27.apply((lambda row: row['Births']/row['Total for Race']*100), axis=1)"
   ]
  },
  {
   "cell_type": "code",
   "execution_count": 49,
   "metadata": {},
   "outputs": [
    {
     "data": {
      "text/html": [
       "<div>\n",
       "<style scoped>\n",
       "    .dataframe tbody tr th:only-of-type {\n",
       "        vertical-align: middle;\n",
       "    }\n",
       "\n",
       "    .dataframe tbody tr th {\n",
       "        vertical-align: top;\n",
       "    }\n",
       "\n",
       "    .dataframe thead th {\n",
       "        text-align: right;\n",
       "    }\n",
       "</style>\n",
       "<table border=\"1\" class=\"dataframe\">\n",
       "  <thead>\n",
       "    <tr style=\"text-align: right;\">\n",
       "      <th></th>\n",
       "      <th>Notes</th>\n",
       "      <th>OE Gestational Age 10</th>\n",
       "      <th>OE Gestational Age 10 Code</th>\n",
       "      <th>Bridged Race</th>\n",
       "      <th>Bridged Race Code</th>\n",
       "      <th>Births</th>\n",
       "      <th>Total for Race</th>\n",
       "      <th>Percent of Total Births</th>\n",
       "    </tr>\n",
       "  </thead>\n",
       "  <tbody>\n",
       "    <tr>\n",
       "      <th>4</th>\n",
       "      <td>NaN</td>\n",
       "      <td>20 - 27 weeks</td>\n",
       "      <td>2.0</td>\n",
       "      <td>American Indian or Alaska Native</td>\n",
       "      <td>1002-5</td>\n",
       "      <td>291.0</td>\n",
       "      <td>4191.6</td>\n",
       "      <td>6.942456</td>\n",
       "    </tr>\n",
       "    <tr>\n",
       "      <th>5</th>\n",
       "      <td>NaN</td>\n",
       "      <td>20 - 27 weeks</td>\n",
       "      <td>2.0</td>\n",
       "      <td>Asian or Pacific Islander</td>\n",
       "      <td>A-PI</td>\n",
       "      <td>1505.0</td>\n",
       "      <td>29762.4</td>\n",
       "      <td>5.056716</td>\n",
       "    </tr>\n",
       "    <tr>\n",
       "      <th>6</th>\n",
       "      <td>NaN</td>\n",
       "      <td>20 - 27 weeks</td>\n",
       "      <td>2.0</td>\n",
       "      <td>Black or African American</td>\n",
       "      <td>2054-5</td>\n",
       "      <td>8858.0</td>\n",
       "      <td>65811.5</td>\n",
       "      <td>13.459654</td>\n",
       "    </tr>\n",
       "    <tr>\n",
       "      <th>7</th>\n",
       "      <td>NaN</td>\n",
       "      <td>20 - 27 weeks</td>\n",
       "      <td>2.0</td>\n",
       "      <td>White</td>\n",
       "      <td>2106-3</td>\n",
       "      <td>13870.0</td>\n",
       "      <td>285784.5</td>\n",
       "      <td>4.853307</td>\n",
       "    </tr>\n",
       "  </tbody>\n",
       "</table>\n",
       "</div>"
      ],
      "text/plain": [
       "  Notes OE Gestational Age 10  OE Gestational Age 10 Code  \\\n",
       "4   NaN         20 - 27 weeks                         2.0   \n",
       "5   NaN         20 - 27 weeks                         2.0   \n",
       "6   NaN         20 - 27 weeks                         2.0   \n",
       "7   NaN         20 - 27 weeks                         2.0   \n",
       "\n",
       "                       Bridged Race Bridged Race Code   Births  \\\n",
       "4  American Indian or Alaska Native            1002-5    291.0   \n",
       "5         Asian or Pacific Islander              A-PI   1505.0   \n",
       "6         Black or African American            2054-5   8858.0   \n",
       "7                             White            2106-3  13870.0   \n",
       "\n",
       "   Total for Race  Percent of Total Births  \n",
       "4          4191.6                 6.942456  \n",
       "5         29762.4                 5.056716  \n",
       "6         65811.5                13.459654  \n",
       "7        285784.5                 4.853307  "
      ]
     },
     "execution_count": 49,
     "metadata": {},
     "output_type": "execute_result"
    }
   ],
   "source": [
    "dfExtremePrematurity20to27"
   ]
  },
  {
   "cell_type": "markdown",
   "metadata": {},
   "source": [
    "## Include Hispanic Origin"
   ]
  },
  {
   "cell_type": "code",
   "execution_count": 50,
   "metadata": {},
   "outputs": [],
   "source": [
    "dfHispanicByCause = pd.read_csv(\"datafiles/imr by hispanice origin by cause, 2007-2016.txt\", sep='\\t')"
   ]
  },
  {
   "cell_type": "code",
   "execution_count": 51,
   "metadata": {},
   "outputs": [],
   "source": [
    "# dfHispanicByCause.sort_values(by=['Death Rate'], ascending=False).head(20)"
   ]
  },
  {
   "cell_type": "markdown",
   "metadata": {},
   "source": [
    "## US IMR Compared to Other Wealthy Nations"
   ]
  },
  {
   "cell_type": "code",
   "execution_count": 52,
   "metadata": {},
   "outputs": [],
   "source": [
    "dfWhoByCountry = pd.read_csv(\"datafiles/who by country.csv.csv\", header=1)"
   ]
  },
  {
   "cell_type": "code",
   "execution_count": 53,
   "metadata": {},
   "outputs": [
    {
     "data": {
      "text/html": [
       "<div>\n",
       "<style scoped>\n",
       "    .dataframe tbody tr th:only-of-type {\n",
       "        vertical-align: middle;\n",
       "    }\n",
       "\n",
       "    .dataframe tbody tr th {\n",
       "        vertical-align: top;\n",
       "    }\n",
       "\n",
       "    .dataframe thead th {\n",
       "        text-align: right;\n",
       "    }\n",
       "</style>\n",
       "<table border=\"1\" class=\"dataframe\">\n",
       "  <thead>\n",
       "    <tr style=\"text-align: right;\">\n",
       "      <th></th>\n",
       "      <th>Country</th>\n",
       "      <th>Year</th>\n",
       "      <th>IMR</th>\n",
       "    </tr>\n",
       "  </thead>\n",
       "  <tbody>\n",
       "    <tr>\n",
       "      <th>0</th>\n",
       "      <td>Australia</td>\n",
       "      <td>2017</td>\n",
       "      <td>3.0</td>\n",
       "    </tr>\n",
       "    <tr>\n",
       "      <th>1</th>\n",
       "      <td>Australia</td>\n",
       "      <td>2016</td>\n",
       "      <td>3.1</td>\n",
       "    </tr>\n",
       "    <tr>\n",
       "      <th>2</th>\n",
       "      <td>Australia</td>\n",
       "      <td>2015</td>\n",
       "      <td>3.2</td>\n",
       "    </tr>\n",
       "    <tr>\n",
       "      <th>3</th>\n",
       "      <td>Australia</td>\n",
       "      <td>2014</td>\n",
       "      <td>3.3</td>\n",
       "    </tr>\n",
       "    <tr>\n",
       "      <th>4</th>\n",
       "      <td>Australia</td>\n",
       "      <td>2013</td>\n",
       "      <td>3.5</td>\n",
       "    </tr>\n",
       "  </tbody>\n",
       "</table>\n",
       "</div>"
      ],
      "text/plain": [
       "     Country  Year  IMR\n",
       "0  Australia  2017  3.0\n",
       "1  Australia  2016  3.1\n",
       "2  Australia  2015  3.2\n",
       "3  Australia  2014  3.3\n",
       "4  Australia  2013  3.5"
      ]
     },
     "execution_count": 53,
     "metadata": {},
     "output_type": "execute_result"
    }
   ],
   "source": [
    "dfWhoByCountry.rename(columns={'Both sexes':'IMR'}, inplace=True)\n",
    "dfWhoByCountry.loc[dfWhoByCountry['Country'] == 'United Kingdom of Great Britain and Northern Ireland', 'Country'] = 'United Kingdom'\n",
    "dfWhoByCountry.head()"
   ]
  },
  {
   "cell_type": "code",
   "execution_count": 54,
   "metadata": {},
   "outputs": [],
   "source": [
    "plotImrByCountry = dfWhoByCountry.groupby('Country').mean().sort_values(by='IMR', ascending=False)"
   ]
  },
  {
   "cell_type": "code",
   "execution_count": 55,
   "metadata": {},
   "outputs": [
    {
     "data": {
      "text/html": [
       "<div>\n",
       "<style scoped>\n",
       "    .dataframe tbody tr th:only-of-type {\n",
       "        vertical-align: middle;\n",
       "    }\n",
       "\n",
       "    .dataframe tbody tr th {\n",
       "        vertical-align: top;\n",
       "    }\n",
       "\n",
       "    .dataframe thead th {\n",
       "        text-align: right;\n",
       "    }\n",
       "</style>\n",
       "<table border=\"1\" class=\"dataframe\">\n",
       "  <thead>\n",
       "    <tr style=\"text-align: right;\">\n",
       "      <th></th>\n",
       "      <th>Year</th>\n",
       "      <th>IMR</th>\n",
       "    </tr>\n",
       "    <tr>\n",
       "      <th>Country</th>\n",
       "      <th></th>\n",
       "      <th></th>\n",
       "    </tr>\n",
       "  </thead>\n",
       "  <tbody>\n",
       "    <tr>\n",
       "      <th>United States of America</th>\n",
       "      <td>2012</td>\n",
       "      <td>6.081818</td>\n",
       "    </tr>\n",
       "    <tr>\n",
       "      <th>New Zealand</th>\n",
       "      <td>2012</td>\n",
       "      <td>4.909091</td>\n",
       "    </tr>\n",
       "    <tr>\n",
       "      <th>Canada</th>\n",
       "      <td>2012</td>\n",
       "      <td>4.809091</td>\n",
       "    </tr>\n",
       "    <tr>\n",
       "      <th>United Kingdom</th>\n",
       "      <td>2012</td>\n",
       "      <td>4.172727</td>\n",
       "    </tr>\n",
       "    <tr>\n",
       "      <th>Switzerland</th>\n",
       "      <td>2012</td>\n",
       "      <td>3.881818</td>\n",
       "    </tr>\n",
       "  </tbody>\n",
       "</table>\n",
       "</div>"
      ],
      "text/plain": [
       "                          Year       IMR\n",
       "Country                                 \n",
       "United States of America  2012  6.081818\n",
       "New Zealand               2012  4.909091\n",
       "Canada                    2012  4.809091\n",
       "United Kingdom            2012  4.172727\n",
       "Switzerland               2012  3.881818"
      ]
     },
     "execution_count": 55,
     "metadata": {},
     "output_type": "execute_result"
    }
   ],
   "source": [
    "plotImrByCountry.head()"
   ]
  },
  {
   "cell_type": "code",
   "execution_count": 56,
   "metadata": {},
   "outputs": [],
   "source": [
    "# plt.bar(plotImrByCountry['Country'], plotImrByCountry['IMR'])\n",
    "# plotImrByCountry.index"
   ]
  },
  {
   "cell_type": "code",
   "execution_count": 57,
   "metadata": {},
   "outputs": [
    {
     "data": {
      "image/png": "[encoded data removed]",
      "text/plain": [
       "<Figure size 864x576 with 1 Axes>"
      ]
     },
     "metadata": {
      "needs_background": "light"
     },
     "output_type": "display_data"
    }
   ],
   "source": [
    "rects = plt.barh(plotImrByCountry.index, plotImrByCountry['IMR'], alpha=0.5, edgecolor='black')\n",
    "plt.title(\"IMR 2007-2017 \")\n",
    "plt.xlabel(\"Infant Deaths per 1000 Births\")\n",
    "\n",
    "for rect in rects:\n",
    "    indx = rects.index(rect)\n",
    "    width = rect.get_width()\n",
    "\n",
    "    plt.text(width - 0.2, rect.get_y()+0.2,\n",
    "         plotImrByCountry['IMR'].iloc[indx].round(2),\n",
    "         ha='center', va='bottom', color='black', rotation = 'horizontal')\n",
    "    \n",
    "rects[0].set_color('red')\n",
    "plt.rcParams[\"figure.figsize\"] = [18, 10]\n",
    "plt.savefig(\"Images/imr by country.png\")\n",
    "plt.show()"
   ]
  },
  {
   "cell_type": "code",
   "execution_count": null,
   "metadata": {},
   "outputs": [],
   "source": []
  }
 ],
 "metadata": {
  "kernelspec": {
   "display_name": "Python [conda env:PythonData]",
   "language": "python",
   "name": "pythondata"
  },
  "language_info": {
   "codemirror_mode": {
    "name": "ipython",
    "version": 3
   },
   "file_extension": ".py",
   "mimetype": "text/x-python",
   "name": "python",
   "nbconvert_exporter": "python",
   "pygments_lexer": "ipython3",
   "version": "3.7.1"
  }
 },
 "nbformat": 4,
 "nbformat_minor": 2
}
