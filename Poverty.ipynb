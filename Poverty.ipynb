{
 "cells": [
  {
   "cell_type": "code",
   "execution_count": 1,
   "metadata": {},
   "outputs": [],
   "source": [
    "import pandas as pd\n",
    "import numpy as np\n",
    "import matplotlib.pyplot as plt\n",
    "import gmaps\n",
    "from config import gkey\n",
    "from scipy.stats import linregress"
   ]
  },
  {
   "cell_type": "code",
   "execution_count": 2,
   "metadata": {},
   "outputs": [],
   "source": [
    "#read census poverty data\n",
    "poverty_df = pd.read_csv('2007_2016_poverty.csv')"
   ]
  },
  {
   "cell_type": "code",
   "execution_count": 3,
   "metadata": {},
   "outputs": [
    {
     "data": {
      "text/html": [
       "<div>\n",
       "<style scoped>\n",
       "    .dataframe tbody tr th:only-of-type {\n",
       "        vertical-align: middle;\n",
       "    }\n",
       "\n",
       "    .dataframe tbody tr th {\n",
       "        vertical-align: top;\n",
       "    }\n",
       "\n",
       "    .dataframe thead th {\n",
       "        text-align: right;\n",
       "    }\n",
       "</style>\n",
       "<table border=\"1\" class=\"dataframe\">\n",
       "  <thead>\n",
       "    <tr style=\"text-align: right;\">\n",
       "      <th></th>\n",
       "      <th>Year</th>\n",
       "      <th>State</th>\n",
       "      <th>County ID</th>\n",
       "      <th>State / County Name</th>\n",
       "      <th>All Ages SAIPE Poverty Universe</th>\n",
       "      <th>All Ages in Poverty Count</th>\n",
       "      <th>All Ages in Poverty Count LB 90%</th>\n",
       "      <th>All Ages in Poverty Count UB 90%</th>\n",
       "      <th>90% Confidence Interval (All Ages in Poverty Count)</th>\n",
       "      <th>All Ages in Poverty Percent</th>\n",
       "      <th>...</th>\n",
       "      <th>Under Age 5 in Poverty Count UB 90%</th>\n",
       "      <th>90% Confidence Interval (Under Age 5 in Poverty Count)</th>\n",
       "      <th>Under Age 5 in Poverty Percent</th>\n",
       "      <th>Under Age 5 in Poverty Percent LB 90%</th>\n",
       "      <th>Under Age 5 in Poverty Percent UB 90%</th>\n",
       "      <th>90% Confidence Interval (Under Age 5 in Poverty Percent)</th>\n",
       "      <th>Median Household Income in Dollars</th>\n",
       "      <th>Median Household Income in Dollars LB 90%</th>\n",
       "      <th>Median Household Income in Dollars UB 90%</th>\n",
       "      <th>90% Confidence Interval (Median Household Income in Dollars)</th>\n",
       "    </tr>\n",
       "  </thead>\n",
       "  <tbody>\n",
       "    <tr>\n",
       "      <th>0</th>\n",
       "      <td>2016</td>\n",
       "      <td>1</td>\n",
       "      <td>1001</td>\n",
       "      <td>Autauga County (AL)</td>\n",
       "      <td>54,939</td>\n",
       "      <td>7,444</td>\n",
       "      <td>6,255</td>\n",
       "      <td>8,633</td>\n",
       "      <td>6,255 to 8,633</td>\n",
       "      <td>13.5</td>\n",
       "      <td>...</td>\n",
       "      <td>NaN</td>\n",
       "      <td>NaN</td>\n",
       "      <td>NaN</td>\n",
       "      <td>NaN</td>\n",
       "      <td>NaN</td>\n",
       "      <td>NaN</td>\n",
       "      <td>$54,487</td>\n",
       "      <td>$50,886</td>\n",
       "      <td>$58,088</td>\n",
       "      <td>$50,886 to $58,088</td>\n",
       "    </tr>\n",
       "    <tr>\n",
       "      <th>1</th>\n",
       "      <td>2015</td>\n",
       "      <td>1</td>\n",
       "      <td>1001</td>\n",
       "      <td>Autauga County (AL)</td>\n",
       "      <td>54,860</td>\n",
       "      <td>6,966</td>\n",
       "      <td>5,673</td>\n",
       "      <td>8,259</td>\n",
       "      <td>5,673 to 8,259</td>\n",
       "      <td>12.7</td>\n",
       "      <td>...</td>\n",
       "      <td>NaN</td>\n",
       "      <td>NaN</td>\n",
       "      <td>NaN</td>\n",
       "      <td>NaN</td>\n",
       "      <td>NaN</td>\n",
       "      <td>NaN</td>\n",
       "      <td>$56,580</td>\n",
       "      <td>$51,459</td>\n",
       "      <td>$61,701</td>\n",
       "      <td>$51,459 to $61,701</td>\n",
       "    </tr>\n",
       "    <tr>\n",
       "      <th>2</th>\n",
       "      <td>2014</td>\n",
       "      <td>1</td>\n",
       "      <td>1001</td>\n",
       "      <td>Autauga County (AL)</td>\n",
       "      <td>54,903</td>\n",
       "      <td>7,204</td>\n",
       "      <td>5,845</td>\n",
       "      <td>8,563</td>\n",
       "      <td>5,845 to 8,563</td>\n",
       "      <td>13.1</td>\n",
       "      <td>...</td>\n",
       "      <td>NaN</td>\n",
       "      <td>NaN</td>\n",
       "      <td>NaN</td>\n",
       "      <td>NaN</td>\n",
       "      <td>NaN</td>\n",
       "      <td>NaN</td>\n",
       "      <td>$54,366</td>\n",
       "      <td>$50,916</td>\n",
       "      <td>$57,816</td>\n",
       "      <td>$50,916 to $57,816</td>\n",
       "    </tr>\n",
       "    <tr>\n",
       "      <th>3</th>\n",
       "      <td>2013</td>\n",
       "      <td>1</td>\n",
       "      <td>1001</td>\n",
       "      <td>Autauga County (AL)</td>\n",
       "      <td>54,762</td>\n",
       "      <td>7,397</td>\n",
       "      <td>6,109</td>\n",
       "      <td>8,685</td>\n",
       "      <td>6,109 to 8,685</td>\n",
       "      <td>13.5</td>\n",
       "      <td>...</td>\n",
       "      <td>NaN</td>\n",
       "      <td>NaN</td>\n",
       "      <td>NaN</td>\n",
       "      <td>NaN</td>\n",
       "      <td>NaN</td>\n",
       "      <td>NaN</td>\n",
       "      <td>$51,868</td>\n",
       "      <td>$48,314</td>\n",
       "      <td>$55,422</td>\n",
       "      <td>$48,314 to $55,422</td>\n",
       "    </tr>\n",
       "    <tr>\n",
       "      <th>4</th>\n",
       "      <td>2012</td>\n",
       "      <td>1</td>\n",
       "      <td>1001</td>\n",
       "      <td>Autauga County (AL)</td>\n",
       "      <td>55,059</td>\n",
       "      <td>7,017</td>\n",
       "      <td>5,688</td>\n",
       "      <td>8,346</td>\n",
       "      <td>5,688 to 8,346</td>\n",
       "      <td>12.7</td>\n",
       "      <td>...</td>\n",
       "      <td>NaN</td>\n",
       "      <td>NaN</td>\n",
       "      <td>NaN</td>\n",
       "      <td>NaN</td>\n",
       "      <td>NaN</td>\n",
       "      <td>NaN</td>\n",
       "      <td>$51,441</td>\n",
       "      <td>$47,185</td>\n",
       "      <td>$55,697</td>\n",
       "      <td>$47,185 to $55,697</td>\n",
       "    </tr>\n",
       "  </tbody>\n",
       "</table>\n",
       "<p>5 rows × 44 columns</p>\n",
       "</div>"
      ],
      "text/plain": [
       "   Year  State  County ID  State / County Name  \\\n",
       "0  2016      1       1001  Autauga County (AL)   \n",
       "1  2015      1       1001  Autauga County (AL)   \n",
       "2  2014      1       1001  Autauga County (AL)   \n",
       "3  2013      1       1001  Autauga County (AL)   \n",
       "4  2012      1       1001  Autauga County (AL)   \n",
       "\n",
       "  All Ages SAIPE Poverty Universe All Ages in Poverty Count  \\\n",
       "0                          54,939                     7,444   \n",
       "1                          54,860                     6,966   \n",
       "2                          54,903                     7,204   \n",
       "3                          54,762                     7,397   \n",
       "4                          55,059                     7,017   \n",
       "\n",
       "  All Ages in Poverty Count LB 90% All Ages in Poverty Count UB 90%  \\\n",
       "0                            6,255                            8,633   \n",
       "1                            5,673                            8,259   \n",
       "2                            5,845                            8,563   \n",
       "3                            6,109                            8,685   \n",
       "4                            5,688                            8,346   \n",
       "\n",
       "  90% Confidence Interval (All Ages in Poverty Count)  \\\n",
       "0                                     6,255 to 8,633    \n",
       "1                                     5,673 to 8,259    \n",
       "2                                     5,845 to 8,563    \n",
       "3                                     6,109 to 8,685    \n",
       "4                                     5,688 to 8,346    \n",
       "\n",
       "   All Ages in Poverty Percent  \\\n",
       "0                         13.5   \n",
       "1                         12.7   \n",
       "2                         13.1   \n",
       "3                         13.5   \n",
       "4                         12.7   \n",
       "\n",
       "                               ...                               \\\n",
       "0                              ...                                \n",
       "1                              ...                                \n",
       "2                              ...                                \n",
       "3                              ...                                \n",
       "4                              ...                                \n",
       "\n",
       "   Under Age 5 in Poverty Count UB 90%  \\\n",
       "0                                  NaN   \n",
       "1                                  NaN   \n",
       "2                                  NaN   \n",
       "3                                  NaN   \n",
       "4                                  NaN   \n",
       "\n",
       "   90% Confidence Interval (Under Age 5 in Poverty Count)  \\\n",
       "0                                                NaN        \n",
       "1                                                NaN        \n",
       "2                                                NaN        \n",
       "3                                                NaN        \n",
       "4                                                NaN        \n",
       "\n",
       "  Under Age 5 in Poverty Percent Under Age 5 in Poverty Percent LB 90%  \\\n",
       "0                            NaN                                   NaN   \n",
       "1                            NaN                                   NaN   \n",
       "2                            NaN                                   NaN   \n",
       "3                            NaN                                   NaN   \n",
       "4                            NaN                                   NaN   \n",
       "\n",
       "  Under Age 5 in Poverty Percent UB 90%  \\\n",
       "0                                   NaN   \n",
       "1                                   NaN   \n",
       "2                                   NaN   \n",
       "3                                   NaN   \n",
       "4                                   NaN   \n",
       "\n",
       "  90% Confidence Interval (Under Age 5 in Poverty Percent)  \\\n",
       "0                                                NaN         \n",
       "1                                                NaN         \n",
       "2                                                NaN         \n",
       "3                                                NaN         \n",
       "4                                                NaN         \n",
       "\n",
       "  Median Household Income in Dollars  \\\n",
       "0                            $54,487   \n",
       "1                            $56,580   \n",
       "2                            $54,366   \n",
       "3                            $51,868   \n",
       "4                            $51,441   \n",
       "\n",
       "  Median Household Income in Dollars LB 90%  \\\n",
       "0                                   $50,886   \n",
       "1                                   $51,459   \n",
       "2                                   $50,916   \n",
       "3                                   $48,314   \n",
       "4                                   $47,185   \n",
       "\n",
       "   Median Household Income in Dollars UB 90%  \\\n",
       "0                                    $58,088   \n",
       "1                                    $61,701   \n",
       "2                                    $57,816   \n",
       "3                                    $55,422   \n",
       "4                                    $55,697   \n",
       "\n",
       "   90% Confidence Interval (Median Household Income in Dollars)  \n",
       "0                                 $50,886 to $58,088             \n",
       "1                                 $51,459 to $61,701             \n",
       "2                                 $50,916 to $57,816             \n",
       "3                                 $48,314 to $55,422             \n",
       "4                                 $47,185 to $55,697             \n",
       "\n",
       "[5 rows x 44 columns]"
      ]
     },
     "execution_count": 3,
     "metadata": {},
     "output_type": "execute_result"
    }
   ],
   "source": [
    "poverty_df.head()"
   ]
  },
  {
   "cell_type": "code",
   "execution_count": 4,
   "metadata": {},
   "outputs": [],
   "source": [
    "#only keep needed columns\n",
    "poverty_df = poverty_df[[\"Year\",\"County ID\",\"State / County Name\",\"All Ages in Poverty Percent\"]]"
   ]
  },
  {
   "cell_type": "code",
   "execution_count": 5,
   "metadata": {},
   "outputs": [
    {
     "data": {
      "text/html": [
       "<div>\n",
       "<style scoped>\n",
       "    .dataframe tbody tr th:only-of-type {\n",
       "        vertical-align: middle;\n",
       "    }\n",
       "\n",
       "    .dataframe tbody tr th {\n",
       "        vertical-align: top;\n",
       "    }\n",
       "\n",
       "    .dataframe thead th {\n",
       "        text-align: right;\n",
       "    }\n",
       "</style>\n",
       "<table border=\"1\" class=\"dataframe\">\n",
       "  <thead>\n",
       "    <tr style=\"text-align: right;\">\n",
       "      <th></th>\n",
       "      <th>Year</th>\n",
       "      <th>County ID</th>\n",
       "      <th>State / County Name</th>\n",
       "      <th>All Ages in Poverty Percent</th>\n",
       "    </tr>\n",
       "  </thead>\n",
       "  <tbody>\n",
       "    <tr>\n",
       "      <th>0</th>\n",
       "      <td>2016</td>\n",
       "      <td>1001</td>\n",
       "      <td>Autauga County (AL)</td>\n",
       "      <td>13.5</td>\n",
       "    </tr>\n",
       "    <tr>\n",
       "      <th>1</th>\n",
       "      <td>2015</td>\n",
       "      <td>1001</td>\n",
       "      <td>Autauga County (AL)</td>\n",
       "      <td>12.7</td>\n",
       "    </tr>\n",
       "    <tr>\n",
       "      <th>2</th>\n",
       "      <td>2014</td>\n",
       "      <td>1001</td>\n",
       "      <td>Autauga County (AL)</td>\n",
       "      <td>13.1</td>\n",
       "    </tr>\n",
       "    <tr>\n",
       "      <th>3</th>\n",
       "      <td>2013</td>\n",
       "      <td>1001</td>\n",
       "      <td>Autauga County (AL)</td>\n",
       "      <td>13.5</td>\n",
       "    </tr>\n",
       "    <tr>\n",
       "      <th>4</th>\n",
       "      <td>2012</td>\n",
       "      <td>1001</td>\n",
       "      <td>Autauga County (AL)</td>\n",
       "      <td>12.7</td>\n",
       "    </tr>\n",
       "  </tbody>\n",
       "</table>\n",
       "</div>"
      ],
      "text/plain": [
       "   Year  County ID  State / County Name  All Ages in Poverty Percent\n",
       "0  2016       1001  Autauga County (AL)                         13.5\n",
       "1  2015       1001  Autauga County (AL)                         12.7\n",
       "2  2014       1001  Autauga County (AL)                         13.1\n",
       "3  2013       1001  Autauga County (AL)                         13.5\n",
       "4  2012       1001  Autauga County (AL)                         12.7"
      ]
     },
     "execution_count": 5,
     "metadata": {},
     "output_type": "execute_result"
    }
   ],
   "source": [
    "poverty_df.head()"
   ]
  },
  {
   "cell_type": "code",
   "execution_count": 6,
   "metadata": {},
   "outputs": [],
   "source": [
    "#group by the County ID\n",
    "poverty_group = poverty_df.groupby([\"County ID\"]).mean()"
   ]
  },
  {
   "cell_type": "code",
   "execution_count": 7,
   "metadata": {},
   "outputs": [
    {
     "data": {
      "text/html": [
       "<div>\n",
       "<style scoped>\n",
       "    .dataframe tbody tr th:only-of-type {\n",
       "        vertical-align: middle;\n",
       "    }\n",
       "\n",
       "    .dataframe tbody tr th {\n",
       "        vertical-align: top;\n",
       "    }\n",
       "\n",
       "    .dataframe thead th {\n",
       "        text-align: right;\n",
       "    }\n",
       "</style>\n",
       "<table border=\"1\" class=\"dataframe\">\n",
       "  <thead>\n",
       "    <tr style=\"text-align: right;\">\n",
       "      <th></th>\n",
       "      <th>Year</th>\n",
       "      <th>All Ages in Poverty Percent</th>\n",
       "    </tr>\n",
       "    <tr>\n",
       "      <th>County ID</th>\n",
       "      <th></th>\n",
       "      <th></th>\n",
       "    </tr>\n",
       "  </thead>\n",
       "  <tbody>\n",
       "    <tr>\n",
       "      <th>1001</th>\n",
       "      <td>2011.5</td>\n",
       "      <td>12.46</td>\n",
       "    </tr>\n",
       "    <tr>\n",
       "      <th>1003</th>\n",
       "      <td>2011.5</td>\n",
       "      <td>12.59</td>\n",
       "    </tr>\n",
       "    <tr>\n",
       "      <th>1005</th>\n",
       "      <td>2011.5</td>\n",
       "      <td>28.27</td>\n",
       "    </tr>\n",
       "    <tr>\n",
       "      <th>1007</th>\n",
       "      <td>2011.5</td>\n",
       "      <td>20.29</td>\n",
       "    </tr>\n",
       "    <tr>\n",
       "      <th>1009</th>\n",
       "      <td>2011.5</td>\n",
       "      <td>15.19</td>\n",
       "    </tr>\n",
       "  </tbody>\n",
       "</table>\n",
       "</div>"
      ],
      "text/plain": [
       "             Year  All Ages in Poverty Percent\n",
       "County ID                                     \n",
       "1001       2011.5                        12.46\n",
       "1003       2011.5                        12.59\n",
       "1005       2011.5                        28.27\n",
       "1007       2011.5                        20.29\n",
       "1009       2011.5                        15.19"
      ]
     },
     "execution_count": 7,
     "metadata": {},
     "output_type": "execute_result"
    }
   ],
   "source": [
    "poverty_group.head()"
   ]
  },
  {
   "cell_type": "code",
   "execution_count": 8,
   "metadata": {},
   "outputs": [],
   "source": [
    "#read table of lat/lng cooridnates for counties\n",
    "location_df = pd.read_csv('2017_counties.csv', encoding=\"ISO-8859-1\")"
   ]
  },
  {
   "cell_type": "code",
   "execution_count": 9,
   "metadata": {},
   "outputs": [],
   "source": [
    "location_df = location_df.rename(columns={'GEOID': \"County ID\",\"INTPTLAT\": \"Lat\",\"INTPTLONG\": \"Lng\"})"
   ]
  },
  {
   "cell_type": "code",
   "execution_count": 10,
   "metadata": {},
   "outputs": [
    {
     "data": {
      "text/html": [
       "<div>\n",
       "<style scoped>\n",
       "    .dataframe tbody tr th:only-of-type {\n",
       "        vertical-align: middle;\n",
       "    }\n",
       "\n",
       "    .dataframe tbody tr th {\n",
       "        vertical-align: top;\n",
       "    }\n",
       "\n",
       "    .dataframe thead th {\n",
       "        text-align: right;\n",
       "    }\n",
       "</style>\n",
       "<table border=\"1\" class=\"dataframe\">\n",
       "  <thead>\n",
       "    <tr style=\"text-align: right;\">\n",
       "      <th></th>\n",
       "      <th>USPS</th>\n",
       "      <th>County ID</th>\n",
       "      <th>NAME</th>\n",
       "      <th>Lat</th>\n",
       "      <th>Lng</th>\n",
       "    </tr>\n",
       "  </thead>\n",
       "  <tbody>\n",
       "    <tr>\n",
       "      <th>0</th>\n",
       "      <td>AL</td>\n",
       "      <td>1001</td>\n",
       "      <td>Autauga County</td>\n",
       "      <td>32.532237</td>\n",
       "      <td>-86.646440</td>\n",
       "    </tr>\n",
       "    <tr>\n",
       "      <th>1</th>\n",
       "      <td>AL</td>\n",
       "      <td>1003</td>\n",
       "      <td>Baldwin County</td>\n",
       "      <td>30.659218</td>\n",
       "      <td>-87.746067</td>\n",
       "    </tr>\n",
       "    <tr>\n",
       "      <th>2</th>\n",
       "      <td>AL</td>\n",
       "      <td>1005</td>\n",
       "      <td>Barbour County</td>\n",
       "      <td>31.870253</td>\n",
       "      <td>-85.405104</td>\n",
       "    </tr>\n",
       "    <tr>\n",
       "      <th>3</th>\n",
       "      <td>AL</td>\n",
       "      <td>1007</td>\n",
       "      <td>Bibb County</td>\n",
       "      <td>33.015893</td>\n",
       "      <td>-87.127148</td>\n",
       "    </tr>\n",
       "    <tr>\n",
       "      <th>4</th>\n",
       "      <td>AL</td>\n",
       "      <td>1009</td>\n",
       "      <td>Blount County</td>\n",
       "      <td>33.977358</td>\n",
       "      <td>-86.566440</td>\n",
       "    </tr>\n",
       "  </tbody>\n",
       "</table>\n",
       "</div>"
      ],
      "text/plain": [
       "  USPS  County ID            NAME        Lat        Lng\n",
       "0   AL       1001  Autauga County  32.532237 -86.646440\n",
       "1   AL       1003  Baldwin County  30.659218 -87.746067\n",
       "2   AL       1005  Barbour County  31.870253 -85.405104\n",
       "3   AL       1007     Bibb County  33.015893 -87.127148\n",
       "4   AL       1009   Blount County  33.977358 -86.566440"
      ]
     },
     "execution_count": 10,
     "metadata": {},
     "output_type": "execute_result"
    }
   ],
   "source": [
    "location_df.head()"
   ]
  },
  {
   "cell_type": "code",
   "execution_count": 11,
   "metadata": {},
   "outputs": [],
   "source": [
    "#combine poverty data with county location data\n",
    "merge_table = pd.merge(poverty_df, location_df, on=\"County ID\", how=\"left\")"
   ]
  },
  {
   "cell_type": "code",
   "execution_count": 12,
   "metadata": {},
   "outputs": [
    {
     "data": {
      "text/html": [
       "<div>\n",
       "<style scoped>\n",
       "    .dataframe tbody tr th:only-of-type {\n",
       "        vertical-align: middle;\n",
       "    }\n",
       "\n",
       "    .dataframe tbody tr th {\n",
       "        vertical-align: top;\n",
       "    }\n",
       "\n",
       "    .dataframe thead th {\n",
       "        text-align: right;\n",
       "    }\n",
       "</style>\n",
       "<table border=\"1\" class=\"dataframe\">\n",
       "  <thead>\n",
       "    <tr style=\"text-align: right;\">\n",
       "      <th></th>\n",
       "      <th>Year</th>\n",
       "      <th>County ID</th>\n",
       "      <th>State / County Name</th>\n",
       "      <th>All Ages in Poverty Percent</th>\n",
       "      <th>USPS</th>\n",
       "      <th>NAME</th>\n",
       "      <th>Lat</th>\n",
       "      <th>Lng</th>\n",
       "    </tr>\n",
       "  </thead>\n",
       "  <tbody>\n",
       "    <tr>\n",
       "      <th>0</th>\n",
       "      <td>2016</td>\n",
       "      <td>1001</td>\n",
       "      <td>Autauga County (AL)</td>\n",
       "      <td>13.5</td>\n",
       "      <td>AL</td>\n",
       "      <td>Autauga County</td>\n",
       "      <td>32.532237</td>\n",
       "      <td>-86.64644</td>\n",
       "    </tr>\n",
       "    <tr>\n",
       "      <th>1</th>\n",
       "      <td>2015</td>\n",
       "      <td>1001</td>\n",
       "      <td>Autauga County (AL)</td>\n",
       "      <td>12.7</td>\n",
       "      <td>AL</td>\n",
       "      <td>Autauga County</td>\n",
       "      <td>32.532237</td>\n",
       "      <td>-86.64644</td>\n",
       "    </tr>\n",
       "    <tr>\n",
       "      <th>2</th>\n",
       "      <td>2014</td>\n",
       "      <td>1001</td>\n",
       "      <td>Autauga County (AL)</td>\n",
       "      <td>13.1</td>\n",
       "      <td>AL</td>\n",
       "      <td>Autauga County</td>\n",
       "      <td>32.532237</td>\n",
       "      <td>-86.64644</td>\n",
       "    </tr>\n",
       "    <tr>\n",
       "      <th>3</th>\n",
       "      <td>2013</td>\n",
       "      <td>1001</td>\n",
       "      <td>Autauga County (AL)</td>\n",
       "      <td>13.5</td>\n",
       "      <td>AL</td>\n",
       "      <td>Autauga County</td>\n",
       "      <td>32.532237</td>\n",
       "      <td>-86.64644</td>\n",
       "    </tr>\n",
       "    <tr>\n",
       "      <th>4</th>\n",
       "      <td>2012</td>\n",
       "      <td>1001</td>\n",
       "      <td>Autauga County (AL)</td>\n",
       "      <td>12.7</td>\n",
       "      <td>AL</td>\n",
       "      <td>Autauga County</td>\n",
       "      <td>32.532237</td>\n",
       "      <td>-86.64644</td>\n",
       "    </tr>\n",
       "  </tbody>\n",
       "</table>\n",
       "</div>"
      ],
      "text/plain": [
       "   Year  County ID  State / County Name  All Ages in Poverty Percent USPS  \\\n",
       "0  2016       1001  Autauga County (AL)                         13.5   AL   \n",
       "1  2015       1001  Autauga County (AL)                         12.7   AL   \n",
       "2  2014       1001  Autauga County (AL)                         13.1   AL   \n",
       "3  2013       1001  Autauga County (AL)                         13.5   AL   \n",
       "4  2012       1001  Autauga County (AL)                         12.7   AL   \n",
       "\n",
       "             NAME        Lat       Lng  \n",
       "0  Autauga County  32.532237 -86.64644  \n",
       "1  Autauga County  32.532237 -86.64644  \n",
       "2  Autauga County  32.532237 -86.64644  \n",
       "3  Autauga County  32.532237 -86.64644  \n",
       "4  Autauga County  32.532237 -86.64644  "
      ]
     },
     "execution_count": 12,
     "metadata": {},
     "output_type": "execute_result"
    }
   ],
   "source": [
    "merge_table.head()"
   ]
  },
  {
   "cell_type": "code",
   "execution_count": 13,
   "metadata": {},
   "outputs": [],
   "source": [
    "#group by County ID\n",
    "merge_group = merge_table.groupby([\"County ID\"]).mean()"
   ]
  },
  {
   "cell_type": "code",
   "execution_count": 14,
   "metadata": {},
   "outputs": [
    {
     "data": {
      "text/html": [
       "<div>\n",
       "<style scoped>\n",
       "    .dataframe tbody tr th:only-of-type {\n",
       "        vertical-align: middle;\n",
       "    }\n",
       "\n",
       "    .dataframe tbody tr th {\n",
       "        vertical-align: top;\n",
       "    }\n",
       "\n",
       "    .dataframe thead th {\n",
       "        text-align: right;\n",
       "    }\n",
       "</style>\n",
       "<table border=\"1\" class=\"dataframe\">\n",
       "  <thead>\n",
       "    <tr style=\"text-align: right;\">\n",
       "      <th></th>\n",
       "      <th>Year</th>\n",
       "      <th>All Ages in Poverty Percent</th>\n",
       "      <th>Lat</th>\n",
       "      <th>Lng</th>\n",
       "    </tr>\n",
       "    <tr>\n",
       "      <th>County ID</th>\n",
       "      <th></th>\n",
       "      <th></th>\n",
       "      <th></th>\n",
       "      <th></th>\n",
       "    </tr>\n",
       "  </thead>\n",
       "  <tbody>\n",
       "    <tr>\n",
       "      <th>1001</th>\n",
       "      <td>2011.5</td>\n",
       "      <td>12.46</td>\n",
       "      <td>32.532237</td>\n",
       "      <td>-86.646440</td>\n",
       "    </tr>\n",
       "    <tr>\n",
       "      <th>1003</th>\n",
       "      <td>2011.5</td>\n",
       "      <td>12.59</td>\n",
       "      <td>30.659218</td>\n",
       "      <td>-87.746067</td>\n",
       "    </tr>\n",
       "    <tr>\n",
       "      <th>1005</th>\n",
       "      <td>2011.5</td>\n",
       "      <td>28.27</td>\n",
       "      <td>31.870253</td>\n",
       "      <td>-85.405104</td>\n",
       "    </tr>\n",
       "    <tr>\n",
       "      <th>1007</th>\n",
       "      <td>2011.5</td>\n",
       "      <td>20.29</td>\n",
       "      <td>33.015893</td>\n",
       "      <td>-87.127148</td>\n",
       "    </tr>\n",
       "    <tr>\n",
       "      <th>1009</th>\n",
       "      <td>2011.5</td>\n",
       "      <td>15.19</td>\n",
       "      <td>33.977358</td>\n",
       "      <td>-86.566440</td>\n",
       "    </tr>\n",
       "  </tbody>\n",
       "</table>\n",
       "</div>"
      ],
      "text/plain": [
       "             Year  All Ages in Poverty Percent        Lat        Lng\n",
       "County ID                                                           \n",
       "1001       2011.5                        12.46  32.532237 -86.646440\n",
       "1003       2011.5                        12.59  30.659218 -87.746067\n",
       "1005       2011.5                        28.27  31.870253 -85.405104\n",
       "1007       2011.5                        20.29  33.015893 -87.127148\n",
       "1009       2011.5                        15.19  33.977358 -86.566440"
      ]
     },
     "execution_count": 14,
     "metadata": {},
     "output_type": "execute_result"
    }
   ],
   "source": [
    "merge_group.head()"
   ]
  },
  {
   "cell_type": "code",
   "execution_count": 15,
   "metadata": {},
   "outputs": [],
   "source": [
    "#remove rows with missing values\n",
    "merge_group = merge_group.dropna(how=\"any\")"
   ]
  },
  {
   "cell_type": "code",
   "execution_count": 16,
   "metadata": {},
   "outputs": [
    {
     "data": {
      "text/html": [
       "<div>\n",
       "<style scoped>\n",
       "    .dataframe tbody tr th:only-of-type {\n",
       "        vertical-align: middle;\n",
       "    }\n",
       "\n",
       "    .dataframe tbody tr th {\n",
       "        vertical-align: top;\n",
       "    }\n",
       "\n",
       "    .dataframe thead th {\n",
       "        text-align: right;\n",
       "    }\n",
       "</style>\n",
       "<table border=\"1\" class=\"dataframe\">\n",
       "  <thead>\n",
       "    <tr style=\"text-align: right;\">\n",
       "      <th></th>\n",
       "      <th>Year</th>\n",
       "      <th>All Ages in Poverty Percent</th>\n",
       "      <th>Lat</th>\n",
       "      <th>Lng</th>\n",
       "    </tr>\n",
       "    <tr>\n",
       "      <th>County ID</th>\n",
       "      <th></th>\n",
       "      <th></th>\n",
       "      <th></th>\n",
       "      <th></th>\n",
       "    </tr>\n",
       "  </thead>\n",
       "  <tbody>\n",
       "    <tr>\n",
       "      <th>1001</th>\n",
       "      <td>2011.5</td>\n",
       "      <td>12.46</td>\n",
       "      <td>32.532237</td>\n",
       "      <td>-86.646440</td>\n",
       "    </tr>\n",
       "    <tr>\n",
       "      <th>1003</th>\n",
       "      <td>2011.5</td>\n",
       "      <td>12.59</td>\n",
       "      <td>30.659218</td>\n",
       "      <td>-87.746067</td>\n",
       "    </tr>\n",
       "    <tr>\n",
       "      <th>1005</th>\n",
       "      <td>2011.5</td>\n",
       "      <td>28.27</td>\n",
       "      <td>31.870253</td>\n",
       "      <td>-85.405104</td>\n",
       "    </tr>\n",
       "    <tr>\n",
       "      <th>1007</th>\n",
       "      <td>2011.5</td>\n",
       "      <td>20.29</td>\n",
       "      <td>33.015893</td>\n",
       "      <td>-87.127148</td>\n",
       "    </tr>\n",
       "    <tr>\n",
       "      <th>1009</th>\n",
       "      <td>2011.5</td>\n",
       "      <td>15.19</td>\n",
       "      <td>33.977358</td>\n",
       "      <td>-86.566440</td>\n",
       "    </tr>\n",
       "  </tbody>\n",
       "</table>\n",
       "</div>"
      ],
      "text/plain": [
       "             Year  All Ages in Poverty Percent        Lat        Lng\n",
       "County ID                                                           \n",
       "1001       2011.5                        12.46  32.532237 -86.646440\n",
       "1003       2011.5                        12.59  30.659218 -87.746067\n",
       "1005       2011.5                        28.27  31.870253 -85.405104\n",
       "1007       2011.5                        20.29  33.015893 -87.127148\n",
       "1009       2011.5                        15.19  33.977358 -86.566440"
      ]
     },
     "execution_count": 16,
     "metadata": {},
     "output_type": "execute_result"
    }
   ],
   "source": [
    "merge_group.head()"
   ]
  },
  {
   "cell_type": "code",
   "execution_count": 17,
   "metadata": {},
   "outputs": [],
   "source": [
    "#load API key\n",
    "gmaps.configure(api_key=gkey)"
   ]
  },
  {
   "cell_type": "code",
   "execution_count": 18,
   "metadata": {},
   "outputs": [],
   "source": [
    "#construct heat map of poverty levels from 2007-2016\n",
    "locations = merge_group[[\"Lat\", \"Lng\"]].astype(float)\n",
    "poverty_rate = merge_group[\"All Ages in Poverty Percent\"].astype(float)\n",
    "fig = gmaps.figure()\n",
    "heat_layer = gmaps.heatmap_layer(locations, weights=poverty_rate, \n",
    "                                 dissipating=False, max_intensity=100,\n",
    "                                 point_radius = .7)"
   ]
  },
  {
   "cell_type": "code",
   "execution_count": 19,
   "metadata": {},
   "outputs": [
    {
     "data": {
      "application/vnd.jupyter.widget-view+json": {
       "model_id": "5c1dc72711d64ba4927da12b863a0b43",
       "version_major": 2,
       "version_minor": 0
      },
      "text/plain": [
       "Figure(layout=FigureLayout(height='420px'))"
      ]
     },
     "metadata": {},
     "output_type": "display_data"
    }
   ],
   "source": [
    "fig.add_layer(heat_layer)\n",
    "\n",
    "fig"
   ]
  },
  {
   "cell_type": "code",
   "execution_count": 20,
   "metadata": {},
   "outputs": [],
   "source": [
    "#read CDC data on top 15 states for infant death rates\n",
    "death_rates_state_top_df = pd.read_csv('death_rates_state_top.csv')"
   ]
  },
  {
   "cell_type": "code",
   "execution_count": 21,
   "metadata": {},
   "outputs": [
    {
     "data": {
      "text/html": [
       "<div>\n",
       "<style scoped>\n",
       "    .dataframe tbody tr th:only-of-type {\n",
       "        vertical-align: middle;\n",
       "    }\n",
       "\n",
       "    .dataframe tbody tr th {\n",
       "        vertical-align: top;\n",
       "    }\n",
       "\n",
       "    .dataframe thead th {\n",
       "        text-align: right;\n",
       "    }\n",
       "</style>\n",
       "<table border=\"1\" class=\"dataframe\">\n",
       "  <thead>\n",
       "    <tr style=\"text-align: right;\">\n",
       "      <th></th>\n",
       "      <th>State</th>\n",
       "      <th>State Code</th>\n",
       "      <th>Deaths</th>\n",
       "      <th>Births</th>\n",
       "      <th>Death Rate</th>\n",
       "      <th>Lat</th>\n",
       "      <th>Lng</th>\n",
       "    </tr>\n",
       "  </thead>\n",
       "  <tbody>\n",
       "    <tr>\n",
       "      <th>0</th>\n",
       "      <td>Mississippi</td>\n",
       "      <td>28</td>\n",
       "      <td>3823</td>\n",
       "      <td>406596</td>\n",
       "      <td>9.40</td>\n",
       "      <td>32.741646</td>\n",
       "      <td>-89.678696</td>\n",
       "    </tr>\n",
       "    <tr>\n",
       "      <th>1</th>\n",
       "      <td>Alabama</td>\n",
       "      <td>1</td>\n",
       "      <td>5349</td>\n",
       "      <td>606074</td>\n",
       "      <td>8.83</td>\n",
       "      <td>32.806671</td>\n",
       "      <td>-86.791130</td>\n",
       "    </tr>\n",
       "    <tr>\n",
       "      <th>2</th>\n",
       "      <td>District of Columbia</td>\n",
       "      <td>11</td>\n",
       "      <td>812</td>\n",
       "      <td>93126</td>\n",
       "      <td>8.72</td>\n",
       "      <td>38.897438</td>\n",
       "      <td>-77.026817</td>\n",
       "    </tr>\n",
       "    <tr>\n",
       "      <th>3</th>\n",
       "      <td>Louisiana</td>\n",
       "      <td>22</td>\n",
       "      <td>5287</td>\n",
       "      <td>639021</td>\n",
       "      <td>8.27</td>\n",
       "      <td>31.169546</td>\n",
       "      <td>-91.867805</td>\n",
       "    </tr>\n",
       "    <tr>\n",
       "      <th>4</th>\n",
       "      <td>Delaware</td>\n",
       "      <td>10</td>\n",
       "      <td>886</td>\n",
       "      <td>113424</td>\n",
       "      <td>7.81</td>\n",
       "      <td>39.318523</td>\n",
       "      <td>-75.507141</td>\n",
       "    </tr>\n",
       "    <tr>\n",
       "      <th>5</th>\n",
       "      <td>Oklahoma</td>\n",
       "      <td>40</td>\n",
       "      <td>4044</td>\n",
       "      <td>535082</td>\n",
       "      <td>7.56</td>\n",
       "      <td>35.565342</td>\n",
       "      <td>-96.928917</td>\n",
       "    </tr>\n",
       "    <tr>\n",
       "      <th>6</th>\n",
       "      <td>Arkansas</td>\n",
       "      <td>5</td>\n",
       "      <td>2950</td>\n",
       "      <td>390960</td>\n",
       "      <td>7.55</td>\n",
       "      <td>34.969704</td>\n",
       "      <td>-92.373123</td>\n",
       "    </tr>\n",
       "    <tr>\n",
       "      <th>7</th>\n",
       "      <td>North Carolina</td>\n",
       "      <td>37</td>\n",
       "      <td>9279</td>\n",
       "      <td>1232890</td>\n",
       "      <td>7.53</td>\n",
       "      <td>35.630066</td>\n",
       "      <td>-79.806419</td>\n",
       "    </tr>\n",
       "    <tr>\n",
       "      <th>8</th>\n",
       "      <td>Ohio</td>\n",
       "      <td>39</td>\n",
       "      <td>10648</td>\n",
       "      <td>1415822</td>\n",
       "      <td>7.52</td>\n",
       "      <td>40.388783</td>\n",
       "      <td>-82.764915</td>\n",
       "    </tr>\n",
       "    <tr>\n",
       "      <th>9</th>\n",
       "      <td>Tennessee</td>\n",
       "      <td>47</td>\n",
       "      <td>6140</td>\n",
       "      <td>818022</td>\n",
       "      <td>7.51</td>\n",
       "      <td>35.747845</td>\n",
       "      <td>-86.692345</td>\n",
       "    </tr>\n",
       "    <tr>\n",
       "      <th>10</th>\n",
       "      <td>Indiana</td>\n",
       "      <td>18</td>\n",
       "      <td>6228</td>\n",
       "      <td>850460</td>\n",
       "      <td>7.32</td>\n",
       "      <td>39.849426</td>\n",
       "      <td>-86.258278</td>\n",
       "    </tr>\n",
       "    <tr>\n",
       "      <th>11</th>\n",
       "      <td>South Carolina</td>\n",
       "      <td>45</td>\n",
       "      <td>4308</td>\n",
       "      <td>589359</td>\n",
       "      <td>7.31</td>\n",
       "      <td>33.856892</td>\n",
       "      <td>-80.945007</td>\n",
       "    </tr>\n",
       "    <tr>\n",
       "      <th>12</th>\n",
       "      <td>Georgia</td>\n",
       "      <td>13</td>\n",
       "      <td>9865</td>\n",
       "      <td>1356893</td>\n",
       "      <td>7.27</td>\n",
       "      <td>33.040619</td>\n",
       "      <td>-83.643074</td>\n",
       "    </tr>\n",
       "    <tr>\n",
       "      <th>13</th>\n",
       "      <td>West Virginia</td>\n",
       "      <td>54</td>\n",
       "      <td>1503</td>\n",
       "      <td>206787</td>\n",
       "      <td>7.27</td>\n",
       "      <td>38.491226</td>\n",
       "      <td>-80.954453</td>\n",
       "    </tr>\n",
       "    <tr>\n",
       "      <th>14</th>\n",
       "      <td>Michigan</td>\n",
       "      <td>26</td>\n",
       "      <td>8134</td>\n",
       "      <td>1159803</td>\n",
       "      <td>7.01</td>\n",
       "      <td>43.326618</td>\n",
       "      <td>-84.536095</td>\n",
       "    </tr>\n",
       "  </tbody>\n",
       "</table>\n",
       "</div>"
      ],
      "text/plain": [
       "                   State  State Code  Deaths   Births  Death Rate        Lat  \\\n",
       "0            Mississippi          28    3823   406596        9.40  32.741646   \n",
       "1                Alabama           1    5349   606074        8.83  32.806671   \n",
       "2   District of Columbia          11     812    93126        8.72  38.897438   \n",
       "3              Louisiana          22    5287   639021        8.27  31.169546   \n",
       "4               Delaware          10     886   113424        7.81  39.318523   \n",
       "5               Oklahoma          40    4044   535082        7.56  35.565342   \n",
       "6               Arkansas           5    2950   390960        7.55  34.969704   \n",
       "7         North Carolina          37    9279  1232890        7.53  35.630066   \n",
       "8                   Ohio          39   10648  1415822        7.52  40.388783   \n",
       "9              Tennessee          47    6140   818022        7.51  35.747845   \n",
       "10               Indiana          18    6228   850460        7.32  39.849426   \n",
       "11        South Carolina          45    4308   589359        7.31  33.856892   \n",
       "12               Georgia          13    9865  1356893        7.27  33.040619   \n",
       "13         West Virginia          54    1503   206787        7.27  38.491226   \n",
       "14              Michigan          26    8134  1159803        7.01  43.326618   \n",
       "\n",
       "          Lng  \n",
       "0  -89.678696  \n",
       "1  -86.791130  \n",
       "2  -77.026817  \n",
       "3  -91.867805  \n",
       "4  -75.507141  \n",
       "5  -96.928917  \n",
       "6  -92.373123  \n",
       "7  -79.806419  \n",
       "8  -82.764915  \n",
       "9  -86.692345  \n",
       "10 -86.258278  \n",
       "11 -80.945007  \n",
       "12 -83.643074  \n",
       "13 -80.954453  \n",
       "14 -84.536095  "
      ]
     },
     "execution_count": 21,
     "metadata": {},
     "output_type": "execute_result"
    }
   ],
   "source": [
    "death_rates_state_top_df"
   ]
  },
  {
   "cell_type": "code",
   "execution_count": 22,
   "metadata": {},
   "outputs": [
    {
     "data": {
      "application/vnd.jupyter.widget-view+json": {
       "model_id": "b86c9f17cb2544f7ae4e3ebfa6af10b2",
       "version_major": 2,
       "version_minor": 0
      },
      "text/plain": [
       "Figure(layout=FigureLayout(height='420px'))"
      ]
     },
     "metadata": {},
     "output_type": "display_data"
    }
   ],
   "source": [
    "#drop location markers on the 15 states\n",
    "locations_state = death_rates_state_top_df[[\"Lat\", \"Lng\"]].astype(float)\n",
    "state_layer = gmaps.symbol_layer(\n",
    "    locations_state, fill_color='rgba(0, 150, 0, 0.4)',\n",
    "    stroke_color='rgba(0, 0, 150, 0.4)', scale=4)\n",
    "\n",
    "#state_layer.markers[10].scale=20\n",
    "\n",
    "\n",
    "\n",
    "fig = gmaps.figure()\n",
    "fig.add_layer(state_layer)\n",
    "\n",
    "fig"
   ]
  },
  {
   "cell_type": "code",
   "execution_count": 23,
   "metadata": {
    "scrolled": true
   },
   "outputs": [
    {
     "data": {
      "application/vnd.jupyter.widget-view+json": {
       "model_id": "120508c2e6b841a1a830dbf2f2b27b9a",
       "version_major": 2,
       "version_minor": 0
      },
      "text/plain": [
       "Figure(layout=FigureLayout(height='420px'))"
      ]
     },
     "metadata": {},
     "output_type": "display_data"
    }
   ],
   "source": [
    "#combine poverty heatmap with state location\n",
    "fig = gmaps.figure()\n",
    "\n",
    "fig.add_layer(heat_layer)\n",
    "fig.add_layer(state_layer)\n",
    "\n",
    "fig"
   ]
  },
  {
   "cell_type": "code",
   "execution_count": 24,
   "metadata": {},
   "outputs": [],
   "source": [
    "#read CDC data on death rates per county for 2006-2017\n",
    "death_rates_county = pd.read_csv('death_rates.csv')"
   ]
  },
  {
   "cell_type": "code",
   "execution_count": 64,
   "metadata": {},
   "outputs": [
    {
     "data": {
      "text/html": [
       "<div>\n",
       "<style scoped>\n",
       "    .dataframe tbody tr th:only-of-type {\n",
       "        vertical-align: middle;\n",
       "    }\n",
       "\n",
       "    .dataframe tbody tr th {\n",
       "        vertical-align: top;\n",
       "    }\n",
       "\n",
       "    .dataframe thead th {\n",
       "        text-align: right;\n",
       "    }\n",
       "</style>\n",
       "<table border=\"1\" class=\"dataframe\">\n",
       "  <thead>\n",
       "    <tr style=\"text-align: right;\">\n",
       "      <th></th>\n",
       "      <th>County</th>\n",
       "      <th>County ID</th>\n",
       "      <th>Deaths</th>\n",
       "      <th>Births</th>\n",
       "      <th>Death Rate</th>\n",
       "    </tr>\n",
       "  </thead>\n",
       "  <tbody>\n",
       "    <tr>\n",
       "      <th>0</th>\n",
       "      <td>Jefferson County, AL</td>\n",
       "      <td>1073</td>\n",
       "      <td>983</td>\n",
       "      <td>91579</td>\n",
       "      <td>10.73</td>\n",
       "    </tr>\n",
       "    <tr>\n",
       "      <th>1</th>\n",
       "      <td>Madison County, AL</td>\n",
       "      <td>1089</td>\n",
       "      <td>332</td>\n",
       "      <td>41740</td>\n",
       "      <td>7.95</td>\n",
       "    </tr>\n",
       "    <tr>\n",
       "      <th>2</th>\n",
       "      <td>Mobile County, AL</td>\n",
       "      <td>1097</td>\n",
       "      <td>512</td>\n",
       "      <td>57785</td>\n",
       "      <td>8.86</td>\n",
       "    </tr>\n",
       "    <tr>\n",
       "      <th>3</th>\n",
       "      <td>Unidentified Counties, AL</td>\n",
       "      <td>1999</td>\n",
       "      <td>3522</td>\n",
       "      <td>414970</td>\n",
       "      <td>8.49</td>\n",
       "    </tr>\n",
       "    <tr>\n",
       "      <th>4</th>\n",
       "      <td>Anchorage Borough, AK</td>\n",
       "      <td>2020</td>\n",
       "      <td>234</td>\n",
       "      <td>46436</td>\n",
       "      <td>5.04</td>\n",
       "    </tr>\n",
       "  </tbody>\n",
       "</table>\n",
       "</div>"
      ],
      "text/plain": [
       "                      County  County ID  Deaths  Births  Death Rate\n",
       "0       Jefferson County, AL       1073     983   91579       10.73\n",
       "1         Madison County, AL       1089     332   41740        7.95\n",
       "2          Mobile County, AL       1097     512   57785        8.86\n",
       "3  Unidentified Counties, AL       1999    3522  414970        8.49\n",
       "4      Anchorage Borough, AK       2020     234   46436        5.04"
      ]
     },
     "execution_count": 64,
     "metadata": {},
     "output_type": "execute_result"
    }
   ],
   "source": [
    "death_rates_county.head()"
   ]
  },
  {
   "cell_type": "code",
   "execution_count": 26,
   "metadata": {},
   "outputs": [],
   "source": [
    "death_rates_county = death_rates_county.rename(columns={\"County Code\": \"County ID\"})"
   ]
  },
  {
   "cell_type": "code",
   "execution_count": 27,
   "metadata": {},
   "outputs": [
    {
     "data": {
      "text/html": [
       "<div>\n",
       "<style scoped>\n",
       "    .dataframe tbody tr th:only-of-type {\n",
       "        vertical-align: middle;\n",
       "    }\n",
       "\n",
       "    .dataframe tbody tr th {\n",
       "        vertical-align: top;\n",
       "    }\n",
       "\n",
       "    .dataframe thead th {\n",
       "        text-align: right;\n",
       "    }\n",
       "</style>\n",
       "<table border=\"1\" class=\"dataframe\">\n",
       "  <thead>\n",
       "    <tr style=\"text-align: right;\">\n",
       "      <th></th>\n",
       "      <th>County</th>\n",
       "      <th>County ID</th>\n",
       "      <th>Deaths</th>\n",
       "      <th>Births</th>\n",
       "      <th>Death Rate</th>\n",
       "    </tr>\n",
       "  </thead>\n",
       "  <tbody>\n",
       "    <tr>\n",
       "      <th>0</th>\n",
       "      <td>Jefferson County, AL</td>\n",
       "      <td>1073</td>\n",
       "      <td>983</td>\n",
       "      <td>91579</td>\n",
       "      <td>10.73</td>\n",
       "    </tr>\n",
       "    <tr>\n",
       "      <th>1</th>\n",
       "      <td>Madison County, AL</td>\n",
       "      <td>1089</td>\n",
       "      <td>332</td>\n",
       "      <td>41740</td>\n",
       "      <td>7.95</td>\n",
       "    </tr>\n",
       "    <tr>\n",
       "      <th>2</th>\n",
       "      <td>Mobile County, AL</td>\n",
       "      <td>1097</td>\n",
       "      <td>512</td>\n",
       "      <td>57785</td>\n",
       "      <td>8.86</td>\n",
       "    </tr>\n",
       "    <tr>\n",
       "      <th>3</th>\n",
       "      <td>Unidentified Counties, AL</td>\n",
       "      <td>1999</td>\n",
       "      <td>3522</td>\n",
       "      <td>414970</td>\n",
       "      <td>8.49</td>\n",
       "    </tr>\n",
       "    <tr>\n",
       "      <th>4</th>\n",
       "      <td>Anchorage Borough, AK</td>\n",
       "      <td>2020</td>\n",
       "      <td>234</td>\n",
       "      <td>46436</td>\n",
       "      <td>5.04</td>\n",
       "    </tr>\n",
       "  </tbody>\n",
       "</table>\n",
       "</div>"
      ],
      "text/plain": [
       "                      County  County ID  Deaths  Births  Death Rate\n",
       "0       Jefferson County, AL       1073     983   91579       10.73\n",
       "1         Madison County, AL       1089     332   41740        7.95\n",
       "2          Mobile County, AL       1097     512   57785        8.86\n",
       "3  Unidentified Counties, AL       1999    3522  414970        8.49\n",
       "4      Anchorage Borough, AK       2020     234   46436        5.04"
      ]
     },
     "execution_count": 27,
     "metadata": {},
     "output_type": "execute_result"
    }
   ],
   "source": [
    "death_rates_county.head()"
   ]
  },
  {
   "cell_type": "code",
   "execution_count": 28,
   "metadata": {},
   "outputs": [],
   "source": [
    "#merge CDC data on death rates per county with poverty and county location data\n",
    "regress_df = pd.merge(death_rates_county, merge_group, on=\"County ID\", how=\"left\")"
   ]
  },
  {
   "cell_type": "code",
   "execution_count": 65,
   "metadata": {},
   "outputs": [
    {
     "data": {
      "text/html": [
       "<div>\n",
       "<style scoped>\n",
       "    .dataframe tbody tr th:only-of-type {\n",
       "        vertical-align: middle;\n",
       "    }\n",
       "\n",
       "    .dataframe tbody tr th {\n",
       "        vertical-align: top;\n",
       "    }\n",
       "\n",
       "    .dataframe thead th {\n",
       "        text-align: right;\n",
       "    }\n",
       "</style>\n",
       "<table border=\"1\" class=\"dataframe\">\n",
       "  <thead>\n",
       "    <tr style=\"text-align: right;\">\n",
       "      <th></th>\n",
       "      <th>County</th>\n",
       "      <th>County ID</th>\n",
       "      <th>Deaths</th>\n",
       "      <th>Births</th>\n",
       "      <th>Death Rate</th>\n",
       "      <th>Year</th>\n",
       "      <th>All Ages in Poverty Percent</th>\n",
       "      <th>Lat</th>\n",
       "      <th>Lng</th>\n",
       "    </tr>\n",
       "  </thead>\n",
       "  <tbody>\n",
       "    <tr>\n",
       "      <th>0</th>\n",
       "      <td>Jefferson County, AL</td>\n",
       "      <td>1073</td>\n",
       "      <td>983</td>\n",
       "      <td>91579</td>\n",
       "      <td>10.73</td>\n",
       "      <td>2011.5</td>\n",
       "      <td>17.30</td>\n",
       "      <td>33.553444</td>\n",
       "      <td>-86.896536</td>\n",
       "    </tr>\n",
       "    <tr>\n",
       "      <th>1</th>\n",
       "      <td>Madison County, AL</td>\n",
       "      <td>1089</td>\n",
       "      <td>332</td>\n",
       "      <td>41740</td>\n",
       "      <td>7.95</td>\n",
       "      <td>2011.5</td>\n",
       "      <td>12.69</td>\n",
       "      <td>34.764238</td>\n",
       "      <td>-86.551080</td>\n",
       "    </tr>\n",
       "    <tr>\n",
       "      <th>2</th>\n",
       "      <td>Mobile County, AL</td>\n",
       "      <td>1097</td>\n",
       "      <td>512</td>\n",
       "      <td>57785</td>\n",
       "      <td>8.86</td>\n",
       "      <td>2011.5</td>\n",
       "      <td>19.71</td>\n",
       "      <td>30.684572</td>\n",
       "      <td>-88.196568</td>\n",
       "    </tr>\n",
       "    <tr>\n",
       "      <th>4</th>\n",
       "      <td>Anchorage Borough, AK</td>\n",
       "      <td>2020</td>\n",
       "      <td>234</td>\n",
       "      <td>46436</td>\n",
       "      <td>5.04</td>\n",
       "      <td>2011.5</td>\n",
       "      <td>8.35</td>\n",
       "      <td>61.174250</td>\n",
       "      <td>-149.284329</td>\n",
       "    </tr>\n",
       "    <tr>\n",
       "      <th>6</th>\n",
       "      <td>Maricopa County, AZ</td>\n",
       "      <td>4013</td>\n",
       "      <td>3291</td>\n",
       "      <td>567145</td>\n",
       "      <td>5.80</td>\n",
       "      <td>2011.5</td>\n",
       "      <td>15.88</td>\n",
       "      <td>33.346541</td>\n",
       "      <td>-112.495534</td>\n",
       "    </tr>\n",
       "  </tbody>\n",
       "</table>\n",
       "</div>"
      ],
      "text/plain": [
       "                  County  County ID  Deaths  Births  Death Rate    Year  \\\n",
       "0   Jefferson County, AL       1073     983   91579       10.73  2011.5   \n",
       "1     Madison County, AL       1089     332   41740        7.95  2011.5   \n",
       "2      Mobile County, AL       1097     512   57785        8.86  2011.5   \n",
       "4  Anchorage Borough, AK       2020     234   46436        5.04  2011.5   \n",
       "6    Maricopa County, AZ       4013    3291  567145        5.80  2011.5   \n",
       "\n",
       "   All Ages in Poverty Percent        Lat         Lng  \n",
       "0                        17.30  33.553444  -86.896536  \n",
       "1                        12.69  34.764238  -86.551080  \n",
       "2                        19.71  30.684572  -88.196568  \n",
       "4                         8.35  61.174250 -149.284329  \n",
       "6                        15.88  33.346541 -112.495534  "
      ]
     },
     "execution_count": 65,
     "metadata": {},
     "output_type": "execute_result"
    }
   ],
   "source": [
    "regress_df.head()"
   ]
  },
  {
   "cell_type": "code",
   "execution_count": 30,
   "metadata": {},
   "outputs": [],
   "source": [
    "#remove all rows with missing values\n",
    "regress_df = regress_df.dropna(how=\"any\")"
   ]
  },
  {
   "cell_type": "code",
   "execution_count": 66,
   "metadata": {},
   "outputs": [
    {
     "data": {
      "text/html": [
       "<div>\n",
       "<style scoped>\n",
       "    .dataframe tbody tr th:only-of-type {\n",
       "        vertical-align: middle;\n",
       "    }\n",
       "\n",
       "    .dataframe tbody tr th {\n",
       "        vertical-align: top;\n",
       "    }\n",
       "\n",
       "    .dataframe thead th {\n",
       "        text-align: right;\n",
       "    }\n",
       "</style>\n",
       "<table border=\"1\" class=\"dataframe\">\n",
       "  <thead>\n",
       "    <tr style=\"text-align: right;\">\n",
       "      <th></th>\n",
       "      <th>County</th>\n",
       "      <th>County ID</th>\n",
       "      <th>Deaths</th>\n",
       "      <th>Births</th>\n",
       "      <th>Death Rate</th>\n",
       "      <th>Year</th>\n",
       "      <th>All Ages in Poverty Percent</th>\n",
       "      <th>Lat</th>\n",
       "      <th>Lng</th>\n",
       "    </tr>\n",
       "  </thead>\n",
       "  <tbody>\n",
       "    <tr>\n",
       "      <th>0</th>\n",
       "      <td>Jefferson County, AL</td>\n",
       "      <td>1073</td>\n",
       "      <td>983</td>\n",
       "      <td>91579</td>\n",
       "      <td>10.73</td>\n",
       "      <td>2011.5</td>\n",
       "      <td>17.30</td>\n",
       "      <td>33.553444</td>\n",
       "      <td>-86.896536</td>\n",
       "    </tr>\n",
       "    <tr>\n",
       "      <th>1</th>\n",
       "      <td>Madison County, AL</td>\n",
       "      <td>1089</td>\n",
       "      <td>332</td>\n",
       "      <td>41740</td>\n",
       "      <td>7.95</td>\n",
       "      <td>2011.5</td>\n",
       "      <td>12.69</td>\n",
       "      <td>34.764238</td>\n",
       "      <td>-86.551080</td>\n",
       "    </tr>\n",
       "    <tr>\n",
       "      <th>2</th>\n",
       "      <td>Mobile County, AL</td>\n",
       "      <td>1097</td>\n",
       "      <td>512</td>\n",
       "      <td>57785</td>\n",
       "      <td>8.86</td>\n",
       "      <td>2011.5</td>\n",
       "      <td>19.71</td>\n",
       "      <td>30.684572</td>\n",
       "      <td>-88.196568</td>\n",
       "    </tr>\n",
       "    <tr>\n",
       "      <th>4</th>\n",
       "      <td>Anchorage Borough, AK</td>\n",
       "      <td>2020</td>\n",
       "      <td>234</td>\n",
       "      <td>46436</td>\n",
       "      <td>5.04</td>\n",
       "      <td>2011.5</td>\n",
       "      <td>8.35</td>\n",
       "      <td>61.174250</td>\n",
       "      <td>-149.284329</td>\n",
       "    </tr>\n",
       "    <tr>\n",
       "      <th>6</th>\n",
       "      <td>Maricopa County, AZ</td>\n",
       "      <td>4013</td>\n",
       "      <td>3291</td>\n",
       "      <td>567145</td>\n",
       "      <td>5.80</td>\n",
       "      <td>2011.5</td>\n",
       "      <td>15.88</td>\n",
       "      <td>33.346541</td>\n",
       "      <td>-112.495534</td>\n",
       "    </tr>\n",
       "  </tbody>\n",
       "</table>\n",
       "</div>"
      ],
      "text/plain": [
       "                  County  County ID  Deaths  Births  Death Rate    Year  \\\n",
       "0   Jefferson County, AL       1073     983   91579       10.73  2011.5   \n",
       "1     Madison County, AL       1089     332   41740        7.95  2011.5   \n",
       "2      Mobile County, AL       1097     512   57785        8.86  2011.5   \n",
       "4  Anchorage Borough, AK       2020     234   46436        5.04  2011.5   \n",
       "6    Maricopa County, AZ       4013    3291  567145        5.80  2011.5   \n",
       "\n",
       "   All Ages in Poverty Percent        Lat         Lng  \n",
       "0                        17.30  33.553444  -86.896536  \n",
       "1                        12.69  34.764238  -86.551080  \n",
       "2                        19.71  30.684572  -88.196568  \n",
       "4                         8.35  61.174250 -149.284329  \n",
       "6                        15.88  33.346541 -112.495534  "
      ]
     },
     "execution_count": 66,
     "metadata": {},
     "output_type": "execute_result"
    }
   ],
   "source": [
    "regress_df.head()"
   ]
  },
  {
   "cell_type": "code",
   "execution_count": 32,
   "metadata": {},
   "outputs": [],
   "source": [
    "#define x and y axis for regression analsys\n",
    "x_axis = regress_df[\"All Ages in Poverty Percent\"]\n",
    "y_axis = regress_df[\"Death Rate\"]"
   ]
  },
  {
   "cell_type": "code",
   "execution_count": 33,
   "metadata": {},
   "outputs": [],
   "source": [
    "(slope, intercept, _, _, _) = linregress(x_axis, y_axis)\n",
    "fit = slope * x_axis + intercept"
   ]
  },
  {
   "cell_type": "code",
   "execution_count": 34,
   "metadata": {},
   "outputs": [],
   "source": [
    "#calculate statistical values\n",
    "slope, intercept, r_value, p_value, std_err = linregress(x_axis, y_axis)"
   ]
  },
  {
   "cell_type": "code",
   "execution_count": 35,
   "metadata": {},
   "outputs": [
    {
     "data": {
      "image/png": "[encoded data removed]",
      "text/plain": [
       "<Figure size 432x288 with 1 Axes>"
      ]
     },
     "metadata": {
      "needs_background": "light"
     },
     "output_type": "display_data"
    }
   ],
   "source": [
    "#perform linear regression of death rate versus poverty\n",
    "fig, ax = plt.subplots()\n",
    "\n",
    "fig.suptitle(\"Death Rate v Poverty 2007-2016\", fontsize=16, fontweight=\"bold\")\n",
    "\n",
    "ax.set_xlim(0,35)\n",
    "ax.set_ylim(0,15)\n",
    "\n",
    "ax.set_xlabel(\"Poverty Rate (%)\")\n",
    "ax.set_ylabel(\"Death Rate (%)\")\n",
    "\n",
    "ax.plot(x_axis, y_axis, linewidth=0, marker='o')\n",
    "ax.plot(x_axis, fit, 'b--')\n",
    "\n",
    "plt.show()"
   ]
  },
  {
   "cell_type": "code",
   "execution_count": 36,
   "metadata": {},
   "outputs": [
    {
     "data": {
      "text/plain": [
       "9.850728813612898e-18"
      ]
     },
     "execution_count": 36,
     "metadata": {},
     "output_type": "execute_result"
    }
   ],
   "source": [
    "p_value"
   ]
  },
  {
   "cell_type": "code",
   "execution_count": 38,
   "metadata": {},
   "outputs": [],
   "source": [
    "#start health insurance analysis\n",
    "insurance_df = pd.read_csv(\"insurance.csv\")"
   ]
  },
  {
   "cell_type": "code",
   "execution_count": 39,
   "metadata": {},
   "outputs": [
    {
     "data": {
      "text/html": [
       "<div>\n",
       "<style scoped>\n",
       "    .dataframe tbody tr th:only-of-type {\n",
       "        vertical-align: middle;\n",
       "    }\n",
       "\n",
       "    .dataframe tbody tr th {\n",
       "        vertical-align: top;\n",
       "    }\n",
       "\n",
       "    .dataframe thead th {\n",
       "        text-align: right;\n",
       "    }\n",
       "</style>\n",
       "<table border=\"1\" class=\"dataframe\">\n",
       "  <thead>\n",
       "    <tr style=\"text-align: right;\">\n",
       "      <th></th>\n",
       "      <th>State</th>\n",
       "      <th>Year</th>\n",
       "      <th>Total</th>\n",
       "      <th>Private</th>\n",
       "      <th>Public</th>\n",
       "    </tr>\n",
       "  </thead>\n",
       "  <tbody>\n",
       "    <tr>\n",
       "      <th>0</th>\n",
       "      <td>Alabama</td>\n",
       "      <td>2017.0</td>\n",
       "      <td>96.9</td>\n",
       "      <td>55.0</td>\n",
       "      <td>45.8</td>\n",
       "    </tr>\n",
       "    <tr>\n",
       "      <th>1</th>\n",
       "      <td>Alabama</td>\n",
       "      <td>2016.0</td>\n",
       "      <td>97.3</td>\n",
       "      <td>55.8</td>\n",
       "      <td>44.8</td>\n",
       "    </tr>\n",
       "    <tr>\n",
       "      <th>2</th>\n",
       "      <td>Alabama</td>\n",
       "      <td>2015.0</td>\n",
       "      <td>96.8</td>\n",
       "      <td>55.9</td>\n",
       "      <td>45.0</td>\n",
       "    </tr>\n",
       "    <tr>\n",
       "      <th>3</th>\n",
       "      <td>Alabama</td>\n",
       "      <td>2014.0</td>\n",
       "      <td>95.8</td>\n",
       "      <td>55.2</td>\n",
       "      <td>44.4</td>\n",
       "    </tr>\n",
       "    <tr>\n",
       "      <th>4</th>\n",
       "      <td>Alabama</td>\n",
       "      <td>2013.0</td>\n",
       "      <td>95.2</td>\n",
       "      <td>55.5</td>\n",
       "      <td>43.6</td>\n",
       "    </tr>\n",
       "  </tbody>\n",
       "</table>\n",
       "</div>"
      ],
      "text/plain": [
       "     State    Year  Total  Private  Public\n",
       "0  Alabama  2017.0   96.9     55.0    45.8\n",
       "1  Alabama  2016.0   97.3     55.8    44.8\n",
       "2  Alabama  2015.0   96.8     55.9    45.0\n",
       "3  Alabama  2014.0   95.8     55.2    44.4\n",
       "4  Alabama  2013.0   95.2     55.5    43.6"
      ]
     },
     "execution_count": 39,
     "metadata": {},
     "output_type": "execute_result"
    }
   ],
   "source": [
    "insurance_df.head()"
   ]
  },
  {
   "cell_type": "code",
   "execution_count": 40,
   "metadata": {},
   "outputs": [],
   "source": [
    "death_rates_state = pd.read_csv(\"death_rates_state.txt\", delimiter=\"\\t\")"
   ]
  },
  {
   "cell_type": "code",
   "execution_count": 41,
   "metadata": {},
   "outputs": [],
   "source": [
    "death_rates_state = death_rates_state[[\"State\",\"Death Rate\"]]"
   ]
  },
  {
   "cell_type": "code",
   "execution_count": 42,
   "metadata": {},
   "outputs": [],
   "source": [
    "death_rates_state = death_rates_state.dropna(how=\"any\")"
   ]
  },
  {
   "cell_type": "code",
   "execution_count": 43,
   "metadata": {},
   "outputs": [
    {
     "data": {
      "text/html": [
       "<div>\n",
       "<style scoped>\n",
       "    .dataframe tbody tr th:only-of-type {\n",
       "        vertical-align: middle;\n",
       "    }\n",
       "\n",
       "    .dataframe tbody tr th {\n",
       "        vertical-align: top;\n",
       "    }\n",
       "\n",
       "    .dataframe thead th {\n",
       "        text-align: right;\n",
       "    }\n",
       "</style>\n",
       "<table border=\"1\" class=\"dataframe\">\n",
       "  <thead>\n",
       "    <tr style=\"text-align: right;\">\n",
       "      <th></th>\n",
       "      <th>State</th>\n",
       "      <th>Death Rate</th>\n",
       "    </tr>\n",
       "  </thead>\n",
       "  <tbody>\n",
       "    <tr>\n",
       "      <th>0</th>\n",
       "      <td>Alabama</td>\n",
       "      <td>8.83</td>\n",
       "    </tr>\n",
       "    <tr>\n",
       "      <th>1</th>\n",
       "      <td>Alaska</td>\n",
       "      <td>5.65</td>\n",
       "    </tr>\n",
       "    <tr>\n",
       "      <th>2</th>\n",
       "      <td>Arizona</td>\n",
       "      <td>5.93</td>\n",
       "    </tr>\n",
       "    <tr>\n",
       "      <th>3</th>\n",
       "      <td>Arkansas</td>\n",
       "      <td>7.55</td>\n",
       "    </tr>\n",
       "    <tr>\n",
       "      <th>4</th>\n",
       "      <td>California</td>\n",
       "      <td>4.71</td>\n",
       "    </tr>\n",
       "  </tbody>\n",
       "</table>\n",
       "</div>"
      ],
      "text/plain": [
       "        State  Death Rate\n",
       "0     Alabama        8.83\n",
       "1      Alaska        5.65\n",
       "2     Arizona        5.93\n",
       "3    Arkansas        7.55\n",
       "4  California        4.71"
      ]
     },
     "execution_count": 43,
     "metadata": {},
     "output_type": "execute_result"
    }
   ],
   "source": [
    "death_rates_state.head()"
   ]
  },
  {
   "cell_type": "code",
   "execution_count": 45,
   "metadata": {},
   "outputs": [],
   "source": [
    "insurance_group = insurance_df.groupby(\"State\").mean()"
   ]
  },
  {
   "cell_type": "code",
   "execution_count": 46,
   "metadata": {},
   "outputs": [
    {
     "data": {
      "text/html": [
       "<div>\n",
       "<style scoped>\n",
       "    .dataframe tbody tr th:only-of-type {\n",
       "        vertical-align: middle;\n",
       "    }\n",
       "\n",
       "    .dataframe tbody tr th {\n",
       "        vertical-align: top;\n",
       "    }\n",
       "\n",
       "    .dataframe thead th {\n",
       "        text-align: right;\n",
       "    }\n",
       "</style>\n",
       "<table border=\"1\" class=\"dataframe\">\n",
       "  <thead>\n",
       "    <tr style=\"text-align: right;\">\n",
       "      <th></th>\n",
       "      <th>Year</th>\n",
       "      <th>Total</th>\n",
       "      <th>Private</th>\n",
       "      <th>Public</th>\n",
       "    </tr>\n",
       "    <tr>\n",
       "      <th>State</th>\n",
       "      <th></th>\n",
       "      <th></th>\n",
       "      <th></th>\n",
       "      <th></th>\n",
       "    </tr>\n",
       "  </thead>\n",
       "  <tbody>\n",
       "    <tr>\n",
       "      <th>Alabama</th>\n",
       "      <td>2012.5</td>\n",
       "      <td>95.16</td>\n",
       "      <td>56.93</td>\n",
       "      <td>41.90</td>\n",
       "    </tr>\n",
       "    <tr>\n",
       "      <th>Alaska</th>\n",
       "      <td>2012.5</td>\n",
       "      <td>87.96</td>\n",
       "      <td>60.11</td>\n",
       "      <td>32.79</td>\n",
       "    </tr>\n",
       "    <tr>\n",
       "      <th>Arizona</th>\n",
       "      <td>2012.5</td>\n",
       "      <td>88.46</td>\n",
       "      <td>54.97</td>\n",
       "      <td>36.96</td>\n",
       "    </tr>\n",
       "    <tr>\n",
       "      <th>Arkansas</th>\n",
       "      <td>2012.5</td>\n",
       "      <td>93.89</td>\n",
       "      <td>47.87</td>\n",
       "      <td>49.89</td>\n",
       "    </tr>\n",
       "    <tr>\n",
       "      <th>California</th>\n",
       "      <td>2012.5</td>\n",
       "      <td>92.96</td>\n",
       "      <td>56.08</td>\n",
       "      <td>40.19</td>\n",
       "    </tr>\n",
       "  </tbody>\n",
       "</table>\n",
       "</div>"
      ],
      "text/plain": [
       "              Year  Total  Private  Public\n",
       "State                                     \n",
       "Alabama     2012.5  95.16    56.93   41.90\n",
       "Alaska      2012.5  87.96    60.11   32.79\n",
       "Arizona     2012.5  88.46    54.97   36.96\n",
       "Arkansas    2012.5  93.89    47.87   49.89\n",
       "California  2012.5  92.96    56.08   40.19"
      ]
     },
     "execution_count": 46,
     "metadata": {},
     "output_type": "execute_result"
    }
   ],
   "source": [
    "insurance_group.head()"
   ]
  },
  {
   "cell_type": "code",
   "execution_count": 47,
   "metadata": {},
   "outputs": [],
   "source": [
    "insurance_merge = pd.merge(death_rates_state, insurance_group, on=\"State\", how=\"left\")"
   ]
  },
  {
   "cell_type": "code",
   "execution_count": 48,
   "metadata": {},
   "outputs": [
    {
     "data": {
      "text/html": [
       "<div>\n",
       "<style scoped>\n",
       "    .dataframe tbody tr th:only-of-type {\n",
       "        vertical-align: middle;\n",
       "    }\n",
       "\n",
       "    .dataframe tbody tr th {\n",
       "        vertical-align: top;\n",
       "    }\n",
       "\n",
       "    .dataframe thead th {\n",
       "        text-align: right;\n",
       "    }\n",
       "</style>\n",
       "<table border=\"1\" class=\"dataframe\">\n",
       "  <thead>\n",
       "    <tr style=\"text-align: right;\">\n",
       "      <th></th>\n",
       "      <th>State</th>\n",
       "      <th>Death Rate</th>\n",
       "      <th>Year</th>\n",
       "      <th>Total</th>\n",
       "      <th>Private</th>\n",
       "      <th>Public</th>\n",
       "    </tr>\n",
       "  </thead>\n",
       "  <tbody>\n",
       "    <tr>\n",
       "      <th>0</th>\n",
       "      <td>Alabama</td>\n",
       "      <td>8.83</td>\n",
       "      <td>2012.5</td>\n",
       "      <td>95.16</td>\n",
       "      <td>56.93</td>\n",
       "      <td>41.90</td>\n",
       "    </tr>\n",
       "    <tr>\n",
       "      <th>1</th>\n",
       "      <td>Alaska</td>\n",
       "      <td>5.65</td>\n",
       "      <td>2012.5</td>\n",
       "      <td>87.96</td>\n",
       "      <td>60.11</td>\n",
       "      <td>32.79</td>\n",
       "    </tr>\n",
       "    <tr>\n",
       "      <th>2</th>\n",
       "      <td>Arizona</td>\n",
       "      <td>5.93</td>\n",
       "      <td>2012.5</td>\n",
       "      <td>88.46</td>\n",
       "      <td>54.97</td>\n",
       "      <td>36.96</td>\n",
       "    </tr>\n",
       "    <tr>\n",
       "      <th>3</th>\n",
       "      <td>Arkansas</td>\n",
       "      <td>7.55</td>\n",
       "      <td>2012.5</td>\n",
       "      <td>93.89</td>\n",
       "      <td>47.87</td>\n",
       "      <td>49.89</td>\n",
       "    </tr>\n",
       "    <tr>\n",
       "      <th>4</th>\n",
       "      <td>California</td>\n",
       "      <td>4.71</td>\n",
       "      <td>2012.5</td>\n",
       "      <td>92.96</td>\n",
       "      <td>56.08</td>\n",
       "      <td>40.19</td>\n",
       "    </tr>\n",
       "  </tbody>\n",
       "</table>\n",
       "</div>"
      ],
      "text/plain": [
       "        State  Death Rate    Year  Total  Private  Public\n",
       "0     Alabama        8.83  2012.5  95.16    56.93   41.90\n",
       "1      Alaska        5.65  2012.5  87.96    60.11   32.79\n",
       "2     Arizona        5.93  2012.5  88.46    54.97   36.96\n",
       "3    Arkansas        7.55  2012.5  93.89    47.87   49.89\n",
       "4  California        4.71  2012.5  92.96    56.08   40.19"
      ]
     },
     "execution_count": 48,
     "metadata": {},
     "output_type": "execute_result"
    }
   ],
   "source": [
    "insurance_merge.head()"
   ]
  },
  {
   "cell_type": "code",
   "execution_count": 49,
   "metadata": {},
   "outputs": [],
   "source": [
    "x_axis = insurance_merge[\"Total\"]\n",
    "y_axis = insurance_merge[\"Death Rate\"]"
   ]
  },
  {
   "cell_type": "code",
   "execution_count": 69,
   "metadata": {},
   "outputs": [
    {
     "data": {
      "text/plain": [
       "Text(0.5,1,'Death Rate v Total Insurance Rate')"
      ]
     },
     "execution_count": 69,
     "metadata": {},
     "output_type": "execute_result"
    },
    {
     "data": {
      "image/png": "[encoded data removed]",
      "text/plain": [
       "<Figure size 432x288 with 1 Axes>"
      ]
     },
     "metadata": {
      "needs_background": "light"
     },
     "output_type": "display_data"
    }
   ],
   "source": [
    "#graph the death rate versus total rate of insurance for all states\n",
    "plt.scatter(x_axis, y_axis)\n",
    "plt.ylabel(\"Death Rate (%)\")\n",
    "plt.xlabel(\"Rate of Insurance Coverage (%)\")\n",
    "plt.title(\"Death Rate v Total Insurance Rate\")"
   ]
  },
  {
   "cell_type": "code",
   "execution_count": 51,
   "metadata": {},
   "outputs": [],
   "source": [
    "(slope, intercept, _, _, _) = linregress(x_axis, y_axis)\n",
    "fit = slope * x_axis + intercept\n",
    "slope, intercept, r_value, p_value, std_err = linregress(x_axis, y_axis)"
   ]
  },
  {
   "cell_type": "code",
   "execution_count": 52,
   "metadata": {},
   "outputs": [
    {
     "data": {
      "text/plain": [
       "0.9836866811526419"
      ]
     },
     "execution_count": 52,
     "metadata": {},
     "output_type": "execute_result"
    }
   ],
   "source": [
    "p_value"
   ]
  },
  {
   "cell_type": "code",
   "execution_count": 53,
   "metadata": {},
   "outputs": [],
   "source": [
    "x2_axis = insurance_merge[\"Public\"]"
   ]
  },
  {
   "cell_type": "code",
   "execution_count": 55,
   "metadata": {},
   "outputs": [],
   "source": [
    "insurance_merge = insurance_merge.dropna(how=\"any\")"
   ]
  },
  {
   "cell_type": "code",
   "execution_count": 56,
   "metadata": {},
   "outputs": [
    {
     "data": {
      "text/plain": [
       "State          object\n",
       "Death Rate    float64\n",
       "Year          float64\n",
       "Total         float64\n",
       "Private       float64\n",
       "Public        float64\n",
       "dtype: object"
      ]
     },
     "execution_count": 56,
     "metadata": {},
     "output_type": "execute_result"
    }
   ],
   "source": [
    "insurance_merge.dtypes"
   ]
  },
  {
   "cell_type": "code",
   "execution_count": 75,
   "metadata": {},
   "outputs": [
    {
     "data": {
      "image/png": "[encoded data removed]",
      "text/plain": [
       "<Figure size 432x288 with 1 Axes>"
      ]
     },
     "metadata": {
      "needs_background": "light"
     },
     "output_type": "display_data"
    }
   ],
   "source": [
    "#plot death rate versus rate of public insurance\n",
    "(slope, intercept, _, _, _) = linregress(x2_axis, y_axis)\n",
    "fit = slope * x2_axis + intercept\n",
    "slope, intercept, r_value, p_value, std_err = linregress(x2_axis, y_axis)\n",
    "\n",
    "fig, ax = plt.subplots()\n",
    "\n",
    "fig.suptitle(\"\", fontsize=16, fontweight=\"bold\")\n",
    "\n",
    "ax.set_xlim(10,60)\n",
    "ax.set_ylim(4,10)\n",
    "\n",
    "# ax.set_xlabel(\"Poverty Rate (%)\")\n",
    "# ax.set_ylabel(\"Death Rate (%)\")\n",
    "\n",
    "ax.plot(x2_axis, y_axis, linewidth=0, marker='o')\n",
    "ax.plot(x2_axis, fit, 'b--')\n",
    "plt.scatter(x2_axis, y_axis)\n",
    "plt.ylabel(\"Death Rate (%)\")\n",
    "plt.xlabel(\"Rate of Public Insurance Coverage (%)\")\n",
    "plt.title(\"Death Rate v Public Insurance Rate\")\n",
    "plt.show()\n"
   ]
  },
  {
   "cell_type": "code",
   "execution_count": 74,
   "metadata": {},
   "outputs": [
    {
     "data": {
      "text/plain": [
       "0.00018406689781009939"
      ]
     },
     "execution_count": 74,
     "metadata": {},
     "output_type": "execute_result"
    }
   ],
   "source": [
    "p_value"
   ]
  },
  {
   "cell_type": "code",
   "execution_count": 60,
   "metadata": {},
   "outputs": [],
   "source": [
    "x3_axis = insurance_merge[\"Private\"]"
   ]
  },
  {
   "cell_type": "code",
   "execution_count": 72,
   "metadata": {},
   "outputs": [
    {
     "data": {
      "image/png": "[encoded data removed]",
      "text/plain": [
       "<Figure size 432x288 with 1 Axes>"
      ]
     },
     "metadata": {
      "needs_background": "light"
     },
     "output_type": "display_data"
    }
   ],
   "source": [
    "#plot death rate versus rate of private insurance\n",
    "(slope, intercept, _, _, _) = linregress(x3_axis, y_axis)\n",
    "fit = slope * x3_axis + intercept\n",
    "slope, intercept, r_value, p_value, std_err = linregress(x3_axis, y_axis)\n",
    "\n",
    "fig, ax = plt.subplots()\n",
    "\n",
    "fig.suptitle(\"\", fontsize=16, fontweight=\"bold\")\n",
    "\n",
    "ax.set_xlim(40,80)\n",
    "ax.set_ylim(4,10)\n",
    "\n",
    "# ax.set_xlabel(\"Poverty Rate (%)\")\n",
    "# ax.set_ylabel(\"Death Rate (%)\")\n",
    "\n",
    "ax.plot(x3_axis, y_axis, linewidth=0, marker='o')\n",
    "ax.plot(x3_axis, fit, 'b--')\n",
    "plt.scatter(x2_axis, y_axis)\n",
    "plt.ylabel(\"Death Rate (%)\")\n",
    "plt.xlabel(\"Rate of Private Insurance Coverage (%)\")\n",
    "plt.title(\"Death Rate v Private Insurance Rate\")\n",
    "plt.show()\n"
   ]
  },
  {
   "cell_type": "code",
   "execution_count": 63,
   "metadata": {},
   "outputs": [
    {
     "data": {
      "text/plain": [
       "0.0003313122078554712"
      ]
     },
     "execution_count": 63,
     "metadata": {},
     "output_type": "execute_result"
    }
   ],
   "source": [
    "p_value"
   ]
  },
  {
   "cell_type": "code",
   "execution_count": null,
   "metadata": {},
   "outputs": [],
   "source": []
  }
 ],
 "metadata": {
  "kernelspec": {
   "display_name": "Python [conda env:PythonData]",
   "language": "python",
   "name": "pythondata"
  },
  "language_info": {
   "codemirror_mode": {
    "name": "ipython",
    "version": 3
   },
   "file_extension": ".py",
   "mimetype": "text/x-python",
   "name": "python",
   "nbconvert_exporter": "python",
   "pygments_lexer": "ipython3",
   "version": "3.7.0"
  }
 },
 "nbformat": 4,
 "nbformat_minor": 2
}
